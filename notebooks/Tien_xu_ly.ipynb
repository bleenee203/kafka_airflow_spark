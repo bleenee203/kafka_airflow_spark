{
  "cells": [
    {
      "cell_type": "code",
      "execution_count": null,
      "id": "cd236c83-409d-4808-9c00-d217457bb0f0",
      "metadata": {
        "id": "cd236c83-409d-4808-9c00-d217457bb0f0"
      },
      "outputs": [],
      "source": [
        "from pyspark.sql import SparkSession\n",
        "from pyspark.sql.functions import col, when, lit, sum\n",
        "from pyspark.ml.feature import StringIndexer\n",
        "from pyspark.sql import DataFrame\n",
        "from pyspark.sql.types import IntegerType"
      ]
    },
    {
      "cell_type": "code",
      "execution_count": null,
      "id": "c53c7cc0-993f-4421-8e73-e66a82383d34",
      "metadata": {
        "id": "c53c7cc0-993f-4421-8e73-e66a82383d34",
        "outputId": "7f4e0a9b-486b-4fb5-f4a8-4d91b86bdceb"
      },
      "outputs": [
        {
          "name": "stderr",
          "output_type": "stream",
          "text": [
            "24/11/07 12:25:31 WARN SparkSession: Using an existing Spark session; only runtime SQL configurations will take effect.\n"
          ]
        }
      ],
      "source": [
        "spark = SparkSession.builder \\\n",
        "        .appName(\"KafkaSparkStreaming\") \\\n",
        "        .master(\"spark://spark-master:7077\") \\\n",
        "        .getOrCreate()"
      ]
    },
    {
      "cell_type": "code",
      "execution_count": null,
      "id": "35cff397-32e2-4775-ad58-375b3aaab6dd",
      "metadata": {
        "id": "35cff397-32e2-4775-ad58-375b3aaab6dd"
      },
      "outputs": [],
      "source": [
        "# df = spark.read.parquet(\"hdfs://namenode:9000/raw_data\")"
      ]
    },
    {
      "cell_type": "code",
      "execution_count": null,
      "id": "189e59c1-272a-4641-808e-195fdcc99c4f",
      "metadata": {
        "id": "189e59c1-272a-4641-808e-195fdcc99c4f"
      },
      "outputs": [],
      "source": [
        "df = spark.read.parquet(\"hdfs://localhost:9000/raw_data\")"
      ]
    },
    {
      "cell_type": "code",
      "execution_count": null,
      "id": "403f395b-7cd2-477c-b371-4d2def0c7030",
      "metadata": {
        "id": "403f395b-7cd2-477c-b371-4d2def0c7030"
      },
      "outputs": [],
      "source": [
        "df.show()"
      ]
    },
    {
      "cell_type": "code",
      "execution_count": null,
      "id": "403f395b-7cd2-477c-b371-4d2def0c70301",
      "metadata": {
        "id": "403f395b-7cd2-477c-b371-4d2def0c70301"
      },
      "outputs": [],
      "source": [
        "df.printSchema()"
      ]
    },
    {
      "cell_type": "code",
      "execution_count": null,
      "id": "2df7a695-ad47-487a-af89-db60a690c15f",
      "metadata": {
        "id": "2df7a695-ad47-487a-af89-db60a690c15f"
      },
      "outputs": [],
      "source": [
        "df = df.withColumn('is_injured',\n",
        "                   when((col('number_of_persons_injured').cast(IntegerType()) +\n",
        "                         col('number_of_persons_killed').cast(IntegerType())) > 0, 1).otherwise(0))"
      ]
    },
    {
      "cell_type": "code",
      "execution_count": null,
      "id": "c9c9a008-c075-4bd7-8f8e-5403c1f8a607",
      "metadata": {
        "id": "c9c9a008-c075-4bd7-8f8e-5403c1f8a607"
      },
      "outputs": [],
      "source": [
        "# Xoa nhung cot khong can thiet\n",
        "cols_to_drop = ['latitude', 'longitude', 'on_street_name', 'off_street_name', 'number_of_persons_injured', 'number_of_pedestrians_killed',\n",
        "                'number_of_cyclist_injured', 'number_of_motorist_injured', 'number_of_motorist_killed',\n",
        "                'vehicle_type_code_3', 'vehicle_type_code_4', 'vehicle_type_code_5',\n",
        "                'crash_date', 'crash_time', 'number_of_persons_killed', 'number_of_pedestrians_injured',\n",
        "                'number_of_cyclist_killed']\n",
        "df_dropped_cols = df.drop(*cols_to_drop)"
      ]
    },
    {
      "cell_type": "code",
      "execution_count": null,
      "id": "b440b7c0-4f3f-4a32-86fe-6c4f5c16c4ca",
      "metadata": {
        "id": "b440b7c0-4f3f-4a32-86fe-6c4f5c16c4ca"
      },
      "outputs": [],
      "source": [
        "#Kiem tra du lieu thieu\n",
        "missing_counts = df_dropped_cols.select([sum(col(c).isNull().cast(\"int\")).alias(c) for c in df.columns])\n",
        "missing_counts.show()"
      ]
    },
    {
      "cell_type": "code",
      "execution_count": null,
      "id": "106f25f9-a31f-4940-81cb-80488015a8c1",
      "metadata": {
        "id": "106f25f9-a31f-4940-81cb-80488015a8c1"
      },
      "outputs": [],
      "source": [
        "#Fill du lieu thieu bang gia tri mode\n",
        "categorical_cols = ['contributing_factor_vehicle_1', 'contributing_factor_vehicle_2',\n",
        "                    'vehicle_type_code1', 'vehicle_type_code2', 'borough']\n",
        "\n",
        "for col_name in categorical_cols:\n",
        "    mode_value = df_dropped_cols.groupBy(col_name).count().orderBy('count', ascending=False).first()[0]\n",
        "    df_dropped_cols = df_dropped_cols.fillna({col_name: mode_value})"
      ]
    },
    {
      "cell_type": "code",
      "execution_count": null,
      "id": "541a9a57-9b8c-43e5-81bc-8ab0ec8a8580",
      "metadata": {
        "id": "541a9a57-9b8c-43e5-81bc-8ab0ec8a8580"
      },
      "outputs": [],
      "source": [
        "#Ma hoa du lieu bien phan loai\n",
        "def encode_categorical_cols(df: DataFrame, categorical_cols: list) -> DataFrame:\n",
        "    for col_name in categorical_cols:\n",
        "        indexer = StringIndexer(inputCol=col_name, outputCol=col_name + \"_encoded\", handleInvalid='keep')\n",
        "        df = indexer.fit(df).transform(df)\n",
        "    return df\n",
        "\n",
        "df_encoded = encode_categorical_cols(df_dropped_cols, categorical_cols)"
      ]
    },
    {
      "cell_type": "code",
      "execution_count": null,
      "id": "1040c4ce-cb9b-4fb8-9f3d-b607e60aa959",
      "metadata": {
        "id": "1040c4ce-cb9b-4fb8-9f3d-b607e60aa959"
      },
      "outputs": [],
      "source": [
        "df_final = df_dropped_cols.drop(*categorical_cols)"
      ]
    },
    {
      "cell_type": "code",
      "execution_count": null,
      "id": "90944ecb-6b83-4ed8-93c4-02ef37f092f4",
      "metadata": {
        "id": "90944ecb-6b83-4ed8-93c4-02ef37f092f4"
      },
      "outputs": [],
      "source": [
        "# feature\n",
        "x = df_final.drop(\"is_injured\")\n",
        "# label\n",
        "y = df_final.select(\"is_injured\")"
      ]
    }
  ],
  "metadata": {
    "kernelspec": {
      "display_name": "Python 3 (ipykernel)",
      "language": "python",
      "name": "python3"
    },
    "language_info": {
      "codemirror_mode": {
        "name": "ipython",
        "version": 3
      },
      "file_extension": ".py",
      "mimetype": "text/x-python",
      "name": "python",
      "nbconvert_exporter": "python",
      "pygments_lexer": "ipython3",
      "version": "3.10.12"
    },
    "colab": {
      "provenance": []
    }
  },
  "nbformat": 4,
  "nbformat_minor": 5
}
