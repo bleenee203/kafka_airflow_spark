{
 "cells": [
  {
   "cell_type": "code",
   "execution_count": 1,
   "id": "cd236c83-409d-4808-9c00-d217457bb0f0",
   "metadata": {
    "id": "cd236c83-409d-4808-9c00-d217457bb0f0"
   },
   "outputs": [],
   "source": [
    "from pyspark.sql import SparkSession\n",
    "from pyspark.sql.functions import col, when, lit, sum\n",
    "from pyspark.ml.feature import StringIndexer\n",
    "from pyspark.sql import DataFrame\n",
    "from pyspark.sql.types import IntegerType"
   ]
  },
  {
   "cell_type": "code",
   "execution_count": 2,
   "id": "c53c7cc0-993f-4421-8e73-e66a82383d34",
   "metadata": {
    "id": "c53c7cc0-993f-4421-8e73-e66a82383d34",
    "outputId": "7f4e0a9b-486b-4fb5-f4a8-4d91b86bdceb"
   },
   "outputs": [],
   "source": [
    "\n",
    "spark = SparkSession.builder \\\n",
    "    .appName(\"KafkaSparkStreaming\") \\\n",
    "    .master(\"spark://spark-master:7077\") \\\n",
    "    .config(\"spark.serializer\", \"org.apache.spark.serializer.KryoSerializer\") \\\n",
    "    .getOrCreate()\n"
   ]
  },
  {
   "cell_type": "code",
   "execution_count": 4,
   "id": "35cff397-32e2-4775-ad58-375b3aaab6dd",
   "metadata": {
    "id": "35cff397-32e2-4775-ad58-375b3aaab6dd"
   },
   "outputs": [],
   "source": [
    "df = spark.read.parquet(\"hdfs://namenode:9000/raw_data\")"
   ]
  },
  {
   "cell_type": "code",
   "execution_count": 5,
   "id": "189e59c1-272a-4641-808e-195fdcc99c4f",
   "metadata": {
    "id": "189e59c1-272a-4641-808e-195fdcc99c4f"
   },
   "outputs": [
    {
     "name": "stdout",
     "output_type": "stream",
     "text": [
      "Tổng số dòng: 1000\n",
      "Số dòng trùng lặp: 24\n"
     ]
    }
   ],
   "source": [
    "# Đếm tổng số dòng\n",
    "total_rows = df.count()\n",
    "\n",
    "# Đếm số dòng trùng lặp\n",
    "duplicate_rows = df.groupBy(df.columns).count().filter(\"count > 1\").count()\n",
    "\n",
    "# Hiển thị kết quả\n",
    "print(f\"Tổng số dòng: {total_rows}\")\n",
    "print(f\"Số dòng trùng lặp: {duplicate_rows}\")\n"
   ]
  },
  {
   "cell_type": "code",
   "execution_count": 5,
   "id": "403f395b-7cd2-477c-b371-4d2def0c7030",
   "metadata": {
    "id": "403f395b-7cd2-477c-b371-4d2def0c7030"
   },
   "outputs": [
    {
     "name": "stdout",
     "output_type": "stream",
     "text": [
      "+--------------------+----------+---------+--------+---------+--------------------+------------------+-------------------------+------------------------+-----------------------------+----------------------------+-------------------------+------------------------+--------------------------+-------------------------+-----------------------------+-----------------------------+--------------------+--------------------+------------------+------------------+------------------+\n",
      "|          crash_date|crash_time|  borough|latitude|longitude|      on_street_name|   off_street_name|number_of_persons_injured|number_of_persons_killed|number_of_pedestrians_injured|number_of_pedestrians_killed|number_of_cyclist_injured|number_of_cyclist_killed|number_of_motorist_injured|number_of_motorist_killed|contributing_factor_vehicle_1|contributing_factor_vehicle_2|  vehicle_type_code1|  vehicle_type_code2|vehicle_type_code3|vehicle_type_code4|vehicle_type_code5|\n",
      "+--------------------+----------+---------+--------+---------+--------------------+------------------+-------------------------+------------------------+-----------------------------+----------------------------+-------------------------+------------------------+--------------------------+-------------------------+-----------------------------+-----------------------------+--------------------+--------------------+------------------+------------------+------------------+\n",
      "|2024-11-08T00:00:...|      3:26|   QUEENS|    null|     null|                null|              null|                     null|                    null|                         null|                        null|                     null|                    null|                      null|                     null|         Driver Inattentio...|              Other Vehicular|               Sedan|Station Wagon/Spo...|              null|              null|              null|\n",
      "|2024-11-08T00:00:...|     18:10|   QUEENS|    null|     null|          HOLLIS AVE|FRANCIS LEWIS BLVD|                     null|                    null|                         null|                        null|                     null|                    null|                      null|                     null|                  Unspecified|                  Unspecified|               Sedan|Station Wagon/Spo...|              null|              null|              null|\n",
      "|2024-11-08T00:00:...|     11:48|   QUEENS|    null|     null|                null|              null|                     null|                    null|                         null|                        null|                     null|                    null|                      null|                     null|            Oversized Vehicle|                  Unspecified|                Dump|               Sedan|              null|              null|              null|\n",
      "|2024-11-08T00:00:...|      5:49| BROOKLYN|    null|     null|           BELT PKWY|  PENNSYLVANIA AVE|                     null|                    null|                         null|                        null|                     null|                    null|                      null|                     null|         Unsafe Lane Changing|         Unsafe Lane Changing|Station Wagon/Spo...|Station Wagon/Spo...|              null|              null|              null|\n",
      "|2024-11-08T00:00:...|     20:00|     null|    null|     null|LONG ISLAND EXPRE...|              null|                     null|                    null|                         null|                        null|                     null|                    null|                      null|                     null|         Driver Inattentio...|                  Unspecified|               Sedan|               Sedan|              null|              null|              null|\n",
      "|2024-11-08T00:00:...|     14:48|MANHATTAN|    null|     null|            PARK AVE|          E 121 ST|                     null|                    null|                         null|                        null|                     null|                    null|                      null|                     null|         Driver Inattentio...|                  Unspecified|   Garbage or Refuse|Station Wagon/Spo...|              null|              null|              null|\n",
      "|2024-11-08T00:00:...|     17:20|    BRONX|    null|     null|                null|              null|                     null|                    null|                         null|                        null|                     null|                    null|                      null|                     null|         Driver Inattentio...|                  Unspecified|Station Wagon/Spo...|Station Wagon/Spo...|              null|              null|              null|\n",
      "|2024-11-08T00:00:...|      7:30|     null|    null|     null|          TELLER AVE|          E 162 ST|                     null|                    null|                         null|                        null|                     null|                    null|                      null|                     null|         Driver Inattentio...|                  Unspecified|                Bike|                Bike|              null|              null|              null|\n",
      "|2024-11-08T00:00:...|      8:45| BROOKLYN|    null|     null|               85 ST|       COLONIAL RD|                     null|                    null|                         null|                        null|                     null|                    null|                      null|                     null|                  Unspecified|                  Unspecified|               Sedan|                Dump|              null|              null|              null|\n",
      "|2024-11-08T00:00:...|     15:45| BROOKLYN|    null|     null|            SMITH ST|           DEAN ST|                     null|                    null|                         null|                        null|                     null|                    null|                      null|                     null|         Driver Inattentio...|         Passing or Lane U...|Station Wagon/Spo...|              E-Bike|              null|              null|              null|\n",
      "|2024-11-08T00:00:...|      7:50|     null|    null|     null|         BIDWELL AVE|        WATERS AVE|                     null|                    null|                         null|                        null|                     null|                    null|                      null|                     null|         Failure to Yield ...|                  Unspecified|Station Wagon/Spo...|       Pick-up Truck|              null|              null|              null|\n",
      "|2024-11-08T00:00:...|      7:35| BROOKLYN|    null|     null|                null|              null|                     null|                    null|                         null|                        null|                     null|                    null|                      null|                     null|         Driver Inattentio...|         Driver Inattentio...|               Sedan|                Bike|              null|              null|              null|\n",
      "|2024-11-08T00:00:...|     17:38|   QUEENS|    null|     null|    SPRINGFIELD BLVD|            116 RD|                     null|                    null|                         null|                        null|                     null|                    null|                      null|                     null|              Other Vehicular|                         null|               Sedan|                null|              null|              null|              null|\n",
      "|2024-11-08T00:00:...|      7:56| BROOKLYN|    null|     null|             E 59 ST|     FLATLANDS AVE|                     null|                    null|                         null|                        null|                     null|                    null|                      null|                     null|         Driver Inattentio...|         Driver Inattentio...|Station Wagon/Spo...|Station Wagon/Spo...|              null|              null|              null|\n",
      "|2024-11-08T00:00:...|      7:56| BROOKLYN|    null|     null|             E 59 ST|     FLATLANDS AVE|                     null|                    null|                         null|                        null|                     null|                    null|                      null|                     null|         Driver Inattentio...|         Driver Inattentio...|Station Wagon/Spo...|Station Wagon/Spo...|              null|              null|              null|\n",
      "|2024-11-08T00:00:...|      7:56| BROOKLYN|    null|     null|             E 59 ST|     FLATLANDS AVE|                     null|                    null|                         null|                        null|                     null|                    null|                      null|                     null|         Driver Inattentio...|         Driver Inattentio...|Station Wagon/Spo...|Station Wagon/Spo...|              null|              null|              null|\n",
      "|2024-11-08T00:00:...|      7:56| BROOKLYN|    null|     null|             E 59 ST|     FLATLANDS AVE|                     null|                    null|                         null|                        null|                     null|                    null|                      null|                     null|         Driver Inattentio...|         Driver Inattentio...|Station Wagon/Spo...|Station Wagon/Spo...|              null|              null|              null|\n",
      "|2024-11-08T00:00:...|     21:08|   QUEENS|    null|     null|        SUTPHIN BLVD|      HILLSIDE AVE|                     null|                    null|                         null|                        null|                     null|                    null|                      null|                     null|         Driver Inattentio...|         Pedestrian/Bicycl...|Station Wagon/Spo...|                Bike|              null|              null|              null|\n",
      "|2024-11-08T00:00:...|     21:08|   QUEENS|    null|     null|        SUTPHIN BLVD|      HILLSIDE AVE|                     null|                    null|                         null|                        null|                     null|                    null|                      null|                     null|         Driver Inattentio...|         Pedestrian/Bicycl...|Station Wagon/Spo...|                Bike|              null|              null|              null|\n",
      "|2024-11-08T00:00:...|     21:08|   QUEENS|    null|     null|        SUTPHIN BLVD|      HILLSIDE AVE|                     null|                    null|                         null|                        null|                     null|                    null|                      null|                     null|         Driver Inattentio...|         Pedestrian/Bicycl...|Station Wagon/Spo...|                Bike|              null|              null|              null|\n",
      "+--------------------+----------+---------+--------+---------+--------------------+------------------+-------------------------+------------------------+-----------------------------+----------------------------+-------------------------+------------------------+--------------------------+-------------------------+-----------------------------+-----------------------------+--------------------+--------------------+------------------+------------------+------------------+\n",
      "only showing top 20 rows\n",
      "\n"
     ]
    }
   ],
   "source": [
    "df.show()"
   ]
  },
  {
   "cell_type": "code",
   "execution_count": 6,
   "id": "403f395b-7cd2-477c-b371-4d2def0c70301",
   "metadata": {
    "id": "403f395b-7cd2-477c-b371-4d2def0c70301"
   },
   "outputs": [
    {
     "name": "stdout",
     "output_type": "stream",
     "text": [
      "root\n",
      " |-- crash_date: string (nullable = true)\n",
      " |-- crash_time: string (nullable = true)\n",
      " |-- borough: string (nullable = true)\n",
      " |-- latitude: float (nullable = true)\n",
      " |-- longitude: float (nullable = true)\n",
      " |-- on_street_name: string (nullable = true)\n",
      " |-- off_street_name: string (nullable = true)\n",
      " |-- number_of_persons_injured: integer (nullable = true)\n",
      " |-- number_of_persons_killed: integer (nullable = true)\n",
      " |-- number_of_pedestrians_injured: integer (nullable = true)\n",
      " |-- number_of_pedestrians_killed: integer (nullable = true)\n",
      " |-- number_of_cyclist_injured: integer (nullable = true)\n",
      " |-- number_of_cyclist_killed: integer (nullable = true)\n",
      " |-- number_of_motorist_injured: integer (nullable = true)\n",
      " |-- number_of_motorist_killed: integer (nullable = true)\n",
      " |-- contributing_factor_vehicle_1: string (nullable = true)\n",
      " |-- contributing_factor_vehicle_2: string (nullable = true)\n",
      " |-- vehicle_type_code1: string (nullable = true)\n",
      " |-- vehicle_type_code2: string (nullable = true)\n",
      " |-- vehicle_type_code3: string (nullable = true)\n",
      " |-- vehicle_type_code4: string (nullable = true)\n",
      " |-- vehicle_type_code5: string (nullable = true)\n",
      "\n"
     ]
    }
   ],
   "source": [
    "df.printSchema()"
   ]
  },
  {
   "cell_type": "code",
   "execution_count": 7,
   "id": "2df7a695-ad47-487a-af89-db60a690c15f",
   "metadata": {
    "id": "2df7a695-ad47-487a-af89-db60a690c15f"
   },
   "outputs": [],
   "source": [
    "df = df.withColumn('is_injured',\n",
    "                   when((col('number_of_persons_injured').cast(IntegerType()) +\n",
    "                         col('number_of_persons_killed').cast(IntegerType())) > 0, 1).otherwise(0))"
   ]
  },
  {
   "cell_type": "code",
   "execution_count": 8,
   "id": "c9c9a008-c075-4bd7-8f8e-5403c1f8a607",
   "metadata": {
    "id": "c9c9a008-c075-4bd7-8f8e-5403c1f8a607"
   },
   "outputs": [],
   "source": [
    "# Xoa nhung cot khong can thiet\n",
    "cols_to_drop = ['latitude', 'longitude', 'on_street_name', 'off_street_name', 'number_of_persons_injured', 'number_of_pedestrians_killed',\n",
    "                'number_of_cyclist_injured', 'number_of_motorist_injured', 'number_of_motorist_killed',\n",
    "                'vehicle_type_code3', 'vehicle_type_code4', 'vehicle_type_code5',\n",
    "                'crash_date', 'crash_time', 'number_of_persons_killed', 'number_of_pedestrians_injured',\n",
    "                'number_of_cyclist_killed']\n",
    "df_dropped_cols = df.drop(*cols_to_drop)"
   ]
  },
  {
   "cell_type": "code",
   "execution_count": 9,
   "id": "b440b7c0-4f3f-4a32-86fe-6c4f5c16c4ca",
   "metadata": {
    "id": "b440b7c0-4f3f-4a32-86fe-6c4f5c16c4ca"
   },
   "outputs": [
    {
     "name": "stdout",
     "output_type": "stream",
     "text": [
      "+-------+-----------------------------+-----------------------------+------------------+------------------+----------+\n",
      "|borough|contributing_factor_vehicle_1|contributing_factor_vehicle_2|vehicle_type_code1|vehicle_type_code2|is_injured|\n",
      "+-------+-----------------------------+-----------------------------+------------------+------------------+----------+\n",
      "|     34|                            0|                           56|                 0|                67|         0|\n",
      "+-------+-----------------------------+-----------------------------+------------------+------------------+----------+\n",
      "\n"
     ]
    }
   ],
   "source": [
    "#Kiem tra du lieu thieu\n",
    "missing_counts = df_dropped_cols.select([sum(col(c).isNull().cast(\"int\")).alias(c) for c in df_dropped_cols.columns])\n",
    "missing_counts.show()"
   ]
  },
  {
   "cell_type": "code",
   "execution_count": 10,
   "id": "106f25f9-a31f-4940-81cb-80488015a8c1",
   "metadata": {
    "id": "106f25f9-a31f-4940-81cb-80488015a8c1"
   },
   "outputs": [],
   "source": [
    "#Fill du lieu thieu bang gia tri mode\n",
    "categorical_cols = ['contributing_factor_vehicle_1', 'contributing_factor_vehicle_2',\n",
    "                    'vehicle_type_code1', 'vehicle_type_code2', 'borough']\n",
    "\n",
    "# for col_name in categorical_cols:\n",
    "#     # Get the mode value and bring it to the driver\n",
    "#     mode_value = df_dropped_cols.groupBy(col_name).count().orderBy('count', ascending=False).first()[0]\n",
    "#     # Fill missing values with the mode\n",
    "#     df_dropped_cols = df_dropped_cols.fillna({col_name: mode_value})\n",
    "for col_name in categorical_cols:\n",
    "    # Lấy mode\n",
    "    mode_row = df_dropped_cols.groupBy(col_name).count().orderBy('count', ascending=False).first()\n",
    "    \n",
    "    # Kiểm tra nếu mode_row và mode_value không phải là None\n",
    "    if mode_row is not None and mode_row[0] is not None:\n",
    "        mode_value = mode_row[0]\n",
    "    else:\n",
    "        # Nếu không có mode, sử dụng giá trị 0\n",
    "        mode_value = 0\n",
    "    \n",
    "    # Điền giá trị thiếu bằng mode hoặc 0\n",
    "    df_dropped_cols = df_dropped_cols.fillna({col_name: mode_value})\n"
   ]
  },
  {
   "cell_type": "code",
   "execution_count": 11,
   "id": "541a9a57-9b8c-43e5-81bc-8ab0ec8a8580",
   "metadata": {
    "id": "541a9a57-9b8c-43e5-81bc-8ab0ec8a8580"
   },
   "outputs": [],
   "source": [
    "#Ma hoa du lieu bien phan loai\n",
    "def encode_categorical_cols(df: DataFrame, categorical_cols: list) -> DataFrame:\n",
    "    for col_name in categorical_cols:\n",
    "        indexer = StringIndexer(inputCol=col_name, outputCol=col_name + \"_encoded\", handleInvalid='keep')\n",
    "        df = indexer.fit(df).transform(df)\n",
    "    return df\n",
    "\n",
    "df_encoded = encode_categorical_cols(df_dropped_cols, categorical_cols)"
   ]
  },
  {
   "cell_type": "code",
   "execution_count": 12,
   "id": "1040c4ce-cb9b-4fb8-9f3d-b607e60aa959",
   "metadata": {
    "id": "1040c4ce-cb9b-4fb8-9f3d-b607e60aa959"
   },
   "outputs": [],
   "source": [
    "df_final = df_encoded.drop(*categorical_cols)"
   ]
  },
  {
   "cell_type": "code",
   "execution_count": 14,
   "id": "d45d68a5-0d4e-4cdb-9cf0-984792b8ce49",
   "metadata": {},
   "outputs": [
    {
     "name": "stdout",
     "output_type": "stream",
     "text": [
      "+----------+-------------------------------------+-------------------------------------+--------------------------+--------------------------+---------------+\n",
      "|is_injured|contributing_factor_vehicle_1_encoded|contributing_factor_vehicle_2_encoded|vehicle_type_code1_encoded|vehicle_type_code2_encoded|borough_encoded|\n",
      "+----------+-------------------------------------+-------------------------------------+--------------------------+--------------------------+---------------+\n",
      "|         0|                                    0|                                    0|                         0|                         0|              0|\n",
      "+----------+-------------------------------------+-------------------------------------+--------------------------+--------------------------+---------------+\n",
      "\n"
     ]
    }
   ],
   "source": [
    "# Kiểm tra lại lần nữa xem còn giá trị null không\n",
    "missing_counts = df_final.select([sum(col(c).isNull().cast(\"int\")).alias(c) for c in df_final.columns])\n",
    "missing_counts.show()"
   ]
  },
  {
   "cell_type": "code",
   "execution_count": 15,
   "id": "ddc9130a-dbd0-458c-afee-f3954b1ff98f",
   "metadata": {},
   "outputs": [
    {
     "ename": "TypeError",
     "evalue": "DataFrame.drop() got an unexpected keyword argument 'how'",
     "output_type": "error",
     "traceback": [
      "\u001b[0;31m---------------------------------------------------------------------------\u001b[0m",
      "\u001b[0;31mTypeError\u001b[0m                                 Traceback (most recent call last)",
      "Cell \u001b[0;32mIn[15], line 2\u001b[0m\n\u001b[1;32m      1\u001b[0m \u001b[38;5;66;03m#Nếu còn dữ liệu null thì xóa các dòng đó đi\u001b[39;00m\n\u001b[0;32m----> 2\u001b[0m df_final \u001b[38;5;241m=\u001b[39m \u001b[43mdf_final\u001b[49m\u001b[38;5;241;43m.\u001b[39;49m\u001b[43mdrop\u001b[49m\u001b[43m(\u001b[49m\u001b[43mhow\u001b[49m\u001b[43m \u001b[49m\u001b[38;5;241;43m=\u001b[39;49m\u001b[38;5;124;43m'\u001b[39;49m\u001b[38;5;124;43many\u001b[39;49m\u001b[38;5;124;43m'\u001b[39;49m\u001b[43m,\u001b[49m\u001b[43m \u001b[49m\u001b[43mthresh\u001b[49m\u001b[38;5;241;43m=\u001b[39;49m\u001b[38;5;28;43;01mNone\u001b[39;49;00m\u001b[43m,\u001b[49m\u001b[43m \u001b[49m\u001b[43msubset\u001b[49m\u001b[38;5;241;43m=\u001b[39;49m\u001b[38;5;28;43;01mNone\u001b[39;49;00m\u001b[43m)\u001b[49m\n\u001b[1;32m      3\u001b[0m df_final\u001b[38;5;241m.\u001b[39mtoPandas()\u001b[38;5;241m.\u001b[39minfo()\n",
      "\u001b[0;31mTypeError\u001b[0m: DataFrame.drop() got an unexpected keyword argument 'how'"
     ]
    }
   ],
   "source": [
    "#Nếu còn dữ liệu null thì xóa các dòng đó đi\n",
    "df_final = df_final.drop(how ='any', thresh=None, subset=None)\n",
    "df_final.toPandas().info()"
   ]
  },
  {
   "cell_type": "code",
   "execution_count": 16,
   "id": "752dc7cb-61d3-4b46-a947-47fc16807d00",
   "metadata": {},
   "outputs": [
    {
     "name": "stdout",
     "output_type": "stream",
     "text": [
      "+----------+-------------------------------------+-------------------------------------+--------------------------+--------------------------+---------------+\n",
      "|is_injured|contributing_factor_vehicle_1_encoded|contributing_factor_vehicle_2_encoded|vehicle_type_code1_encoded|vehicle_type_code2_encoded|borough_encoded|\n",
      "+----------+-------------------------------------+-------------------------------------+--------------------------+--------------------------+---------------+\n",
      "|         0|                                  1.0|                                  2.0|                       0.0|                       1.0|            1.0|\n",
      "|         0|                                  0.0|                                  0.0|                       0.0|                       1.0|            1.0|\n",
      "|         0|                                  6.0|                                  0.0|                       5.0|                       2.0|            1.0|\n",
      "|         0|                                  4.0|                                  3.0|                       1.0|                       1.0|            0.0|\n",
      "|         0|                                  1.0|                                  0.0|                       0.0|                       2.0|            0.0|\n",
      "|         0|                                  1.0|                                  0.0|                       6.0|                       1.0|            2.0|\n",
      "|         0|                                  1.0|                                  0.0|                       1.0|                       1.0|            3.0|\n",
      "|         0|                                  1.0|                                  0.0|                       2.0|                       3.0|            0.0|\n",
      "|         0|                                  0.0|                                  0.0|                       0.0|                       6.0|            0.0|\n",
      "|         0|                                  1.0|                                  4.0|                       1.0|                       7.0|            0.0|\n",
      "|         0|                                  2.0|                                  0.0|                       1.0|                       8.0|            0.0|\n",
      "|         0|                                  1.0|                                  1.0|                       0.0|                       3.0|            0.0|\n",
      "|         0|                                  7.0|                                  0.0|                       0.0|                       0.0|            1.0|\n",
      "|         0|                                  1.0|                                  1.0|                       1.0|                       1.0|            0.0|\n",
      "|         0|                                  1.0|                                  1.0|                       1.0|                       1.0|            0.0|\n",
      "|         0|                                  1.0|                                  1.0|                       1.0|                       1.0|            0.0|\n",
      "|         0|                                  1.0|                                  1.0|                       1.0|                       1.0|            0.0|\n",
      "|         0|                                  1.0|                                  5.0|                       1.0|                       3.0|            1.0|\n",
      "|         0|                                  1.0|                                  5.0|                       1.0|                       3.0|            1.0|\n",
      "|         0|                                  1.0|                                  5.0|                       1.0|                       3.0|            1.0|\n",
      "+----------+-------------------------------------+-------------------------------------+--------------------------+--------------------------+---------------+\n",
      "only showing top 20 rows\n",
      "\n"
     ]
    }
   ],
   "source": [
    "df_final.show()"
   ]
  },
  {
   "cell_type": "code",
   "execution_count": 17,
   "id": "bbab61b7-3559-4c5e-bbc0-4599c6bf41b0",
   "metadata": {},
   "outputs": [
    {
     "data": {
      "text/html": [
       "<div>\n",
       "<style scoped>\n",
       "    .dataframe tbody tr th:only-of-type {\n",
       "        vertical-align: middle;\n",
       "    }\n",
       "\n",
       "    .dataframe tbody tr th {\n",
       "        vertical-align: top;\n",
       "    }\n",
       "\n",
       "    .dataframe thead th {\n",
       "        text-align: right;\n",
       "    }\n",
       "</style>\n",
       "<table border=\"1\" class=\"dataframe\">\n",
       "  <thead>\n",
       "    <tr style=\"text-align: right;\">\n",
       "      <th></th>\n",
       "      <th>0</th>\n",
       "      <th>1</th>\n",
       "      <th>2</th>\n",
       "      <th>3</th>\n",
       "      <th>4</th>\n",
       "    </tr>\n",
       "  </thead>\n",
       "  <tbody>\n",
       "    <tr>\n",
       "      <th>summary</th>\n",
       "      <td>count</td>\n",
       "      <td>mean</td>\n",
       "      <td>stddev</td>\n",
       "      <td>min</td>\n",
       "      <td>max</td>\n",
       "    </tr>\n",
       "    <tr>\n",
       "      <th>is_injured</th>\n",
       "      <td>198</td>\n",
       "      <td>0.0</td>\n",
       "      <td>0.0</td>\n",
       "      <td>0</td>\n",
       "      <td>0</td>\n",
       "    </tr>\n",
       "    <tr>\n",
       "      <th>contributing_factor_vehicle_1_encoded</th>\n",
       "      <td>198</td>\n",
       "      <td>2.1666666666666665</td>\n",
       "      <td>3.190643045795828</td>\n",
       "      <td>0.0</td>\n",
       "      <td>13.0</td>\n",
       "    </tr>\n",
       "    <tr>\n",
       "      <th>contributing_factor_vehicle_2_encoded</th>\n",
       "      <td>198</td>\n",
       "      <td>0.3686868686868687</td>\n",
       "      <td>1.042463546906425</td>\n",
       "      <td>0.0</td>\n",
       "      <td>5.0</td>\n",
       "    </tr>\n",
       "    <tr>\n",
       "      <th>vehicle_type_code1_encoded</th>\n",
       "      <td>198</td>\n",
       "      <td>0.8888888888888888</td>\n",
       "      <td>1.3659298083718503</td>\n",
       "      <td>0.0</td>\n",
       "      <td>6.0</td>\n",
       "    </tr>\n",
       "    <tr>\n",
       "      <th>vehicle_type_code2_encoded</th>\n",
       "      <td>198</td>\n",
       "      <td>1.9696969696969697</td>\n",
       "      <td>2.5903159968513627</td>\n",
       "      <td>0.0</td>\n",
       "      <td>11.0</td>\n",
       "    </tr>\n",
       "    <tr>\n",
       "      <th>borough_encoded</th>\n",
       "      <td>198</td>\n",
       "      <td>0.6919191919191919</td>\n",
       "      <td>0.9129832583268603</td>\n",
       "      <td>0.0</td>\n",
       "      <td>4.0</td>\n",
       "    </tr>\n",
       "  </tbody>\n",
       "</table>\n",
       "</div>"
      ],
      "text/plain": [
       "                                           0                   1  \\\n",
       "summary                                count                mean   \n",
       "is_injured                               198                 0.0   \n",
       "contributing_factor_vehicle_1_encoded    198  2.1666666666666665   \n",
       "contributing_factor_vehicle_2_encoded    198  0.3686868686868687   \n",
       "vehicle_type_code1_encoded               198  0.8888888888888888   \n",
       "vehicle_type_code2_encoded               198  1.9696969696969697   \n",
       "borough_encoded                          198  0.6919191919191919   \n",
       "\n",
       "                                                        2    3     4  \n",
       "summary                                            stddev  min   max  \n",
       "is_injured                                            0.0    0     0  \n",
       "contributing_factor_vehicle_1_encoded   3.190643045795828  0.0  13.0  \n",
       "contributing_factor_vehicle_2_encoded   1.042463546906425  0.0   5.0  \n",
       "vehicle_type_code1_encoded             1.3659298083718503  0.0   6.0  \n",
       "vehicle_type_code2_encoded             2.5903159968513627  0.0  11.0  \n",
       "borough_encoded                        0.9129832583268603  0.0   4.0  "
      ]
     },
     "execution_count": 17,
     "metadata": {},
     "output_type": "execute_result"
    }
   ],
   "source": [
    "#Đưa ra thống kê cơ bản\n",
    "df_final.describe().toPandas().transpose()"
   ]
  },
  {
   "cell_type": "code",
   "execution_count": 18,
   "id": "90944ecb-6b83-4ed8-93c4-02ef37f092f4",
   "metadata": {
    "id": "90944ecb-6b83-4ed8-93c4-02ef37f092f4"
   },
   "outputs": [],
   "source": [
    "# feature\n",
    "x = df_final.drop(\"is_injured\")\n",
    "# label\n",
    "y = df_final.select(\"is_injured\")"
   ]
  },
  {
   "cell_type": "code",
   "execution_count": null,
   "id": "27fde987-fe26-42d5-a5d1-168f63ff7745",
   "metadata": {},
   "outputs": [],
   "source": []
  }
 ],
 "metadata": {
  "colab": {
   "provenance": []
  },
  "kernelspec": {
   "display_name": "Python 3 (ipykernel)",
   "language": "python",
   "name": "python3"
  },
  "language_info": {
   "codemirror_mode": {
    "name": "ipython",
    "version": 3
   },
   "file_extension": ".py",
   "mimetype": "text/x-python",
   "name": "python",
   "nbconvert_exporter": "python",
   "pygments_lexer": "ipython3",
   "version": "3.11.5"
  }
 },
 "nbformat": 4,
 "nbformat_minor": 5
}
