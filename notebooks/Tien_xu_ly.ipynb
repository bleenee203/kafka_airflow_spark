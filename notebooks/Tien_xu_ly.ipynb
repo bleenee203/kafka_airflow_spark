{
  "cells": [
    {
      "cell_type": "code",
      "execution_count": null,
      "id": "cd236c83-409d-4808-9c00-d217457bb0f0",
      "metadata": {
        "id": "cd236c83-409d-4808-9c00-d217457bb0f0"
      },
      "outputs": [],
      "source": [
        "from pyspark.sql import SparkSession\n",
        "from pyspark.sql.functions import col, when, lit, sum\n",
        "from pyspark.ml.feature import StringIndexer\n",
        "from pyspark.sql import DataFrame\n",
        "from pyspark.sql.types import IntegerType"
      ]
    },
    {
      "cell_type": "code",
      "execution_count": null,
      "id": "c53c7cc0-993f-4421-8e73-e66a82383d34",
      "metadata": {
        "id": "c53c7cc0-993f-4421-8e73-e66a82383d34"
      },
      "outputs": [],
      "source": [
        "spark = SparkSession.builder \\\n",
        "    .appName(\"MapReduce k-NN\") \\\n",
        "    .config(\"spark.executor.memory\", \"4g\") \\\n",
        "    .config(\"spark.driver.memory\", \"4g\") \\\n",
        "    .config(\"spark.serializer\", \"org.apache.spark.serializer.KryoSerializer\") \\\n",
        "    .config(\"spark.kryoserializer.buffer.max\", \"2000m\") \\\n",
        "    .getOrCreate()\n"
      ]
    },
    {
      "cell_type": "code",
      "execution_count": null,
      "id": "35cff397-32e2-4775-ad58-375b3aaab6dd",
      "metadata": {
        "id": "35cff397-32e2-4775-ad58-375b3aaab6dd",
        "colab": {
          "base_uri": "https://localhost:8080/"
        },
        "outputId": "6991e7bb-8bf0-4431-8c6e-9193f9f87259"
      },
      "outputs": [
        {
          "output_type": "stream",
          "name": "stdout",
          "text": [
            "root\n",
            " |-- _corrupt_record: string (nullable = true)\n",
            " |-- borough: string (nullable = true)\n",
            " |-- collision_id: string (nullable = true)\n",
            " |-- contributing_factor_vehicle_1: string (nullable = true)\n",
            " |-- contributing_factor_vehicle_2: string (nullable = true)\n",
            " |-- contributing_factor_vehicle_3: string (nullable = true)\n",
            " |-- contributing_factor_vehicle_4: string (nullable = true)\n",
            " |-- contributing_factor_vehicle_5: string (nullable = true)\n",
            " |-- crash_date: string (nullable = true)\n",
            " |-- crash_time: string (nullable = true)\n",
            " |-- cross_street_name: string (nullable = true)\n",
            " |-- latitude: string (nullable = true)\n",
            " |-- location: struct (nullable = true)\n",
            " |    |-- human_address: string (nullable = true)\n",
            " |    |-- latitude: string (nullable = true)\n",
            " |    |-- longitude: string (nullable = true)\n",
            " |-- longitude: string (nullable = true)\n",
            " |-- number_of_cyclist_injured: string (nullable = true)\n",
            " |-- number_of_cyclist_killed: string (nullable = true)\n",
            " |-- number_of_motorist_injured: string (nullable = true)\n",
            " |-- number_of_motorist_killed: string (nullable = true)\n",
            " |-- number_of_pedestrians_injured: string (nullable = true)\n",
            " |-- number_of_pedestrians_killed: string (nullable = true)\n",
            " |-- number_of_persons_injured: string (nullable = true)\n",
            " |-- number_of_persons_killed: string (nullable = true)\n",
            " |-- off_street_name: string (nullable = true)\n",
            " |-- on_street_name: string (nullable = true)\n",
            " |-- vehicle_type_code1: string (nullable = true)\n",
            " |-- vehicle_type_code2: string (nullable = true)\n",
            " |-- vehicle_type_code_3: string (nullable = true)\n",
            " |-- vehicle_type_code_4: string (nullable = true)\n",
            " |-- vehicle_type_code_5: string (nullable = true)\n",
            " |-- zip_code: string (nullable = true)\n",
            "\n",
            "+---------------+---------+------------+-----------------------------+-----------------------------+-----------------------------+-----------------------------+-----------------------------+--------------------+----------+--------------------+---------+--------------------+----------+-------------------------+------------------------+--------------------------+-------------------------+-----------------------------+----------------------------+-------------------------+------------------------+--------------------+--------------------+--------------------+--------------------+-------------------+-------------------+-------------------+--------+\n",
            "|_corrupt_record|  borough|collision_id|contributing_factor_vehicle_1|contributing_factor_vehicle_2|contributing_factor_vehicle_3|contributing_factor_vehicle_4|contributing_factor_vehicle_5|          crash_date|crash_time|   cross_street_name| latitude|            location| longitude|number_of_cyclist_injured|number_of_cyclist_killed|number_of_motorist_injured|number_of_motorist_killed|number_of_pedestrians_injured|number_of_pedestrians_killed|number_of_persons_injured|number_of_persons_killed|     off_street_name|      on_street_name|  vehicle_type_code1|  vehicle_type_code2|vehicle_type_code_3|vehicle_type_code_4|vehicle_type_code_5|zip_code|\n",
            "+---------------+---------+------------+-----------------------------+-----------------------------+-----------------------------+-----------------------------+-----------------------------+--------------------+----------+--------------------+---------+--------------------+----------+-------------------------+------------------------+--------------------------+-------------------------+-----------------------------+----------------------------+-------------------------+------------------------+--------------------+--------------------+--------------------+--------------------+-------------------+-------------------+-------------------+--------+\n",
            "|           NULL|     NULL|     4455765|         Aggressive Drivin...|                  Unspecified|                         NULL|                         NULL|                         NULL|2021-09-11T00:00:...|      2:39|                NULL|     NULL|                NULL|      NULL|                        0|                       0|                         2|                        0|                            0|                           0|                        2|                       0|           20 AVENUE|WHITESTONE EXPRES...|               Sedan|               Sedan|               NULL|               NULL|               NULL|    NULL|\n",
            "|           NULL|     NULL|     4513547|            Pavement Slippery|                         NULL|                         NULL|                         NULL|                         NULL|2022-03-26T00:00:...|     11:45|                NULL|     NULL|                NULL|      NULL|                        0|                       0|                         1|                        0|                            0|                           0|                        1|                       0|                NULL|QUEENSBORO BRIDGE...|               Sedan|                NULL|               NULL|               NULL|               NULL|    NULL|\n",
            "|           NULL|     NULL|     4541903|         Following Too Clo...|                  Unspecified|                         NULL|                         NULL|                         NULL|2022-06-29T00:00:...|      6:55|                NULL|     NULL|                NULL|      NULL|                        0|                       0|                         0|                        0|                            0|                           0|                        0|                       0|                NULL|  THROGS NECK BRIDGE|               Sedan|       Pick-up Truck|               NULL|               NULL|               NULL|    NULL|\n",
            "|           NULL| BROOKLYN|     4456314|                  Unspecified|                         NULL|                         NULL|                         NULL|                         NULL|2021-09-11T00:00:...|      9:35|1211      LORING ...|40.667202|{{\"address\": \"\", ...|  -73.8665|                        0|                       0|                         0|                        0|                            0|                           0|                        0|                       0|                NULL|                NULL|               Sedan|                NULL|               NULL|               NULL|               NULL|   11208|\n",
            "|           NULL| BROOKLYN|     4486609|                         NULL|                         NULL|                         NULL|                         NULL|                         NULL|2021-12-14T00:00:...|      8:13|                NULL|40.683304|{{\"address\": \"\", ...|-73.917274|                        0|                       0|                         0|                        0|                            0|                           0|                        0|                       0|      DECATUR STREET|     SARATOGA AVENUE|                NULL|                NULL|               NULL|               NULL|               NULL|   11233|\n",
            "|           NULL|     NULL|     4407458|                  Unspecified|                  Unspecified|                         NULL|                         NULL|                         NULL|2021-04-14T00:00:...|     12:47|                NULL|     NULL|                NULL|      NULL|                        0|                       0|                         0|                        0|                            0|                           0|                        0|                       0|                NULL|MAJOR DEEGAN EXPR...|                Dump|               Sedan|               NULL|               NULL|               NULL|    NULL|\n",
            "|           NULL|     NULL|     4486555|          Passing Too Closely|                  Unspecified|                         NULL|                         NULL|                         NULL|2021-12-14T00:00:...|     17:05|                NULL|40.709183|{{\"address\": \"\", ...|-73.956825|                        0|                       0|                         0|                        0|                            0|                           0|                        0|                       0|                NULL|BROOKLYN QUEENS E...|               Sedan|Tractor Truck Diesel|               NULL|               NULL|               NULL|    NULL|\n",
            "|           NULL|    BRONX|     4486660|                  Unspecified|                  Unspecified|                         NULL|                         NULL|                         NULL|2021-12-14T00:00:...|      8:17|344       BAYCHES...| 40.86816|{{\"address\": \"\", ...| -73.83148|                        0|                       0|                         2|                        0|                            0|                           0|                        2|                       0|                NULL|                NULL|               Sedan|               Sedan|               NULL|               NULL|               NULL|   10475|\n",
            "|           NULL| BROOKLYN|     4487074|          Driver Inexperience|                  Unspecified|                         NULL|                         NULL|                         NULL|2021-12-14T00:00:...|     21:10|2047      PITKIN ...| 40.67172|{{\"address\": \"\", ...|  -73.8971|                        0|                       0|                         0|                        0|                            0|                           0|                        0|                       0|                NULL|                NULL|               Sedan|                NULL|               NULL|               NULL|               NULL|   11207|\n",
            "|           NULL|MANHATTAN|     4486519|          Passing Too Closely|                  Unspecified|                         NULL|                         NULL|                         NULL|2021-12-14T00:00:...|     14:58|                NULL| 40.75144|{{\"address\": \"\", ...| -73.97397|                        0|                       0|                         0|                        0|                            0|                           0|                        0|                       0|      EAST 43 STREET|            3 AVENUE|               Sedan|Station Wagon/Spo...|               NULL|               NULL|               NULL|   10017|\n",
            "|           NULL|     NULL|     4486934|         Passing or Lane U...|                  Unspecified|                         NULL|                         NULL|                         NULL|2021-12-13T00:00:...|      0:34|                NULL|40.701275|{{\"address\": \"\", ...| -73.88887|                        0|                       0|                         0|                        0|                            0|                           0|                        0|                       0|                NULL|       MYRTLE AVENUE|Station Wagon/Spo...|                NULL|               NULL|               NULL|               NULL|    NULL|\n",
            "|           NULL|   QUEENS|     4487127|           Turning Improperly|                  Unspecified|                         NULL|                         NULL|                         NULL|2021-12-14T00:00:...|     16:50|                NULL|40.675884|{{\"address\": \"\", ...| -73.75577|                        0|                       0|                         0|                        0|                            0|                           0|                        0|                       0|     EAST GATE PLAZA|SPRINGFIELD BOULE...|               Sedan|Station Wagon/Spo...|               NULL|               NULL|               NULL|   11413|\n",
            "|           NULL|     NULL|     4486634|         Unsafe Lane Changing|                  Unspecified|                         NULL|                         NULL|                         NULL|2021-12-14T00:00:...|      8:30|                NULL|     NULL|                NULL|      NULL|                        0|                       0|                         0|                        0|                            0|                           0|                        0|                       0|west 80 street -w...|            broadway|Station Wagon/Spo...|               Sedan|               NULL|               NULL|               NULL|    NULL|\n",
            "|           NULL|     NULL|     4486564|                 Unsafe Speed|                         NULL|                         NULL|                         NULL|                         NULL|2021-12-14T00:00:...|      0:59|                NULL| 40.59662|{{\"address\": \"\", ...| -74.00231|                        0|                       0|                         0|                        0|                            0|                           0|                        0|                       0|                NULL|        BELT PARKWAY|               Sedan|                NULL|               NULL|               NULL|               NULL|    NULL|\n",
            "|           NULL|   QUEENS|     4486635|         Reaction to Uninv...|                  Unspecified|                         NULL|                         NULL|                         NULL|2021-12-14T00:00:...|     23:10|                NULL| 40.66684|{{\"address\": \"\", ...| -73.78941|                        0|                       0|                         2|                        0|                            0|                           0|                        2|                       0|          150 STREET|NORTH CONDUIT AVENUE|               Sedan|               Sedan|               NULL|               NULL|               NULL|   11434|\n",
            "|           NULL| BROOKLYN|     4486604|          Passing Too Closely|                  Unspecified|                         NULL|                         NULL|                         NULL|2021-12-14T00:00:...|     17:58|480       DEAN ST...| 40.68158|{{\"address\": \"\", ...| -73.97463|                        0|                       0|                         0|                        0|                            0|                           0|                        0|                       0|                NULL|                NULL|              Tanker|Station Wagon/Spo...|               NULL|               NULL|               NULL|   11217|\n",
            "|           NULL| BROOKLYN|     4486991|             Steering Failure|                         NULL|                         NULL|                         NULL|                         NULL|2021-12-14T00:00:...|     20:03|878       FLATBUS...| 40.65068|{{\"address\": \"\", ...| -73.95881|                        0|                       0|                         4|                        0|                            0|                           0|                        4|                       0|                NULL|                NULL|               Sedan|                NULL|               NULL|               NULL|               NULL|   11226|\n",
            "|           NULL|     NULL|     4486284|         Traffic Control D...|                  Unspecified|                         NULL|                         NULL|                         NULL|2021-12-14T00:00:...|      1:28|                NULL|     NULL|                NULL|      NULL|                        0|                       0|                         3|                        0|                            0|                           0|                        3|                       0|      LORIMER STREET|       MEEKER AVENUE|Station Wagon/Spo...|Station Wagon/Spo...|               NULL|               NULL|               NULL|    NULL|\n",
            "|           NULL|    BRONX|     4487040|                  Unspecified|                  Unspecified|                         NULL|                         NULL|                         NULL|2021-12-11T00:00:...|     19:43|                NULL| 40.87262|{{\"address\": \"\", ...|-73.904686|                        0|                       0|                         1|                        0|                            0|                           0|                        1|                       0|        HEATH AVENUE|WEST KINGSBRIDGE ...|Station Wagon/Spo...|               Sedan|               NULL|               NULL|               NULL|   10463|\n",
            "|           NULL|     NULL|     4486537|         Following Too Clo...|                  Unspecified|                  Unspecified|                         NULL|                         NULL|2021-12-14T00:00:...|     14:30|                NULL|40.783268|{{\"address\": \"\", ...| -73.82485|                        0|                       0|                         0|                        0|                            0|                           0|                        0|                       0|                NULL|WHITESTONE EXPRES...|Station Wagon/Spo...|               Sedan|              Sedan|               NULL|               NULL|    NULL|\n",
            "+---------------+---------+------------+-----------------------------+-----------------------------+-----------------------------+-----------------------------+-----------------------------+--------------------+----------+--------------------+---------+--------------------+----------+-------------------------+------------------------+--------------------------+-------------------------+-----------------------------+----------------------------+-------------------------+------------------------+--------------------+--------------------+--------------------+--------------------+-------------------+-------------------+-------------------+--------+\n",
            "only showing top 20 rows\n",
            "\n"
          ]
        }
      ],
      "source": [
        "# Gọi API để lấy dữ liệu JSON\n",
        "import requests\n",
        "api_url = \"https://data.cityofnewyork.us/resource/h9gi-nx95.json\"  # Thay thế bằng URL API thực tế\n",
        "response = requests.get(api_url)\n",
        "\n",
        "# Kiểm tra trạng thái phản hồi\n",
        "if response.status_code == 200:\n",
        "    # Tải dữ liệu JSON từ phản hồi\n",
        "    data = response.json()  # Dữ liệu dưới dạng dictionary hoặc list\n",
        "\n",
        "    # Chuyển đổi dữ liệu JSON thành DataFrame\n",
        "    df = spark.read.json(spark.sparkContext.parallelize(data))\n",
        "\n",
        "    # Hiển thị schema và một số dòng dữ liệu\n",
        "    df.printSchema()\n",
        "    df.show()\n",
        "else:\n",
        "    print(f\"Lỗi khi gọi API: {response.status_code}\")"
      ]
    },
    {
      "cell_type": "code",
      "source": [
        "selected_columns = [\n",
        "    \"crash_date\",\n",
        "    \"crash_time\",\n",
        "    \"borough\",\n",
        "    \"latitude\",\n",
        "    \"longitude\",\n",
        "    \"on_street_name\",\n",
        "    \"off_street_name\",\n",
        "    \"number_of_persons_injured\",\n",
        "    \"number_of_persons_killed\",\n",
        "    \"number_of_pedestrians_injured\",\n",
        "    \"number_of_pedestrians_killed\",\n",
        "    \"number_of_cyclist_injured\",\n",
        "    \"number_of_cyclist_killed\",\n",
        "    \"number_of_motorist_injured\",\n",
        "    \"number_of_motorist_killed\",\n",
        "    \"contributing_factor_vehicle_1\",\n",
        "    \"contributing_factor_vehicle_2\",\n",
        "    \"vehicle_type_code1\",\n",
        "    \"vehicle_type_code2\"\n",
        "]\n",
        "\n",
        "df_selected = df.select(*selected_columns)"
      ],
      "metadata": {
        "id": "0g73hyUZu9se"
      },
      "id": "0g73hyUZu9se",
      "execution_count": null,
      "outputs": []
    },
    {
      "cell_type": "code",
      "execution_count": null,
      "id": "189e59c1-272a-4641-808e-195fdcc99c4f",
      "metadata": {
        "id": "189e59c1-272a-4641-808e-195fdcc99c4f",
        "colab": {
          "base_uri": "https://localhost:8080/"
        },
        "outputId": "8824d985-fda3-4196-c12a-1354e42441d7"
      },
      "outputs": [
        {
          "output_type": "stream",
          "name": "stdout",
          "text": [
            "Tổng số dòng: 1000\n",
            "Số dòng trùng lặp: 0\n"
          ]
        }
      ],
      "source": [
        "# Đếm tổng số dòng\n",
        "total_rows = df_selected.count()\n",
        "\n",
        "# Đếm số dòng trùng lặp\n",
        "duplicate_rows = df_selected.groupBy(df_selected.columns).count().filter(\"count > 1\").count()\n",
        "\n",
        "# Hiển thị kết quả\n",
        "print(f\"Tổng số dòng: {total_rows}\")\n",
        "print(f\"Số dòng trùng lặp: {duplicate_rows}\")\n"
      ]
    },
    {
      "cell_type": "code",
      "execution_count": null,
      "id": "a407a8e1-1647-43e7-97d6-47aec5fe0c3b",
      "metadata": {
        "colab": {
          "base_uri": "https://localhost:8080/"
        },
        "id": "a407a8e1-1647-43e7-97d6-47aec5fe0c3b",
        "outputId": "2254cad3-c1e4-4dee-8538-f9a5552671f3"
      },
      "outputs": [
        {
          "output_type": "stream",
          "name": "stdout",
          "text": [
            "+----------+----------+-------+--------+---------+--------------+---------------+-------------------------+------------------------+-----------------------------+----------------------------+-------------------------+------------------------+--------------------------+-------------------------+-----------------------------+-----------------------------+------------------+------------------+\n",
            "|crash_date|crash_time|borough|latitude|longitude|on_street_name|off_street_name|number_of_persons_injured|number_of_persons_killed|number_of_pedestrians_injured|number_of_pedestrians_killed|number_of_cyclist_injured|number_of_cyclist_killed|number_of_motorist_injured|number_of_motorist_killed|contributing_factor_vehicle_1|contributing_factor_vehicle_2|vehicle_type_code1|vehicle_type_code2|\n",
            "+----------+----------+-------+--------+---------+--------------+---------------+-------------------------+------------------------+-----------------------------+----------------------------+-------------------------+------------------------+--------------------------+-------------------------+-----------------------------+-----------------------------+------------------+------------------+\n",
            "|         1|         1|    367|      76|       76|           259|            550|                        1|                       1|                            1|                           1|                        1|                       1|                         1|                        1|                            4|                          231|                15|               346|\n",
            "+----------+----------+-------+--------+---------+--------------+---------------+-------------------------+------------------------+-----------------------------+----------------------------+-------------------------+------------------------+--------------------------+-------------------------+-----------------------------+-----------------------------+------------------+------------------+\n",
            "\n"
          ]
        }
      ],
      "source": [
        "#Kiem tra du lieu thieu\n",
        "missing_counts = df_selected.select([sum(col(c).isNull().cast(\"int\")).alias(c) for c in df_selected.columns])\n",
        "missing_counts.show()"
      ]
    },
    {
      "cell_type": "code",
      "execution_count": null,
      "id": "8641285a-9339-45bb-992b-8669bbcb081a",
      "metadata": {
        "colab": {
          "base_uri": "https://localhost:8080/"
        },
        "id": "8641285a-9339-45bb-992b-8669bbcb081a",
        "outputId": "5a11964c-bf08-4b96-c08c-dd58020731ad"
      },
      "outputs": [
        {
          "output_type": "stream",
          "name": "stdout",
          "text": [
            "Total number of persons injured: 38.0\n"
          ]
        }
      ],
      "source": [
        "total_injuries = df_selected.selectExpr(\"sum(number_of_cyclist_injured) as total_injuries\").collect()[0][\"total_injuries\"]\n",
        "print(\"Total number of persons injured:\", total_injuries)"
      ]
    },
    {
      "cell_type": "code",
      "execution_count": null,
      "id": "71dd4833-59fc-4346-9aad-ab7d264d9359",
      "metadata": {
        "colab": {
          "base_uri": "https://localhost:8080/"
        },
        "id": "71dd4833-59fc-4346-9aad-ab7d264d9359",
        "outputId": "bdf72342-7b9a-402b-c21c-ae5cda27a8a1"
      },
      "outputs": [
        {
          "output_type": "stream",
          "name": "stdout",
          "text": [
            "Total number of persons killed: 4.0\n"
          ]
        }
      ],
      "source": [
        "total_kill = df_selected.selectExpr(\"sum(number_of_persons_killed) as total_kill\").collect()[0][\"total_kill\"]\n",
        "print(\"Total number of persons killed:\", total_kill)"
      ]
    },
    {
      "cell_type": "code",
      "execution_count": null,
      "id": "403f395b-7cd2-477c-b371-4d2def0c7030",
      "metadata": {
        "id": "403f395b-7cd2-477c-b371-4d2def0c7030",
        "colab": {
          "base_uri": "https://localhost:8080/"
        },
        "outputId": "51ce2585-9626-45f6-fbd9-e4ba4ac02649"
      },
      "outputs": [
        {
          "output_type": "stream",
          "name": "stdout",
          "text": [
            "+--------------------+----------+---------+---------+----------+--------------------+--------------------+-------------------------+------------------------+-----------------------------+----------------------------+-------------------------+------------------------+--------------------------+-------------------------+-----------------------------+-----------------------------+--------------------+--------------------+\n",
            "|          crash_date|crash_time|  borough| latitude| longitude|      on_street_name|     off_street_name|number_of_persons_injured|number_of_persons_killed|number_of_pedestrians_injured|number_of_pedestrians_killed|number_of_cyclist_injured|number_of_cyclist_killed|number_of_motorist_injured|number_of_motorist_killed|contributing_factor_vehicle_1|contributing_factor_vehicle_2|  vehicle_type_code1|  vehicle_type_code2|\n",
            "+--------------------+----------+---------+---------+----------+--------------------+--------------------+-------------------------+------------------------+-----------------------------+----------------------------+-------------------------+------------------------+--------------------------+-------------------------+-----------------------------+-----------------------------+--------------------+--------------------+\n",
            "|2021-09-11T00:00:...|      2:39|     NULL|     NULL|      NULL|WHITESTONE EXPRES...|           20 AVENUE|                        2|                       0|                            0|                           0|                        0|                       0|                         2|                        0|         Aggressive Drivin...|                  Unspecified|               Sedan|               Sedan|\n",
            "|2022-03-26T00:00:...|     11:45|     NULL|     NULL|      NULL|QUEENSBORO BRIDGE...|                NULL|                        1|                       0|                            0|                           0|                        0|                       0|                         1|                        0|            Pavement Slippery|                         NULL|               Sedan|                NULL|\n",
            "|2022-06-29T00:00:...|      6:55|     NULL|     NULL|      NULL|  THROGS NECK BRIDGE|                NULL|                        0|                       0|                            0|                           0|                        0|                       0|                         0|                        0|         Following Too Clo...|                  Unspecified|               Sedan|       Pick-up Truck|\n",
            "|2021-09-11T00:00:...|      9:35| BROOKLYN|40.667202|  -73.8665|                NULL|                NULL|                        0|                       0|                            0|                           0|                        0|                       0|                         0|                        0|                  Unspecified|                         NULL|               Sedan|                NULL|\n",
            "|2021-12-14T00:00:...|      8:13| BROOKLYN|40.683304|-73.917274|     SARATOGA AVENUE|      DECATUR STREET|                        0|                       0|                            0|                           0|                        0|                       0|                         0|                        0|                         NULL|                         NULL|                NULL|                NULL|\n",
            "|2021-04-14T00:00:...|     12:47|     NULL|     NULL|      NULL|MAJOR DEEGAN EXPR...|                NULL|                        0|                       0|                            0|                           0|                        0|                       0|                         0|                        0|                  Unspecified|                  Unspecified|                Dump|               Sedan|\n",
            "|2021-12-14T00:00:...|     17:05|     NULL|40.709183|-73.956825|BROOKLYN QUEENS E...|                NULL|                        0|                       0|                            0|                           0|                        0|                       0|                         0|                        0|          Passing Too Closely|                  Unspecified|               Sedan|Tractor Truck Diesel|\n",
            "|2021-12-14T00:00:...|      8:17|    BRONX| 40.86816| -73.83148|                NULL|                NULL|                        2|                       0|                            0|                           0|                        0|                       0|                         2|                        0|                  Unspecified|                  Unspecified|               Sedan|               Sedan|\n",
            "|2021-12-14T00:00:...|     21:10| BROOKLYN| 40.67172|  -73.8971|                NULL|                NULL|                        0|                       0|                            0|                           0|                        0|                       0|                         0|                        0|          Driver Inexperience|                  Unspecified|               Sedan|                NULL|\n",
            "|2021-12-14T00:00:...|     14:58|MANHATTAN| 40.75144| -73.97397|            3 AVENUE|      EAST 43 STREET|                        0|                       0|                            0|                           0|                        0|                       0|                         0|                        0|          Passing Too Closely|                  Unspecified|               Sedan|Station Wagon/Spo...|\n",
            "|2021-12-13T00:00:...|      0:34|     NULL|40.701275| -73.88887|       MYRTLE AVENUE|                NULL|                        0|                       0|                            0|                           0|                        0|                       0|                         0|                        0|         Passing or Lane U...|                  Unspecified|Station Wagon/Spo...|                NULL|\n",
            "|2021-12-14T00:00:...|     16:50|   QUEENS|40.675884| -73.75577|SPRINGFIELD BOULE...|     EAST GATE PLAZA|                        0|                       0|                            0|                           0|                        0|                       0|                         0|                        0|           Turning Improperly|                  Unspecified|               Sedan|Station Wagon/Spo...|\n",
            "|2021-12-14T00:00:...|      8:30|     NULL|     NULL|      NULL|            broadway|west 80 street -w...|                        0|                       0|                            0|                           0|                        0|                       0|                         0|                        0|         Unsafe Lane Changing|                  Unspecified|Station Wagon/Spo...|               Sedan|\n",
            "|2021-12-14T00:00:...|      0:59|     NULL| 40.59662| -74.00231|        BELT PARKWAY|                NULL|                        0|                       0|                            0|                           0|                        0|                       0|                         0|                        0|                 Unsafe Speed|                         NULL|               Sedan|                NULL|\n",
            "|2021-12-14T00:00:...|     23:10|   QUEENS| 40.66684| -73.78941|NORTH CONDUIT AVENUE|          150 STREET|                        2|                       0|                            0|                           0|                        0|                       0|                         2|                        0|         Reaction to Uninv...|                  Unspecified|               Sedan|               Sedan|\n",
            "|2021-12-14T00:00:...|     17:58| BROOKLYN| 40.68158| -73.97463|                NULL|                NULL|                        0|                       0|                            0|                           0|                        0|                       0|                         0|                        0|          Passing Too Closely|                  Unspecified|              Tanker|Station Wagon/Spo...|\n",
            "|2021-12-14T00:00:...|     20:03| BROOKLYN| 40.65068| -73.95881|                NULL|                NULL|                        4|                       0|                            0|                           0|                        0|                       0|                         4|                        0|             Steering Failure|                         NULL|               Sedan|                NULL|\n",
            "|2021-12-14T00:00:...|      1:28|     NULL|     NULL|      NULL|       MEEKER AVENUE|      LORIMER STREET|                        3|                       0|                            0|                           0|                        0|                       0|                         3|                        0|         Traffic Control D...|                  Unspecified|Station Wagon/Spo...|Station Wagon/Spo...|\n",
            "|2021-12-11T00:00:...|     19:43|    BRONX| 40.87262|-73.904686|WEST KINGSBRIDGE ...|        HEATH AVENUE|                        1|                       0|                            0|                           0|                        0|                       0|                         1|                        0|                  Unspecified|                  Unspecified|Station Wagon/Spo...|               Sedan|\n",
            "|2021-12-14T00:00:...|     14:30|     NULL|40.783268| -73.82485|WHITESTONE EXPRES...|                NULL|                        0|                       0|                            0|                           0|                        0|                       0|                         0|                        0|         Following Too Clo...|                  Unspecified|Station Wagon/Spo...|               Sedan|\n",
            "+--------------------+----------+---------+---------+----------+--------------------+--------------------+-------------------------+------------------------+-----------------------------+----------------------------+-------------------------+------------------------+--------------------------+-------------------------+-----------------------------+-----------------------------+--------------------+--------------------+\n",
            "only showing top 20 rows\n",
            "\n"
          ]
        }
      ],
      "source": [
        "df_selected.show()"
      ]
    },
    {
      "cell_type": "code",
      "execution_count": null,
      "id": "403f395b-7cd2-477c-b371-4d2def0c70301",
      "metadata": {
        "id": "403f395b-7cd2-477c-b371-4d2def0c70301",
        "colab": {
          "base_uri": "https://localhost:8080/"
        },
        "outputId": "4f721d5c-bb5b-4407-e493-663414a0c6aa"
      },
      "outputs": [
        {
          "output_type": "stream",
          "name": "stdout",
          "text": [
            "root\n",
            " |-- crash_date: string (nullable = true)\n",
            " |-- crash_time: string (nullable = true)\n",
            " |-- borough: string (nullable = true)\n",
            " |-- latitude: string (nullable = true)\n",
            " |-- longitude: string (nullable = true)\n",
            " |-- on_street_name: string (nullable = true)\n",
            " |-- off_street_name: string (nullable = true)\n",
            " |-- number_of_persons_injured: string (nullable = true)\n",
            " |-- number_of_persons_killed: string (nullable = true)\n",
            " |-- number_of_pedestrians_injured: string (nullable = true)\n",
            " |-- number_of_pedestrians_killed: string (nullable = true)\n",
            " |-- number_of_cyclist_injured: string (nullable = true)\n",
            " |-- number_of_cyclist_killed: string (nullable = true)\n",
            " |-- number_of_motorist_injured: string (nullable = true)\n",
            " |-- number_of_motorist_killed: string (nullable = true)\n",
            " |-- contributing_factor_vehicle_1: string (nullable = true)\n",
            " |-- contributing_factor_vehicle_2: string (nullable = true)\n",
            " |-- vehicle_type_code1: string (nullable = true)\n",
            " |-- vehicle_type_code2: string (nullable = true)\n",
            "\n"
          ]
        }
      ],
      "source": [
        "df_selected.printSchema()"
      ]
    },
    {
      "cell_type": "code",
      "execution_count": null,
      "id": "2df7a695-ad47-487a-af89-db60a690c15f",
      "metadata": {
        "id": "2df7a695-ad47-487a-af89-db60a690c15f"
      },
      "outputs": [],
      "source": [
        "df_selected = df_selected.withColumn('is_injured',\n",
        "                   when((col('number_of_persons_injured') + col('number_of_persons_killed')) > 0, 1).otherwise(0))"
      ]
    },
    {
      "cell_type": "code",
      "execution_count": null,
      "id": "c9c9a008-c075-4bd7-8f8e-5403c1f8a607",
      "metadata": {
        "id": "c9c9a008-c075-4bd7-8f8e-5403c1f8a607"
      },
      "outputs": [],
      "source": [
        "# Xoa nhung cot khong can thiet\n",
        "cols_to_drop = ['latitude', 'longitude', 'on_street_name', 'off_street_name', 'number_of_persons_injured', 'number_of_pedestrians_killed',\n",
        "                'number_of_cyclist_injured', 'number_of_motorist_injured', 'number_of_motorist_killed',\n",
        "                'crash_date', 'crash_time', 'number_of_persons_killed', 'number_of_pedestrians_injured',\n",
        "                'number_of_cyclist_killed']\n",
        "df_dropped_cols = df_selected.drop(*cols_to_drop)"
      ]
    },
    {
      "cell_type": "code",
      "execution_count": null,
      "id": "b440b7c0-4f3f-4a32-86fe-6c4f5c16c4ca",
      "metadata": {
        "id": "b440b7c0-4f3f-4a32-86fe-6c4f5c16c4ca",
        "colab": {
          "base_uri": "https://localhost:8080/"
        },
        "outputId": "75c837f6-9e0d-4f92-e711-fdc4b2b36a23"
      },
      "outputs": [
        {
          "output_type": "stream",
          "name": "stdout",
          "text": [
            "+-------+-----------------------------+-----------------------------+------------------+------------------+----------+\n",
            "|borough|contributing_factor_vehicle_1|contributing_factor_vehicle_2|vehicle_type_code1|vehicle_type_code2|is_injured|\n",
            "+-------+-----------------------------+-----------------------------+------------------+------------------+----------+\n",
            "|    367|                            4|                          231|                15|               346|         0|\n",
            "+-------+-----------------------------+-----------------------------+------------------+------------------+----------+\n",
            "\n"
          ]
        }
      ],
      "source": [
        "#Kiem tra du lieu thieu\n",
        "missing_counts = df_dropped_cols.select([sum(col(c).isNull().cast(\"int\")).alias(c) for c in df_dropped_cols.columns])\n",
        "missing_counts.show()"
      ]
    },
    {
      "cell_type": "code",
      "execution_count": null,
      "id": "106f25f9-a31f-4940-81cb-80488015a8c1",
      "metadata": {
        "id": "106f25f9-a31f-4940-81cb-80488015a8c1"
      },
      "outputs": [],
      "source": [
        "#Fill du lieu thieu bang gia tri mode\n",
        "categorical_cols = ['contributing_factor_vehicle_1', 'contributing_factor_vehicle_2',\n",
        "                    'vehicle_type_code1', 'vehicle_type_code2', 'borough']\n",
        "\n",
        "# for col_name in categorical_cols:\n",
        "#     # Get the mode value and bring it to the driver\n",
        "#     mode_value = df_dropped_cols.groupBy(col_name).count().orderBy('count', ascending=False).first()[0]\n",
        "#     # Fill missing values with the mode\n",
        "#     df_dropped_cols = df_dropped_cols.fillna({col_name: mode_value})\n",
        "for col_name in categorical_cols:\n",
        "    # Lấy mode\n",
        "    mode_row = df_dropped_cols.groupBy(col_name).count().orderBy('count', ascending=False).first()\n",
        "\n",
        "    # Kiểm tra nếu mode_row và mode_value không phải là None\n",
        "    if mode_row is not None and mode_row[0] is not None:\n",
        "        mode_value = mode_row[0]\n",
        "    else:\n",
        "        # Nếu không có mode, sử dụng giá trị 0\n",
        "        mode_value = 0\n",
        "\n",
        "    # Điền giá trị thiếu bằng mode hoặc 0\n",
        "    df_dropped_cols = df_dropped_cols.fillna({col_name: mode_value})\n"
      ]
    },
    {
      "cell_type": "code",
      "execution_count": null,
      "id": "541a9a57-9b8c-43e5-81bc-8ab0ec8a8580",
      "metadata": {
        "id": "541a9a57-9b8c-43e5-81bc-8ab0ec8a8580"
      },
      "outputs": [],
      "source": [
        "#Ma hoa du lieu bien phan loai\n",
        "def encode_categorical_cols(df: DataFrame, categorical_cols: list) -> DataFrame:\n",
        "    for col_name in categorical_cols:\n",
        "        indexer = StringIndexer(inputCol=col_name, outputCol=col_name + \"_encoded\", handleInvalid='keep')\n",
        "        df = indexer.fit(df).transform(df)\n",
        "    return df\n",
        "\n",
        "df_encoded = encode_categorical_cols(df_dropped_cols, categorical_cols)"
      ]
    },
    {
      "cell_type": "code",
      "execution_count": null,
      "id": "1040c4ce-cb9b-4fb8-9f3d-b607e60aa959",
      "metadata": {
        "id": "1040c4ce-cb9b-4fb8-9f3d-b607e60aa959"
      },
      "outputs": [],
      "source": [
        "df_final = df_encoded.drop(*categorical_cols)"
      ]
    },
    {
      "cell_type": "code",
      "execution_count": null,
      "id": "d45d68a5-0d4e-4cdb-9cf0-984792b8ce49",
      "metadata": {
        "colab": {
          "base_uri": "https://localhost:8080/"
        },
        "id": "d45d68a5-0d4e-4cdb-9cf0-984792b8ce49",
        "outputId": "fbc64e1a-b53a-49f6-a21e-870ef450fe17"
      },
      "outputs": [
        {
          "output_type": "stream",
          "name": "stdout",
          "text": [
            "+----------+-------------------------------------+-------------------------------------+--------------------------+--------------------------+---------------+\n",
            "|is_injured|contributing_factor_vehicle_1_encoded|contributing_factor_vehicle_2_encoded|vehicle_type_code1_encoded|vehicle_type_code2_encoded|borough_encoded|\n",
            "+----------+-------------------------------------+-------------------------------------+--------------------------+--------------------------+---------------+\n",
            "|         0|                                    0|                                    0|                         0|                         0|              0|\n",
            "+----------+-------------------------------------+-------------------------------------+--------------------------+--------------------------+---------------+\n",
            "\n"
          ]
        }
      ],
      "source": [
        "# Kiểm tra lại lần nữa xem còn giá trị null không\n",
        "missing_counts = df_final.select([sum(col(c).isNull().cast(\"int\")).alias(c) for c in df_final.columns])\n",
        "missing_counts.show()"
      ]
    },
    {
      "cell_type": "code",
      "execution_count": null,
      "id": "ddc9130a-dbd0-458c-afee-f3954b1ff98f",
      "metadata": {
        "id": "ddc9130a-dbd0-458c-afee-f3954b1ff98f"
      },
      "outputs": [],
      "source": [
        "# #Nếu còn dữ liệu null thì xóa các dòng đó đi\n",
        "# df_final = df_final.drop(how ='any', thresh=None, subset=None)\n",
        "# df_final.toPandas().info()"
      ]
    },
    {
      "cell_type": "code",
      "execution_count": null,
      "id": "752dc7cb-61d3-4b46-a947-47fc16807d00",
      "metadata": {
        "colab": {
          "base_uri": "https://localhost:8080/"
        },
        "id": "752dc7cb-61d3-4b46-a947-47fc16807d00",
        "outputId": "d94f85a7-8aca-4273-b15f-667ba648fda9"
      },
      "outputs": [
        {
          "output_type": "stream",
          "name": "stdout",
          "text": [
            "+----------+-------------------------------------+-------------------------------------+--------------------------+--------------------------+---------------+\n",
            "|is_injured|contributing_factor_vehicle_1_encoded|contributing_factor_vehicle_2_encoded|vehicle_type_code1_encoded|vehicle_type_code2_encoded|borough_encoded|\n",
            "+----------+-------------------------------------+-------------------------------------+--------------------------+--------------------------+---------------+\n",
            "|         1|                                 16.0|                                  0.0|                       0.0|                       1.0|            0.0|\n",
            "|         1|                                 17.0|                                  0.0|                       0.0|                       0.0|            0.0|\n",
            "|         0|                                  2.0|                                  0.0|                       0.0|                       5.0|            0.0|\n",
            "|         0|                                  0.0|                                  0.0|                       0.0|                       0.0|            1.0|\n",
            "|         0|                                  0.0|                                  0.0|                       0.0|                       0.0|            1.0|\n",
            "|         0|                                  0.0|                                  0.0|                      13.0|                       1.0|            0.0|\n",
            "|         0|                                  5.0|                                  0.0|                       0.0|                      11.0|            0.0|\n",
            "|         1|                                  0.0|                                  0.0|                       0.0|                       1.0|            3.0|\n",
            "|         0|                                  9.0|                                  0.0|                       0.0|                       0.0|            1.0|\n",
            "|         0|                                  5.0|                                  0.0|                       0.0|                       2.0|            4.0|\n",
            "|         0|                                  4.0|                                  0.0|                       1.0|                       0.0|            0.0|\n",
            "|         0|                                 10.0|                                  0.0|                       0.0|                       2.0|            2.0|\n",
            "|         0|                                 11.0|                                  0.0|                       1.0|                       1.0|            0.0|\n",
            "|         0|                                  6.0|                                  0.0|                       0.0|                       0.0|            0.0|\n",
            "|         1|                                 13.0|                                  0.0|                       0.0|                       1.0|            2.0|\n",
            "|         0|                                  5.0|                                  0.0|                      29.0|                       2.0|            1.0|\n",
            "|         1|                                 21.0|                                  0.0|                       0.0|                       0.0|            1.0|\n",
            "|         1|                                  7.0|                                  0.0|                       1.0|                       2.0|            0.0|\n",
            "|         1|                                  0.0|                                  0.0|                       1.0|                       1.0|            3.0|\n",
            "|         0|                                  2.0|                                  0.0|                       1.0|                       1.0|            0.0|\n",
            "+----------+-------------------------------------+-------------------------------------+--------------------------+--------------------------+---------------+\n",
            "only showing top 20 rows\n",
            "\n"
          ]
        }
      ],
      "source": [
        "df_final.show()"
      ]
    },
    {
      "cell_type": "code",
      "source": [
        "df_final.drop_duplicates().count()"
      ],
      "metadata": {
        "id": "2rrApq51zz9Z",
        "outputId": "7f671ff8-5b15-4516-f1d4-fa55c1e2ef08",
        "colab": {
          "base_uri": "https://localhost:8080/"
        }
      },
      "id": "2rrApq51zz9Z",
      "execution_count": null,
      "outputs": [
        {
          "output_type": "execute_result",
          "data": {
            "text/plain": [
              "659"
            ]
          },
          "metadata": {},
          "execution_count": 41
        }
      ]
    },
    {
      "cell_type": "code",
      "execution_count": null,
      "id": "bbab61b7-3559-4c5e-bbc0-4599c6bf41b0",
      "metadata": {
        "colab": {
          "base_uri": "https://localhost:8080/",
          "height": 269
        },
        "id": "bbab61b7-3559-4c5e-bbc0-4599c6bf41b0",
        "outputId": "de384c3e-65d1-4471-b5ce-ea2dddf7d195"
      },
      "outputs": [
        {
          "output_type": "execute_result",
          "data": {
            "text/plain": [
              "                                           0      1                   2    3  \\\n",
              "summary                                count   mean              stddev  min   \n",
              "is_injured                              1000  0.344  0.4752787496721159    0   \n",
              "contributing_factor_vehicle_1_encoded   1000  4.308   5.616108677427517  0.0   \n",
              "contributing_factor_vehicle_2_encoded   1000  0.399  1.6919402062902997  0.0   \n",
              "vehicle_type_code1_encoded              1000  1.517   3.878240806313057  0.0   \n",
              "vehicle_type_code2_encoded              1000  2.092   4.167361623725842  0.0   \n",
              "borough_encoded                         1000  1.403  1.4500667893906447  0.0   \n",
              "\n",
              "                                          4  \n",
              "summary                                 max  \n",
              "is_injured                                1  \n",
              "contributing_factor_vehicle_1_encoded  34.0  \n",
              "contributing_factor_vehicle_2_encoded  16.0  \n",
              "vehicle_type_code1_encoded             33.0  \n",
              "vehicle_type_code2_encoded             34.0  \n",
              "borough_encoded                         5.0  "
            ],
            "text/html": [
              "\n",
              "  <div id=\"df-309a0fae-2bf9-4586-9b58-572ebae2c162\" class=\"colab-df-container\">\n",
              "    <div>\n",
              "<style scoped>\n",
              "    .dataframe tbody tr th:only-of-type {\n",
              "        vertical-align: middle;\n",
              "    }\n",
              "\n",
              "    .dataframe tbody tr th {\n",
              "        vertical-align: top;\n",
              "    }\n",
              "\n",
              "    .dataframe thead th {\n",
              "        text-align: right;\n",
              "    }\n",
              "</style>\n",
              "<table border=\"1\" class=\"dataframe\">\n",
              "  <thead>\n",
              "    <tr style=\"text-align: right;\">\n",
              "      <th></th>\n",
              "      <th>0</th>\n",
              "      <th>1</th>\n",
              "      <th>2</th>\n",
              "      <th>3</th>\n",
              "      <th>4</th>\n",
              "    </tr>\n",
              "  </thead>\n",
              "  <tbody>\n",
              "    <tr>\n",
              "      <th>summary</th>\n",
              "      <td>count</td>\n",
              "      <td>mean</td>\n",
              "      <td>stddev</td>\n",
              "      <td>min</td>\n",
              "      <td>max</td>\n",
              "    </tr>\n",
              "    <tr>\n",
              "      <th>is_injured</th>\n",
              "      <td>1000</td>\n",
              "      <td>0.344</td>\n",
              "      <td>0.4752787496721159</td>\n",
              "      <td>0</td>\n",
              "      <td>1</td>\n",
              "    </tr>\n",
              "    <tr>\n",
              "      <th>contributing_factor_vehicle_1_encoded</th>\n",
              "      <td>1000</td>\n",
              "      <td>4.308</td>\n",
              "      <td>5.616108677427517</td>\n",
              "      <td>0.0</td>\n",
              "      <td>34.0</td>\n",
              "    </tr>\n",
              "    <tr>\n",
              "      <th>contributing_factor_vehicle_2_encoded</th>\n",
              "      <td>1000</td>\n",
              "      <td>0.399</td>\n",
              "      <td>1.6919402062902997</td>\n",
              "      <td>0.0</td>\n",
              "      <td>16.0</td>\n",
              "    </tr>\n",
              "    <tr>\n",
              "      <th>vehicle_type_code1_encoded</th>\n",
              "      <td>1000</td>\n",
              "      <td>1.517</td>\n",
              "      <td>3.878240806313057</td>\n",
              "      <td>0.0</td>\n",
              "      <td>33.0</td>\n",
              "    </tr>\n",
              "    <tr>\n",
              "      <th>vehicle_type_code2_encoded</th>\n",
              "      <td>1000</td>\n",
              "      <td>2.092</td>\n",
              "      <td>4.167361623725842</td>\n",
              "      <td>0.0</td>\n",
              "      <td>34.0</td>\n",
              "    </tr>\n",
              "    <tr>\n",
              "      <th>borough_encoded</th>\n",
              "      <td>1000</td>\n",
              "      <td>1.403</td>\n",
              "      <td>1.4500667893906447</td>\n",
              "      <td>0.0</td>\n",
              "      <td>5.0</td>\n",
              "    </tr>\n",
              "  </tbody>\n",
              "</table>\n",
              "</div>\n",
              "    <div class=\"colab-df-buttons\">\n",
              "\n",
              "  <div class=\"colab-df-container\">\n",
              "    <button class=\"colab-df-convert\" onclick=\"convertToInteractive('df-309a0fae-2bf9-4586-9b58-572ebae2c162')\"\n",
              "            title=\"Convert this dataframe to an interactive table.\"\n",
              "            style=\"display:none;\">\n",
              "\n",
              "  <svg xmlns=\"http://www.w3.org/2000/svg\" height=\"24px\" viewBox=\"0 -960 960 960\">\n",
              "    <path d=\"M120-120v-720h720v720H120Zm60-500h600v-160H180v160Zm220 220h160v-160H400v160Zm0 220h160v-160H400v160ZM180-400h160v-160H180v160Zm440 0h160v-160H620v160ZM180-180h160v-160H180v160Zm440 0h160v-160H620v160Z\"/>\n",
              "  </svg>\n",
              "    </button>\n",
              "\n",
              "  <style>\n",
              "    .colab-df-container {\n",
              "      display:flex;\n",
              "      gap: 12px;\n",
              "    }\n",
              "\n",
              "    .colab-df-convert {\n",
              "      background-color: #E8F0FE;\n",
              "      border: none;\n",
              "      border-radius: 50%;\n",
              "      cursor: pointer;\n",
              "      display: none;\n",
              "      fill: #1967D2;\n",
              "      height: 32px;\n",
              "      padding: 0 0 0 0;\n",
              "      width: 32px;\n",
              "    }\n",
              "\n",
              "    .colab-df-convert:hover {\n",
              "      background-color: #E2EBFA;\n",
              "      box-shadow: 0px 1px 2px rgba(60, 64, 67, 0.3), 0px 1px 3px 1px rgba(60, 64, 67, 0.15);\n",
              "      fill: #174EA6;\n",
              "    }\n",
              "\n",
              "    .colab-df-buttons div {\n",
              "      margin-bottom: 4px;\n",
              "    }\n",
              "\n",
              "    [theme=dark] .colab-df-convert {\n",
              "      background-color: #3B4455;\n",
              "      fill: #D2E3FC;\n",
              "    }\n",
              "\n",
              "    [theme=dark] .colab-df-convert:hover {\n",
              "      background-color: #434B5C;\n",
              "      box-shadow: 0px 1px 3px 1px rgba(0, 0, 0, 0.15);\n",
              "      filter: drop-shadow(0px 1px 2px rgba(0, 0, 0, 0.3));\n",
              "      fill: #FFFFFF;\n",
              "    }\n",
              "  </style>\n",
              "\n",
              "    <script>\n",
              "      const buttonEl =\n",
              "        document.querySelector('#df-309a0fae-2bf9-4586-9b58-572ebae2c162 button.colab-df-convert');\n",
              "      buttonEl.style.display =\n",
              "        google.colab.kernel.accessAllowed ? 'block' : 'none';\n",
              "\n",
              "      async function convertToInteractive(key) {\n",
              "        const element = document.querySelector('#df-309a0fae-2bf9-4586-9b58-572ebae2c162');\n",
              "        const dataTable =\n",
              "          await google.colab.kernel.invokeFunction('convertToInteractive',\n",
              "                                                    [key], {});\n",
              "        if (!dataTable) return;\n",
              "\n",
              "        const docLinkHtml = 'Like what you see? Visit the ' +\n",
              "          '<a target=\"_blank\" href=https://colab.research.google.com/notebooks/data_table.ipynb>data table notebook</a>'\n",
              "          + ' to learn more about interactive tables.';\n",
              "        element.innerHTML = '';\n",
              "        dataTable['output_type'] = 'display_data';\n",
              "        await google.colab.output.renderOutput(dataTable, element);\n",
              "        const docLink = document.createElement('div');\n",
              "        docLink.innerHTML = docLinkHtml;\n",
              "        element.appendChild(docLink);\n",
              "      }\n",
              "    </script>\n",
              "  </div>\n",
              "\n",
              "\n",
              "<div id=\"df-46820d0c-db17-4617-b133-9b1d4c14ed74\">\n",
              "  <button class=\"colab-df-quickchart\" onclick=\"quickchart('df-46820d0c-db17-4617-b133-9b1d4c14ed74')\"\n",
              "            title=\"Suggest charts\"\n",
              "            style=\"display:none;\">\n",
              "\n",
              "<svg xmlns=\"http://www.w3.org/2000/svg\" height=\"24px\"viewBox=\"0 0 24 24\"\n",
              "     width=\"24px\">\n",
              "    <g>\n",
              "        <path d=\"M19 3H5c-1.1 0-2 .9-2 2v14c0 1.1.9 2 2 2h14c1.1 0 2-.9 2-2V5c0-1.1-.9-2-2-2zM9 17H7v-7h2v7zm4 0h-2V7h2v10zm4 0h-2v-4h2v4z\"/>\n",
              "    </g>\n",
              "</svg>\n",
              "  </button>\n",
              "\n",
              "<style>\n",
              "  .colab-df-quickchart {\n",
              "      --bg-color: #E8F0FE;\n",
              "      --fill-color: #1967D2;\n",
              "      --hover-bg-color: #E2EBFA;\n",
              "      --hover-fill-color: #174EA6;\n",
              "      --disabled-fill-color: #AAA;\n",
              "      --disabled-bg-color: #DDD;\n",
              "  }\n",
              "\n",
              "  [theme=dark] .colab-df-quickchart {\n",
              "      --bg-color: #3B4455;\n",
              "      --fill-color: #D2E3FC;\n",
              "      --hover-bg-color: #434B5C;\n",
              "      --hover-fill-color: #FFFFFF;\n",
              "      --disabled-bg-color: #3B4455;\n",
              "      --disabled-fill-color: #666;\n",
              "  }\n",
              "\n",
              "  .colab-df-quickchart {\n",
              "    background-color: var(--bg-color);\n",
              "    border: none;\n",
              "    border-radius: 50%;\n",
              "    cursor: pointer;\n",
              "    display: none;\n",
              "    fill: var(--fill-color);\n",
              "    height: 32px;\n",
              "    padding: 0;\n",
              "    width: 32px;\n",
              "  }\n",
              "\n",
              "  .colab-df-quickchart:hover {\n",
              "    background-color: var(--hover-bg-color);\n",
              "    box-shadow: 0 1px 2px rgba(60, 64, 67, 0.3), 0 1px 3px 1px rgba(60, 64, 67, 0.15);\n",
              "    fill: var(--button-hover-fill-color);\n",
              "  }\n",
              "\n",
              "  .colab-df-quickchart-complete:disabled,\n",
              "  .colab-df-quickchart-complete:disabled:hover {\n",
              "    background-color: var(--disabled-bg-color);\n",
              "    fill: var(--disabled-fill-color);\n",
              "    box-shadow: none;\n",
              "  }\n",
              "\n",
              "  .colab-df-spinner {\n",
              "    border: 2px solid var(--fill-color);\n",
              "    border-color: transparent;\n",
              "    border-bottom-color: var(--fill-color);\n",
              "    animation:\n",
              "      spin 1s steps(1) infinite;\n",
              "  }\n",
              "\n",
              "  @keyframes spin {\n",
              "    0% {\n",
              "      border-color: transparent;\n",
              "      border-bottom-color: var(--fill-color);\n",
              "      border-left-color: var(--fill-color);\n",
              "    }\n",
              "    20% {\n",
              "      border-color: transparent;\n",
              "      border-left-color: var(--fill-color);\n",
              "      border-top-color: var(--fill-color);\n",
              "    }\n",
              "    30% {\n",
              "      border-color: transparent;\n",
              "      border-left-color: var(--fill-color);\n",
              "      border-top-color: var(--fill-color);\n",
              "      border-right-color: var(--fill-color);\n",
              "    }\n",
              "    40% {\n",
              "      border-color: transparent;\n",
              "      border-right-color: var(--fill-color);\n",
              "      border-top-color: var(--fill-color);\n",
              "    }\n",
              "    60% {\n",
              "      border-color: transparent;\n",
              "      border-right-color: var(--fill-color);\n",
              "    }\n",
              "    80% {\n",
              "      border-color: transparent;\n",
              "      border-right-color: var(--fill-color);\n",
              "      border-bottom-color: var(--fill-color);\n",
              "    }\n",
              "    90% {\n",
              "      border-color: transparent;\n",
              "      border-bottom-color: var(--fill-color);\n",
              "    }\n",
              "  }\n",
              "</style>\n",
              "\n",
              "  <script>\n",
              "    async function quickchart(key) {\n",
              "      const quickchartButtonEl =\n",
              "        document.querySelector('#' + key + ' button');\n",
              "      quickchartButtonEl.disabled = true;  // To prevent multiple clicks.\n",
              "      quickchartButtonEl.classList.add('colab-df-spinner');\n",
              "      try {\n",
              "        const charts = await google.colab.kernel.invokeFunction(\n",
              "            'suggestCharts', [key], {});\n",
              "      } catch (error) {\n",
              "        console.error('Error during call to suggestCharts:', error);\n",
              "      }\n",
              "      quickchartButtonEl.classList.remove('colab-df-spinner');\n",
              "      quickchartButtonEl.classList.add('colab-df-quickchart-complete');\n",
              "    }\n",
              "    (() => {\n",
              "      let quickchartButtonEl =\n",
              "        document.querySelector('#df-46820d0c-db17-4617-b133-9b1d4c14ed74 button');\n",
              "      quickchartButtonEl.style.display =\n",
              "        google.colab.kernel.accessAllowed ? 'block' : 'none';\n",
              "    })();\n",
              "  </script>\n",
              "</div>\n",
              "\n",
              "    </div>\n",
              "  </div>\n"
            ],
            "application/vnd.google.colaboratory.intrinsic+json": {
              "type": "dataframe",
              "summary": "{\n  \"name\": \"df_final\",\n  \"rows\": 7,\n  \"fields\": [\n    {\n      \"column\": 0,\n      \"properties\": {\n        \"dtype\": \"category\",\n        \"num_unique_values\": 2,\n        \"samples\": [\n          \"1000\",\n          \"count\"\n        ],\n        \"semantic_type\": \"\",\n        \"description\": \"\"\n      }\n    },\n    {\n      \"column\": 1,\n      \"properties\": {\n        \"dtype\": \"string\",\n        \"num_unique_values\": 7,\n        \"samples\": [\n          \"mean\",\n          \"0.344\"\n        ],\n        \"semantic_type\": \"\",\n        \"description\": \"\"\n      }\n    },\n    {\n      \"column\": 2,\n      \"properties\": {\n        \"dtype\": \"string\",\n        \"num_unique_values\": 7,\n        \"samples\": [\n          \"stddev\",\n          \"0.4752787496721159\"\n        ],\n        \"semantic_type\": \"\",\n        \"description\": \"\"\n      }\n    },\n    {\n      \"column\": 3,\n      \"properties\": {\n        \"dtype\": \"category\",\n        \"num_unique_values\": 3,\n        \"samples\": [\n          \"min\",\n          \"0\"\n        ],\n        \"semantic_type\": \"\",\n        \"description\": \"\"\n      }\n    },\n    {\n      \"column\": 4,\n      \"properties\": {\n        \"dtype\": \"string\",\n        \"num_unique_values\": 6,\n        \"samples\": [\n          \"max\",\n          \"1\"\n        ],\n        \"semantic_type\": \"\",\n        \"description\": \"\"\n      }\n    }\n  ]\n}"
            }
          },
          "metadata": {},
          "execution_count": 20
        }
      ],
      "source": [
        "#Đưa ra thống kê cơ bản\n",
        "df_final.describe().toPandas().transpose()"
      ]
    },
    {
      "cell_type": "code",
      "source": [
        "# Count duplicate rows by grouping all columns\n",
        "duplicate_rows = df_final.groupBy(df_final.columns).count().filter(\"count > 1\")\n",
        "\n",
        "# Show the duplicates\n",
        "duplicate_rows.show()\n",
        "\n",
        "# Count the total number of duplicate rows\n",
        "duplicate_count = duplicate_rows.count()\n",
        "print(f\"Number of duplicate rows: {duplicate_count}\")\n"
      ],
      "metadata": {
        "colab": {
          "base_uri": "https://localhost:8080/"
        },
        "id": "ps7YEX2e0Qh-",
        "outputId": "fa60ba54-e463-4aea-fcdd-499ae0dc8a25"
      },
      "id": "ps7YEX2e0Qh-",
      "execution_count": null,
      "outputs": [
        {
          "output_type": "stream",
          "name": "stdout",
          "text": [
            "+----------+-------------------------------------+-------------------------------------+--------------------------+--------------------------+---------------+-----+\n",
            "|is_injured|contributing_factor_vehicle_1_encoded|contributing_factor_vehicle_2_encoded|vehicle_type_code1_encoded|vehicle_type_code2_encoded|borough_encoded|count|\n",
            "+----------+-------------------------------------+-------------------------------------+--------------------------+--------------------------+---------------+-----+\n",
            "|         0|                                  1.0|                                  0.0|                       0.0|                       0.0|            3.0|    4|\n",
            "|         1|                                  1.0|                                  0.0|                       0.0|                       0.0|            0.0|    6|\n",
            "|         0|                                  0.0|                                  0.0|                       1.0|                       0.0|            1.0|    6|\n",
            "|         1|                                  1.0|                                  1.0|                       0.0|                       1.0|            1.0|    2|\n",
            "|         0|                                  4.0|                                  0.0|                       0.0|                       0.0|            0.0|    3|\n",
            "|         0|                                  5.0|                                  0.0|                       0.0|                       0.0|            1.0|    3|\n",
            "|         0|                                  5.0|                                  0.0|                       0.0|                       0.0|            0.0|    2|\n",
            "|         0|                                 14.0|                                  0.0|                       1.0|                       2.0|            2.0|    2|\n",
            "|         0|                                  4.0|                                  0.0|                       0.0|                       1.0|            2.0|    2|\n",
            "|         1|                                  0.0|                                  0.0|                       0.0|                       0.0|            3.0|    2|\n",
            "|         0|                                  1.0|                                  0.0|                       0.0|                       2.0|            0.0|    3|\n",
            "|         0|                                  1.0|                                  0.0|                       0.0|                       1.0|            1.0|    6|\n",
            "|         0|                                  7.0|                                  0.0|                       1.0|                       2.0|            3.0|    2|\n",
            "|         0|                                  5.0|                                  0.0|                       1.0|                       0.0|            2.0|    3|\n",
            "|         0|                                  0.0|                                  0.0|                       0.0|                       0.0|            2.0|    9|\n",
            "|         0|                                  1.0|                                  0.0|                       1.0|                       0.0|            1.0|    2|\n",
            "|         0|                                  8.0|                                  0.0|                       0.0|                       0.0|            4.0|    2|\n",
            "|         0|                                  1.0|                                  0.0|                       0.0|                       0.0|            0.0|    7|\n",
            "|         1|                                  3.0|                                  0.0|                       0.0|                       0.0|            0.0|    4|\n",
            "|         1|                                  3.0|                                  0.0|                       0.0|                       0.0|            2.0|    3|\n",
            "+----------+-------------------------------------+-------------------------------------+--------------------------+--------------------------+---------------+-----+\n",
            "only showing top 20 rows\n",
            "\n",
            "Number of duplicate rows: 134\n"
          ]
        }
      ]
    },
    {
      "cell_type": "code",
      "source": [
        "# Step 1: Convert PySpark DataFrame to Pandas DataFrame\n",
        "df_pandas = df_final.toPandas()\n",
        "\n",
        "# Step 2: Export to CSV file\n",
        "df_pandas.to_csv(\"/content/df_final.csv\", index=False)\n",
        "\n",
        "# Step 3: Download the CSV file\n",
        "from google.colab import files\n",
        "files.download('/content/df_final.csv')\n"
      ],
      "metadata": {
        "id": "oZrNyN1W1GFE",
        "outputId": "6f6e8bc8-4f9e-4910-bf9e-f2d236c1b206",
        "colab": {
          "base_uri": "https://localhost:8080/",
          "height": 17
        }
      },
      "id": "oZrNyN1W1GFE",
      "execution_count": null,
      "outputs": [
        {
          "output_type": "display_data",
          "data": {
            "text/plain": [
              "<IPython.core.display.Javascript object>"
            ],
            "application/javascript": [
              "\n",
              "    async function download(id, filename, size) {\n",
              "      if (!google.colab.kernel.accessAllowed) {\n",
              "        return;\n",
              "      }\n",
              "      const div = document.createElement('div');\n",
              "      const label = document.createElement('label');\n",
              "      label.textContent = `Downloading \"${filename}\": `;\n",
              "      div.appendChild(label);\n",
              "      const progress = document.createElement('progress');\n",
              "      progress.max = size;\n",
              "      div.appendChild(progress);\n",
              "      document.body.appendChild(div);\n",
              "\n",
              "      const buffers = [];\n",
              "      let downloaded = 0;\n",
              "\n",
              "      const channel = await google.colab.kernel.comms.open(id);\n",
              "      // Send a message to notify the kernel that we're ready.\n",
              "      channel.send({})\n",
              "\n",
              "      for await (const message of channel.messages) {\n",
              "        // Send a message to notify the kernel that we're ready.\n",
              "        channel.send({})\n",
              "        if (message.buffers) {\n",
              "          for (const buffer of message.buffers) {\n",
              "            buffers.push(buffer);\n",
              "            downloaded += buffer.byteLength;\n",
              "            progress.value = downloaded;\n",
              "          }\n",
              "        }\n",
              "      }\n",
              "      const blob = new Blob(buffers, {type: 'application/binary'});\n",
              "      const a = document.createElement('a');\n",
              "      a.href = window.URL.createObjectURL(blob);\n",
              "      a.download = filename;\n",
              "      div.appendChild(a);\n",
              "      a.click();\n",
              "      div.remove();\n",
              "    }\n",
              "  "
            ]
          },
          "metadata": {}
        },
        {
          "output_type": "display_data",
          "data": {
            "text/plain": [
              "<IPython.core.display.Javascript object>"
            ],
            "application/javascript": [
              "download(\"download_fcfe960a-9631-423f-88b5-dc62b97ae2cb\", \"df_final.csv\", 22408)"
            ]
          },
          "metadata": {}
        }
      ]
    }
  ],
  "metadata": {
    "colab": {
      "provenance": []
    },
    "kernelspec": {
      "display_name": "Python 3 (ipykernel)",
      "language": "python",
      "name": "python3"
    },
    "language_info": {
      "codemirror_mode": {
        "name": "ipython",
        "version": 3
      },
      "file_extension": ".py",
      "mimetype": "text/x-python",
      "name": "python",
      "nbconvert_exporter": "python",
      "pygments_lexer": "ipython3",
      "version": "3.11.5"
    }
  },
  "nbformat": 4,
  "nbformat_minor": 5
}