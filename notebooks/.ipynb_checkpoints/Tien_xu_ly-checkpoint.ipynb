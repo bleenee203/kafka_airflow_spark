{
 "cells": [
  {
   "cell_type": "code",
   "execution_count": 1,
   "id": "cd236c83-409d-4808-9c00-d217457bb0f0",
   "metadata": {
    "id": "cd236c83-409d-4808-9c00-d217457bb0f0"
   },
   "outputs": [],
   "source": [
    "from pyspark.sql import SparkSession\n",
    "from pyspark.sql.functions import col, when, lit, sum\n",
    "from pyspark.ml.feature import StringIndexer\n",
    "from pyspark.sql import DataFrame\n",
    "from pyspark.sql.types import IntegerType"
   ]
  },
  {
   "cell_type": "code",
   "execution_count": 2,
   "id": "c53c7cc0-993f-4421-8e73-e66a82383d34",
   "metadata": {
    "id": "c53c7cc0-993f-4421-8e73-e66a82383d34",
    "outputId": "7f4e0a9b-486b-4fb5-f4a8-4d91b86bdceb"
   },
   "outputs": [],
   "source": [
    "spark = SparkSession.builder \\\n",
    "        .appName(\"KafkaSparkStreaming\") \\\n",
    "        .master(\"spark://spark-master:7077\") \\\n",
    "        .getOrCreate()"
   ]
  },
  {
   "cell_type": "code",
   "execution_count": 3,
   "id": "35cff397-32e2-4775-ad58-375b3aaab6dd",
   "metadata": {
    "id": "35cff397-32e2-4775-ad58-375b3aaab6dd"
   },
   "outputs": [],
   "source": [
    "# df = spark.read.parquet(\"hdfs://namenode:9000/raw_data\")"
   ]
  },
  {
   "cell_type": "code",
   "execution_count": 4,
   "id": "189e59c1-272a-4641-808e-195fdcc99c4f",
   "metadata": {
    "id": "189e59c1-272a-4641-808e-195fdcc99c4f"
   },
   "outputs": [],
   "source": [
    "df = spark.read.parquet(\"hdfs://namenode:9000/raw_data\")"
   ]
  },
  {
   "cell_type": "code",
   "execution_count": 5,
   "id": "403f395b-7cd2-477c-b371-4d2def0c7030",
   "metadata": {
    "id": "403f395b-7cd2-477c-b371-4d2def0c7030"
   },
   "outputs": [
    {
     "name": "stdout",
     "output_type": "stream",
     "text": [
      "+--------------------+----------+---------+--------+---------+--------------------+------------------+-------------------------+------------------------+-----------------------------+----------------------------+-------------------------+------------------------+--------------------------+-------------------------+-----------------------------+-----------------------------+--------------------+--------------------+------------------+------------------+------------------+\n",
      "|          crash_date|crash_time|  borough|latitude|longitude|      on_street_name|   off_street_name|number_of_persons_injured|number_of_persons_killed|number_of_pedestrians_injured|number_of_pedestrians_killed|number_of_cyclist_injured|number_of_cyclist_killed|number_of_motorist_injured|number_of_motorist_killed|contributing_factor_vehicle_1|contributing_factor_vehicle_2|  vehicle_type_code1|  vehicle_type_code2|vehicle_type_code3|vehicle_type_code4|vehicle_type_code5|\n",
      "+--------------------+----------+---------+--------+---------+--------------------+------------------+-------------------------+------------------------+-----------------------------+----------------------------+-------------------------+------------------------+--------------------------+-------------------------+-----------------------------+-----------------------------+--------------------+--------------------+------------------+------------------+------------------+\n",
      "|2024-11-05T00:00:...|     14:40|     null|    null|     null|        BELT PARKWAY|              null|                     null|                    null|                         null|                        null|                     null|                    null|                      null|                     null|                  Unspecified|                  Unspecified|                  PK|               Sedan|              null|              null|              null|\n",
      "|2024-11-05T00:00:...|     11:12|MANHATTAN|    null|     null|            E 110 ST|             3 AVE|                     null|                    null|                         null|                        null|                     null|                    null|                      null|                     null|         Failure to Yield ...|                         null|Station Wagon/Spo...|                null|              null|              null|              null|\n",
      "|2024-11-05T00:00:...|     19:35| BROOKLYN|    null|     null|                null|              null|                     null|                    null|                         null|                        null|                     null|                    null|                      null|                     null|                  Unspecified|                  Unspecified|               Sedan|              E-Bike|              null|              null|              null|\n",
      "|2024-11-05T00:00:...|     17:38| BROOKLYN|    null|     null|                null|              null|                     null|                    null|                         null|                        null|                     null|                    null|                      null|                     null|                  Unspecified|                  Unspecified|               Sedan|Station Wagon/Spo...|              null|              null|              null|\n",
      "|2024-11-05T00:00:...|     15:51|   QUEENS|    null|     null|              144 ST|           123 AVE|                     null|                    null|                         null|                        null|                     null|                    null|                      null|                     null|         Failure to Yield ...|                  Unspecified|               Sedan|               Sedan|              null|              null|              null|\n",
      "|2024-11-05T00:00:...|     15:55|   QUEENS|    null|     null|                null|              null|                     null|                    null|                         null|                        null|                     null|                    null|                      null|                     null|         Driver Inattentio...|                  Unspecified|Station Wagon/Spo...|                null|              null|              null|              null|\n",
      "|2024-11-05T00:00:...|     16:43|   QUEENS|    null|     null|              37 AVE|COLLEGE POINT BLVD|                     null|                    null|                         null|                        null|                     null|                    null|                      null|                     null|              Other Vehicular|                         null|               Sedan|                null|              null|              null|              null|\n",
      "|2024-11-05T00:00:...|     19:32| BROOKLYN|    null|     null|               7 AVE|             56 ST|                     null|                    null|                         null|                        null|                     null|                    null|                      null|                     null|                  Unspecified|                  Unspecified|Station Wagon/Spo...|                Bike|              null|              null|              null|\n",
      "|2024-11-05T00:00:...|     16:10|MANHATTAN|    null|     null|               2 AVE|          E 100 ST|                     null|                    null|                         null|                        null|                     null|                    null|                      null|                     null|                  Unspecified|                  Unspecified|Station Wagon/Spo...|                Bike|              null|              null|              null|\n",
      "|2024-11-05T00:00:...|     15:51|     null|    null|     null|        BELT PARKWAY|        SHELL ROAD|                     null|                    null|                         null|                        null|                     null|                    null|                      null|                     null|         Driver Inattentio...|                         null|               Sedan|                null|              null|              null|              null|\n",
      "|2024-11-05T00:00:...|      6:40|     null|    null|     null|              174 ST|            64 AVE|                     null|                    null|                         null|                        null|                     null|                    null|                      null|                     null|           Turning Improperly|         Passing or Lane U...|Station Wagon/Spo...|          Motorcycle|              null|              null|              null|\n",
      "|2024-11-05T00:00:...|     16:40| BROOKLYN|    null|     null|     NEW UTRECHT AVE|             78 ST|                     null|                    null|                         null|                        null|                     null|                    null|                      null|                     null|                 Unsafe Speed|                  Unspecified|Station Wagon/Spo...|               Moped|              null|              null|              null|\n",
      "|2024-11-05T00:00:...|      7:15|   QUEENS|    null|     null|      WOODHAVEN BLVD|        MYRTLE AVE|                     null|                    null|                         null|                        null|                     null|                    null|                      null|                     null|         Following Too Clo...|                  Unspecified|               Sedan|       Pick-up Truck|              null|              null|              null|\n",
      "|2024-11-05T00:00:...|     12:05|MANHATTAN|    null|     null|             E 64 ST|             2 AVE|                     null|                    null|                         null|                        null|                     null|                    null|                      null|                     null|                  Unspecified|                  Unspecified|Station Wagon/Spo...|                Bike|              null|              null|              null|\n",
      "|2024-11-05T00:00:...|     21:56|MANHATTAN|    null|     null|             E 48 ST|     LEXINGTON AVE|                     null|                    null|                         null|                        null|                     null|                    null|                      null|                     null|         Driver Inattentio...|         Driver Inattentio...|Station Wagon/Spo...|           E-Scooter|              null|              null|              null|\n",
      "|2024-11-05T00:00:...|     10:35| BROOKLYN|    null|     null|                null|              null|                     null|                    null|                         null|                        null|                     null|                    null|                      null|                     null|         Reaction to Uninv...|          Passing Too Closely|           Flat Rack|               Sedan|              null|              null|              null|\n",
      "|2024-11-05T00:00:...|     17:20| BROOKLYN|    null|     null|       LEXINGTON AVE|      FRANKLIN AVE|                     null|                    null|                         null|                        null|                     null|                    null|                      null|                     null|         Driver Inattentio...|                  Unspecified|               Sedan|           Box Truck|              null|              null|              null|\n",
      "|2024-11-05T00:00:...|     22:44|     null|    null|     null|LONG ISLAND EXPRE...|              null|                     null|                    null|                         null|                        null|                     null|                    null|                      null|                     null|                  Unspecified|                         null|               Sedan|               Sedan|              null|              null|              null|\n",
      "|2024-11-05T00:00:...|     16:00|     null|    null|     null|         QUEENS BLVD|            72 AVE|                     null|                    null|                         null|                        null|                     null|                    null|                      null|                     null|         Following Too Clo...|                  Unspecified|Station Wagon/Spo...|Station Wagon/Spo...|              null|              null|              null|\n",
      "|2024-11-05T00:00:...|     21:38|MANHATTAN|    null|     null|               2 AVE|           E 55 ST|                     null|                    null|                         null|                        null|                     null|                    null|                      null|                     null|         Driver Inattentio...|                  Unspecified|               Sedan|               Moped|              null|              null|              null|\n",
      "+--------------------+----------+---------+--------+---------+--------------------+------------------+-------------------------+------------------------+-----------------------------+----------------------------+-------------------------+------------------------+--------------------------+-------------------------+-----------------------------+-----------------------------+--------------------+--------------------+------------------+------------------+------------------+\n",
      "only showing top 20 rows\n",
      "\n"
     ]
    }
   ],
   "source": [
    "df.show()"
   ]
  },
  {
   "cell_type": "code",
   "execution_count": 6,
   "id": "403f395b-7cd2-477c-b371-4d2def0c70301",
   "metadata": {
    "id": "403f395b-7cd2-477c-b371-4d2def0c70301"
   },
   "outputs": [
    {
     "name": "stdout",
     "output_type": "stream",
     "text": [
      "root\n",
      " |-- crash_date: string (nullable = true)\n",
      " |-- crash_time: string (nullable = true)\n",
      " |-- borough: string (nullable = true)\n",
      " |-- latitude: float (nullable = true)\n",
      " |-- longitude: float (nullable = true)\n",
      " |-- on_street_name: string (nullable = true)\n",
      " |-- off_street_name: string (nullable = true)\n",
      " |-- number_of_persons_injured: integer (nullable = true)\n",
      " |-- number_of_persons_killed: integer (nullable = true)\n",
      " |-- number_of_pedestrians_injured: integer (nullable = true)\n",
      " |-- number_of_pedestrians_killed: integer (nullable = true)\n",
      " |-- number_of_cyclist_injured: integer (nullable = true)\n",
      " |-- number_of_cyclist_killed: integer (nullable = true)\n",
      " |-- number_of_motorist_injured: integer (nullable = true)\n",
      " |-- number_of_motorist_killed: integer (nullable = true)\n",
      " |-- contributing_factor_vehicle_1: string (nullable = true)\n",
      " |-- contributing_factor_vehicle_2: string (nullable = true)\n",
      " |-- vehicle_type_code1: string (nullable = true)\n",
      " |-- vehicle_type_code2: string (nullable = true)\n",
      " |-- vehicle_type_code3: string (nullable = true)\n",
      " |-- vehicle_type_code4: string (nullable = true)\n",
      " |-- vehicle_type_code5: string (nullable = true)\n",
      "\n"
     ]
    }
   ],
   "source": [
    "df.printSchema()"
   ]
  },
  {
   "cell_type": "code",
   "execution_count": 7,
   "id": "2df7a695-ad47-487a-af89-db60a690c15f",
   "metadata": {
    "id": "2df7a695-ad47-487a-af89-db60a690c15f"
   },
   "outputs": [],
   "source": [
    "df = df.withColumn('is_injured',\n",
    "                   when((col('number_of_persons_injured').cast(IntegerType()) +\n",
    "                         col('number_of_persons_killed').cast(IntegerType())) > 0, 1).otherwise(0))"
   ]
  },
  {
   "cell_type": "code",
   "execution_count": 8,
   "id": "c9c9a008-c075-4bd7-8f8e-5403c1f8a607",
   "metadata": {
    "id": "c9c9a008-c075-4bd7-8f8e-5403c1f8a607"
   },
   "outputs": [],
   "source": [
    "# Xoa nhung cot khong can thiet\n",
    "cols_to_drop = ['latitude', 'longitude', 'on_street_name', 'off_street_name', 'number_of_persons_injured', 'number_of_pedestrians_killed',\n",
    "                'number_of_cyclist_injured', 'number_of_motorist_injured', 'number_of_motorist_killed',\n",
    "                'vehicle_type_code_3', 'vehicle_type_code_4', 'vehicle_type_code_5',\n",
    "                'crash_date', 'crash_time', 'number_of_persons_killed', 'number_of_pedestrians_injured',\n",
    "                'number_of_cyclist_killed']\n",
    "df_dropped_cols = df.drop(*cols_to_drop)"
   ]
  },
  {
   "cell_type": "code",
   "execution_count": 9,
   "id": "b440b7c0-4f3f-4a32-86fe-6c4f5c16c4ca",
   "metadata": {
    "id": "b440b7c0-4f3f-4a32-86fe-6c4f5c16c4ca"
   },
   "outputs": [
    {
     "name": "stdout",
     "output_type": "stream",
     "text": [
      "+-------+-----------------------------+-----------------------------+------------------+------------------+------------------+------------------+------------------+----------+\n",
      "|borough|contributing_factor_vehicle_1|contributing_factor_vehicle_2|vehicle_type_code1|vehicle_type_code2|vehicle_type_code3|vehicle_type_code4|vehicle_type_code5|is_injured|\n",
      "+-------+-----------------------------+-----------------------------+------------------+------------------+------------------+------------------+------------------+----------+\n",
      "|    202|                           17|                          206|                17|               239|               915|               915|               915|         0|\n",
      "+-------+-----------------------------+-----------------------------+------------------+------------------+------------------+------------------+------------------+----------+\n",
      "\n"
     ]
    }
   ],
   "source": [
    "#Kiem tra du lieu thieu\n",
    "missing_counts = df_dropped_cols.select([sum(col(c).isNull().cast(\"int\")).alias(c) for c in df_dropped_cols.columns])\n",
    "missing_counts.show()"
   ]
  },
  {
   "cell_type": "code",
   "execution_count": 10,
   "id": "d54c0114-20e9-4bfd-8d20-5bcbd73d8c01",
   "metadata": {},
   "outputs": [
    {
     "name": "stdout",
     "output_type": "stream",
     "text": [
      "3.4.1\n",
      "3.4.1\n"
     ]
    }
   ],
   "source": [
    "# In phiên bản Spark\n",
    "print(spark.version)\n",
    "\n",
    "# In phiên bản PySpark\n",
    "import pyspark\n",
    "print(pyspark.__version__)\n"
   ]
  },
  {
   "cell_type": "code",
   "execution_count": 11,
   "id": "4b1c330b-868a-4616-bc8f-cdcc005ee3c0",
   "metadata": {},
   "outputs": [
    {
     "name": "stdout",
     "output_type": "stream",
     "text": [
      "[('spark.app.name', 'KafkaSparkStreaming'), ('spark.executor.id', 'driver'), ('spark.app.submitTime', '1731322587080'), ('spark.app.startTime', '1731322587297'), ('spark.sql.warehouse.dir', 'file:/home/jovyan/work/notebooks/spark-warehouse'), ('spark.driver.extraJavaOptions', '-Djava.net.preferIPv6Addresses=false -XX:+IgnoreUnrecognizedVMOptions --add-opens=java.base/java.lang=ALL-UNNAMED --add-opens=java.base/java.lang.invoke=ALL-UNNAMED --add-opens=java.base/java.lang.reflect=ALL-UNNAMED --add-opens=java.base/java.io=ALL-UNNAMED --add-opens=java.base/java.net=ALL-UNNAMED --add-opens=java.base/java.nio=ALL-UNNAMED --add-opens=java.base/java.util=ALL-UNNAMED --add-opens=java.base/java.util.concurrent=ALL-UNNAMED --add-opens=java.base/java.util.concurrent.atomic=ALL-UNNAMED --add-opens=java.base/sun.nio.ch=ALL-UNNAMED --add-opens=java.base/sun.nio.cs=ALL-UNNAMED --add-opens=java.base/sun.security.action=ALL-UNNAMED --add-opens=java.base/sun.util.calendar=ALL-UNNAMED --add-opens=java.security.jgss/sun.security.krb5=ALL-UNNAMED -Djdk.reflect.useDirectMethodHandle=false'), ('spark.driver.host', '164efb1dca8d'), ('spark.rdd.compress', 'True'), ('spark.master', 'spark://spark-master:7077'), ('spark.serializer.objectStreamReset', '100'), ('spark.submit.pyFiles', ''), ('spark.submit.deployMode', 'client'), ('spark.app.id', 'app-20241111105629-0000'), ('spark.ui.showConsoleProgress', 'true'), ('spark.driver.port', '32913'), ('spark.executor.extraJavaOptions', '-Djava.net.preferIPv6Addresses=false -XX:+IgnoreUnrecognizedVMOptions --add-opens=java.base/java.lang=ALL-UNNAMED --add-opens=java.base/java.lang.invoke=ALL-UNNAMED --add-opens=java.base/java.lang.reflect=ALL-UNNAMED --add-opens=java.base/java.io=ALL-UNNAMED --add-opens=java.base/java.net=ALL-UNNAMED --add-opens=java.base/java.nio=ALL-UNNAMED --add-opens=java.base/java.util=ALL-UNNAMED --add-opens=java.base/java.util.concurrent=ALL-UNNAMED --add-opens=java.base/java.util.concurrent.atomic=ALL-UNNAMED --add-opens=java.base/sun.nio.ch=ALL-UNNAMED --add-opens=java.base/sun.nio.cs=ALL-UNNAMED --add-opens=java.base/sun.security.action=ALL-UNNAMED --add-opens=java.base/sun.util.calendar=ALL-UNNAMED --add-opens=java.security.jgss/sun.security.krb5=ALL-UNNAMED -Djdk.reflect.useDirectMethodHandle=false')]\n"
     ]
    }
   ],
   "source": [
    "# In thông tin cấu hình của Spark\n",
    "print(spark.sparkContext.getConf().getAll())\n"
   ]
  },
  {
   "cell_type": "code",
   "execution_count": 12,
   "id": "c11f407b-9551-490c-a63a-8022fd54ee01",
   "metadata": {},
   "outputs": [],
   "source": [
    "spark.conf.set(\"spark.sql.execution.arrow.pyspark.enabled\", \"true\")"
   ]
  },
  {
   "cell_type": "code",
   "execution_count": 14,
   "id": "106f25f9-a31f-4940-81cb-80488015a8c1",
   "metadata": {
    "id": "106f25f9-a31f-4940-81cb-80488015a8c1"
   },
   "outputs": [
    {
     "ename": "Py4JJavaError",
     "evalue": "An error occurred while calling o177.collectToPython.\n: org.apache.spark.SparkException: Job aborted due to stage failure: Task 0 in stage 6.0 failed 4 times, most recent failure: Lost task 0.3 in stage 6.0 (TID 35) (172.19.0.8 executor 0): java.io.InvalidClassException: org.apache.spark.sql.catalyst.expressions.BinaryArithmetic; local class incompatible: stream classdesc serialVersionUID = 1648551489420521118, local class serialVersionUID = -7538401055104463658\n\tat java.base/java.io.ObjectStreamClass.initNonProxy(ObjectStreamClass.java:597)\n\tat java.base/java.io.ObjectInputStream.readNonProxyDesc(ObjectInputStream.java:2051)\n\tat java.base/java.io.ObjectInputStream.readClassDesc(ObjectInputStream.java:1898)\n\tat java.base/java.io.ObjectInputStream.readNonProxyDesc(ObjectInputStream.java:2051)\n\tat java.base/java.io.ObjectInputStream.readClassDesc(ObjectInputStream.java:1898)\n\tat java.base/java.io.ObjectInputStream.readOrdinaryObject(ObjectInputStream.java:2224)\n\tat java.base/java.io.ObjectInputStream.readObject0(ObjectInputStream.java:1733)\n\tat java.base/java.io.ObjectInputStream.readObject(ObjectInputStream.java:509)\n\tat java.base/java.io.ObjectInputStream.readObject(ObjectInputStream.java:467)\n\tat scala.collection.immutable.List$SerializationProxy.readObject(List.scala:527)\n\tat jdk.internal.reflect.GeneratedMethodAccessor7.invoke(Unknown Source)\n\tat java.base/jdk.internal.reflect.DelegatingMethodAccessorImpl.invoke(DelegatingMethodAccessorImpl.java:43)\n\tat java.base/java.lang.reflect.Method.invoke(Method.java:568)\n\tat java.base/java.io.ObjectStreamClass.invokeReadObject(ObjectStreamClass.java:1100)\n\tat java.base/java.io.ObjectInputStream.readSerialData(ObjectInputStream.java:2423)\n\tat java.base/java.io.ObjectInputStream.readOrdinaryObject(ObjectInputStream.java:2257)\n\tat java.base/java.io.ObjectInputStream.readObject0(ObjectInputStream.java:1733)\n\tat java.base/java.io.ObjectInputStream$FieldValues.<init>(ObjectInputStream.java:2606)\n\tat java.base/java.io.ObjectInputStream.readSerialData(ObjectInputStream.java:2457)\n\tat java.base/java.io.ObjectInputStream.readOrdinaryObject(ObjectInputStream.java:2257)\n\tat java.base/java.io.ObjectInputStream.readObject0(ObjectInputStream.java:1733)\n\tat java.base/java.io.ObjectInputStream$FieldValues.<init>(ObjectInputStream.java:2606)\n\tat java.base/java.io.ObjectInputStream.readSerialData(ObjectInputStream.java:2457)\n\tat java.base/java.io.ObjectInputStream.readOrdinaryObject(ObjectInputStream.java:2257)\n\tat java.base/java.io.ObjectInputStream.readObject0(ObjectInputStream.java:1733)\n\tat java.base/java.io.ObjectInputStream.readArray(ObjectInputStream.java:2157)\n\tat java.base/java.io.ObjectInputStream.readObject0(ObjectInputStream.java:1721)\n\tat java.base/java.io.ObjectInputStream$FieldValues.<init>(ObjectInputStream.java:2606)\n\tat java.base/java.io.ObjectInputStream.readSerialData(ObjectInputStream.java:2457)\n\tat java.base/java.io.ObjectInputStream.readOrdinaryObject(ObjectInputStream.java:2257)\n\tat java.base/java.io.ObjectInputStream.readObject0(ObjectInputStream.java:1733)\n\tat java.base/java.io.ObjectInputStream$FieldValues.<init>(ObjectInputStream.java:2606)\n\tat java.base/java.io.ObjectInputStream.readSerialData(ObjectInputStream.java:2457)\n\tat java.base/java.io.ObjectInputStream.readOrdinaryObject(ObjectInputStream.java:2257)\n\tat java.base/java.io.ObjectInputStream.readObject0(ObjectInputStream.java:1733)\n\tat java.base/java.io.ObjectInputStream.readArray(ObjectInputStream.java:2157)\n\tat java.base/java.io.ObjectInputStream.readObject0(ObjectInputStream.java:1721)\n\tat java.base/java.io.ObjectInputStream.readArray(ObjectInputStream.java:2157)\n\tat java.base/java.io.ObjectInputStream.readObject0(ObjectInputStream.java:1721)\n\tat java.base/java.io.ObjectInputStream$FieldValues.<init>(ObjectInputStream.java:2606)\n\tat java.base/java.io.ObjectInputStream.readSerialData(ObjectInputStream.java:2457)\n\tat java.base/java.io.ObjectInputStream.readOrdinaryObject(ObjectInputStream.java:2257)\n\tat java.base/java.io.ObjectInputStream.readObject0(ObjectInputStream.java:1733)\n\tat java.base/java.io.ObjectInputStream.readArray(ObjectInputStream.java:2157)\n\tat java.base/java.io.ObjectInputStream.readObject0(ObjectInputStream.java:1721)\n\tat java.base/java.io.ObjectInputStream$FieldValues.<init>(ObjectInputStream.java:2606)\n\tat java.base/java.io.ObjectInputStream.readSerialData(ObjectInputStream.java:2457)\n\tat java.base/java.io.ObjectInputStream.readOrdinaryObject(ObjectInputStream.java:2257)\n\tat java.base/java.io.ObjectInputStream.readObject0(ObjectInputStream.java:1733)\n\tat java.base/java.io.ObjectInputStream$FieldValues.<init>(ObjectInputStream.java:2606)\n\tat java.base/java.io.ObjectInputStream.readSerialData(ObjectInputStream.java:2457)\n\tat java.base/java.io.ObjectInputStream.readOrdinaryObject(ObjectInputStream.java:2257)\n\tat java.base/java.io.ObjectInputStream.readObject0(ObjectInputStream.java:1733)\n\tat java.base/java.io.ObjectInputStream$FieldValues.<init>(ObjectInputStream.java:2606)\n\tat java.base/java.io.ObjectInputStream.readSerialData(ObjectInputStream.java:2457)\n\tat java.base/java.io.ObjectInputStream.readOrdinaryObject(ObjectInputStream.java:2257)\n\tat java.base/java.io.ObjectInputStream.readObject0(ObjectInputStream.java:1733)\n\tat java.base/java.io.ObjectInputStream.readObject(ObjectInputStream.java:509)\n\tat java.base/java.io.ObjectInputStream.readObject(ObjectInputStream.java:467)\n\tat scala.collection.immutable.List$SerializationProxy.readObject(List.scala:527)\n\tat jdk.internal.reflect.GeneratedMethodAccessor7.invoke(Unknown Source)\n\tat java.base/jdk.internal.reflect.DelegatingMethodAccessorImpl.invoke(DelegatingMethodAccessorImpl.java:43)\n\tat java.base/java.lang.reflect.Method.invoke(Method.java:568)\n\tat java.base/java.io.ObjectStreamClass.invokeReadObject(ObjectStreamClass.java:1100)\n\tat java.base/java.io.ObjectInputStream.readSerialData(ObjectInputStream.java:2423)\n\tat java.base/java.io.ObjectInputStream.readOrdinaryObject(ObjectInputStream.java:2257)\n\tat java.base/java.io.ObjectInputStream.readObject0(ObjectInputStream.java:1733)\n\tat java.base/java.io.ObjectInputStream$FieldValues.<init>(ObjectInputStream.java:2606)\n\tat java.base/java.io.ObjectInputStream.readSerialData(ObjectInputStream.java:2457)\n\tat java.base/java.io.ObjectInputStream.readOrdinaryObject(ObjectInputStream.java:2257)\n\tat java.base/java.io.ObjectInputStream.readObject0(ObjectInputStream.java:1733)\n\tat java.base/java.io.ObjectInputStream$FieldValues.<init>(ObjectInputStream.java:2606)\n\tat java.base/java.io.ObjectInputStream.readSerialData(ObjectInputStream.java:2457)\n\tat java.base/java.io.ObjectInputStream.readOrdinaryObject(ObjectInputStream.java:2257)\n\tat java.base/java.io.ObjectInputStream.readObject0(ObjectInputStream.java:1733)\n\tat java.base/java.io.ObjectInputStream.readObject(ObjectInputStream.java:509)\n\tat java.base/java.io.ObjectInputStream.readObject(ObjectInputStream.java:467)\n\tat org.apache.spark.serializer.JavaDeserializationStream.readObject(JavaSerializer.scala:87)\n\tat org.apache.spark.serializer.JavaSerializerInstance.deserialize(JavaSerializer.scala:129)\n\tat org.apache.spark.scheduler.ShuffleMapTask.runTask(ShuffleMapTask.scala:87)\n\tat org.apache.spark.scheduler.ShuffleMapTask.runTask(ShuffleMapTask.scala:53)\n\tat org.apache.spark.TaskContext.runTaskWithListeners(TaskContext.scala:161)\n\tat org.apache.spark.scheduler.Task.run(Task.scala:139)\n\tat org.apache.spark.executor.Executor$TaskRunner.$anonfun$run$3(Executor.scala:554)\n\tat org.apache.spark.util.Utils$.tryWithSafeFinally(Utils.scala:1529)\n\tat org.apache.spark.executor.Executor$TaskRunner.run(Executor.scala:557)\n\tat java.base/java.util.concurrent.ThreadPoolExecutor.runWorker(ThreadPoolExecutor.java:1136)\n\tat java.base/java.util.concurrent.ThreadPoolExecutor$Worker.run(ThreadPoolExecutor.java:635)\n\tat java.base/java.lang.Thread.run(Thread.java:840)\n\nDriver stacktrace:\n\tat org.apache.spark.scheduler.DAGScheduler.failJobAndIndependentStages(DAGScheduler.scala:2785)\n\tat org.apache.spark.scheduler.DAGScheduler.$anonfun$abortStage$2(DAGScheduler.scala:2721)\n\tat org.apache.spark.scheduler.DAGScheduler.$anonfun$abortStage$2$adapted(DAGScheduler.scala:2720)\n\tat scala.collection.mutable.ResizableArray.foreach(ResizableArray.scala:62)\n\tat scala.collection.mutable.ResizableArray.foreach$(ResizableArray.scala:55)\n\tat scala.collection.mutable.ArrayBuffer.foreach(ArrayBuffer.scala:49)\n\tat org.apache.spark.scheduler.DAGScheduler.abortStage(DAGScheduler.scala:2720)\n\tat org.apache.spark.scheduler.DAGScheduler.$anonfun$handleTaskSetFailed$1(DAGScheduler.scala:1206)\n\tat org.apache.spark.scheduler.DAGScheduler.$anonfun$handleTaskSetFailed$1$adapted(DAGScheduler.scala:1206)\n\tat scala.Option.foreach(Option.scala:407)\n\tat org.apache.spark.scheduler.DAGScheduler.handleTaskSetFailed(DAGScheduler.scala:1206)\n\tat org.apache.spark.scheduler.DAGSchedulerEventProcessLoop.doOnReceive(DAGScheduler.scala:2984)\n\tat org.apache.spark.scheduler.DAGSchedulerEventProcessLoop.onReceive(DAGScheduler.scala:2923)\n\tat org.apache.spark.scheduler.DAGSchedulerEventProcessLoop.onReceive(DAGScheduler.scala:2912)\n\tat org.apache.spark.util.EventLoop$$anon$1.run(EventLoop.scala:49)\nCaused by: java.io.InvalidClassException: org.apache.spark.sql.catalyst.expressions.BinaryArithmetic; local class incompatible: stream classdesc serialVersionUID = 1648551489420521118, local class serialVersionUID = -7538401055104463658\n\tat java.base/java.io.ObjectStreamClass.initNonProxy(ObjectStreamClass.java:597)\n\tat java.base/java.io.ObjectInputStream.readNonProxyDesc(ObjectInputStream.java:2051)\n\tat java.base/java.io.ObjectInputStream.readClassDesc(ObjectInputStream.java:1898)\n\tat java.base/java.io.ObjectInputStream.readNonProxyDesc(ObjectInputStream.java:2051)\n\tat java.base/java.io.ObjectInputStream.readClassDesc(ObjectInputStream.java:1898)\n\tat java.base/java.io.ObjectInputStream.readOrdinaryObject(ObjectInputStream.java:2224)\n\tat java.base/java.io.ObjectInputStream.readObject0(ObjectInputStream.java:1733)\n\tat java.base/java.io.ObjectInputStream.readObject(ObjectInputStream.java:509)\n\tat java.base/java.io.ObjectInputStream.readObject(ObjectInputStream.java:467)\n\tat scala.collection.immutable.List$SerializationProxy.readObject(List.scala:527)\n\tat jdk.internal.reflect.GeneratedMethodAccessor7.invoke(Unknown Source)\n\tat java.base/jdk.internal.reflect.DelegatingMethodAccessorImpl.invoke(DelegatingMethodAccessorImpl.java:43)\n\tat java.base/java.lang.reflect.Method.invoke(Method.java:568)\n\tat java.base/java.io.ObjectStreamClass.invokeReadObject(ObjectStreamClass.java:1100)\n\tat java.base/java.io.ObjectInputStream.readSerialData(ObjectInputStream.java:2423)\n\tat java.base/java.io.ObjectInputStream.readOrdinaryObject(ObjectInputStream.java:2257)\n\tat java.base/java.io.ObjectInputStream.readObject0(ObjectInputStream.java:1733)\n\tat java.base/java.io.ObjectInputStream$FieldValues.<init>(ObjectInputStream.java:2606)\n\tat java.base/java.io.ObjectInputStream.readSerialData(ObjectInputStream.java:2457)\n\tat java.base/java.io.ObjectInputStream.readOrdinaryObject(ObjectInputStream.java:2257)\n\tat java.base/java.io.ObjectInputStream.readObject0(ObjectInputStream.java:1733)\n\tat java.base/java.io.ObjectInputStream$FieldValues.<init>(ObjectInputStream.java:2606)\n\tat java.base/java.io.ObjectInputStream.readSerialData(ObjectInputStream.java:2457)\n\tat java.base/java.io.ObjectInputStream.readOrdinaryObject(ObjectInputStream.java:2257)\n\tat java.base/java.io.ObjectInputStream.readObject0(ObjectInputStream.java:1733)\n\tat java.base/java.io.ObjectInputStream.readArray(ObjectInputStream.java:2157)\n\tat java.base/java.io.ObjectInputStream.readObject0(ObjectInputStream.java:1721)\n\tat java.base/java.io.ObjectInputStream$FieldValues.<init>(ObjectInputStream.java:2606)\n\tat java.base/java.io.ObjectInputStream.readSerialData(ObjectInputStream.java:2457)\n\tat java.base/java.io.ObjectInputStream.readOrdinaryObject(ObjectInputStream.java:2257)\n\tat java.base/java.io.ObjectInputStream.readObject0(ObjectInputStream.java:1733)\n\tat java.base/java.io.ObjectInputStream$FieldValues.<init>(ObjectInputStream.java:2606)\n\tat java.base/java.io.ObjectInputStream.readSerialData(ObjectInputStream.java:2457)\n\tat java.base/java.io.ObjectInputStream.readOrdinaryObject(ObjectInputStream.java:2257)\n\tat java.base/java.io.ObjectInputStream.readObject0(ObjectInputStream.java:1733)\n\tat java.base/java.io.ObjectInputStream.readArray(ObjectInputStream.java:2157)\n\tat java.base/java.io.ObjectInputStream.readObject0(ObjectInputStream.java:1721)\n\tat java.base/java.io.ObjectInputStream.readArray(ObjectInputStream.java:2157)\n\tat java.base/java.io.ObjectInputStream.readObject0(ObjectInputStream.java:1721)\n\tat java.base/java.io.ObjectInputStream$FieldValues.<init>(ObjectInputStream.java:2606)\n\tat java.base/java.io.ObjectInputStream.readSerialData(ObjectInputStream.java:2457)\n\tat java.base/java.io.ObjectInputStream.readOrdinaryObject(ObjectInputStream.java:2257)\n\tat java.base/java.io.ObjectInputStream.readObject0(ObjectInputStream.java:1733)\n\tat java.base/java.io.ObjectInputStream.readArray(ObjectInputStream.java:2157)\n\tat java.base/java.io.ObjectInputStream.readObject0(ObjectInputStream.java:1721)\n\tat java.base/java.io.ObjectInputStream$FieldValues.<init>(ObjectInputStream.java:2606)\n\tat java.base/java.io.ObjectInputStream.readSerialData(ObjectInputStream.java:2457)\n\tat java.base/java.io.ObjectInputStream.readOrdinaryObject(ObjectInputStream.java:2257)\n\tat java.base/java.io.ObjectInputStream.readObject0(ObjectInputStream.java:1733)\n\tat java.base/java.io.ObjectInputStream$FieldValues.<init>(ObjectInputStream.java:2606)\n\tat java.base/java.io.ObjectInputStream.readSerialData(ObjectInputStream.java:2457)\n\tat java.base/java.io.ObjectInputStream.readOrdinaryObject(ObjectInputStream.java:2257)\n\tat java.base/java.io.ObjectInputStream.readObject0(ObjectInputStream.java:1733)\n\tat java.base/java.io.ObjectInputStream$FieldValues.<init>(ObjectInputStream.java:2606)\n\tat java.base/java.io.ObjectInputStream.readSerialData(ObjectInputStream.java:2457)\n\tat java.base/java.io.ObjectInputStream.readOrdinaryObject(ObjectInputStream.java:2257)\n\tat java.base/java.io.ObjectInputStream.readObject0(ObjectInputStream.java:1733)\n\tat java.base/java.io.ObjectInputStream.readObject(ObjectInputStream.java:509)\n\tat java.base/java.io.ObjectInputStream.readObject(ObjectInputStream.java:467)\n\tat scala.collection.immutable.List$SerializationProxy.readObject(List.scala:527)\n\tat jdk.internal.reflect.GeneratedMethodAccessor7.invoke(Unknown Source)\n\tat java.base/jdk.internal.reflect.DelegatingMethodAccessorImpl.invoke(DelegatingMethodAccessorImpl.java:43)\n\tat java.base/java.lang.reflect.Method.invoke(Method.java:568)\n\tat java.base/java.io.ObjectStreamClass.invokeReadObject(ObjectStreamClass.java:1100)\n\tat java.base/java.io.ObjectInputStream.readSerialData(ObjectInputStream.java:2423)\n\tat java.base/java.io.ObjectInputStream.readOrdinaryObject(ObjectInputStream.java:2257)\n\tat java.base/java.io.ObjectInputStream.readObject0(ObjectInputStream.java:1733)\n\tat java.base/java.io.ObjectInputStream$FieldValues.<init>(ObjectInputStream.java:2606)\n\tat java.base/java.io.ObjectInputStream.readSerialData(ObjectInputStream.java:2457)\n\tat java.base/java.io.ObjectInputStream.readOrdinaryObject(ObjectInputStream.java:2257)\n\tat java.base/java.io.ObjectInputStream.readObject0(ObjectInputStream.java:1733)\n\tat java.base/java.io.ObjectInputStream$FieldValues.<init>(ObjectInputStream.java:2606)\n\tat java.base/java.io.ObjectInputStream.readSerialData(ObjectInputStream.java:2457)\n\tat java.base/java.io.ObjectInputStream.readOrdinaryObject(ObjectInputStream.java:2257)\n\tat java.base/java.io.ObjectInputStream.readObject0(ObjectInputStream.java:1733)\n\tat java.base/java.io.ObjectInputStream.readObject(ObjectInputStream.java:509)\n\tat java.base/java.io.ObjectInputStream.readObject(ObjectInputStream.java:467)\n\tat org.apache.spark.serializer.JavaDeserializationStream.readObject(JavaSerializer.scala:87)\n\tat org.apache.spark.serializer.JavaSerializerInstance.deserialize(JavaSerializer.scala:129)\n\tat org.apache.spark.scheduler.ShuffleMapTask.runTask(ShuffleMapTask.scala:87)\n\tat org.apache.spark.scheduler.ShuffleMapTask.runTask(ShuffleMapTask.scala:53)\n\tat org.apache.spark.TaskContext.runTaskWithListeners(TaskContext.scala:161)\n\tat org.apache.spark.scheduler.Task.run(Task.scala:139)\n\tat org.apache.spark.executor.Executor$TaskRunner.$anonfun$run$3(Executor.scala:554)\n\tat org.apache.spark.util.Utils$.tryWithSafeFinally(Utils.scala:1529)\n\tat org.apache.spark.executor.Executor$TaskRunner.run(Executor.scala:557)\n\tat java.base/java.util.concurrent.ThreadPoolExecutor.runWorker(ThreadPoolExecutor.java:1136)\n\tat java.base/java.util.concurrent.ThreadPoolExecutor$Worker.run(ThreadPoolExecutor.java:635)\n\tat java.base/java.lang.Thread.run(Thread.java:840)\n",
     "output_type": "error",
     "traceback": [
      "\u001b[0;31m---------------------------------------------------------------------------\u001b[0m",
      "\u001b[0;31mPy4JJavaError\u001b[0m                             Traceback (most recent call last)",
      "Cell \u001b[0;32mIn[14], line 15\u001b[0m\n\u001b[1;32m     13\u001b[0m mode_values \u001b[38;5;241m=\u001b[39m {}\n\u001b[1;32m     14\u001b[0m \u001b[38;5;28;01mfor\u001b[39;00m col_name \u001b[38;5;129;01min\u001b[39;00m categorical_cols:\n\u001b[0;32m---> 15\u001b[0m     mode_values[col_name] \u001b[38;5;241m=\u001b[39m \u001b[43mdf_dropped_cols\u001b[49m\u001b[38;5;241;43m.\u001b[39;49m\u001b[43mgroupBy\u001b[49m\u001b[43m(\u001b[49m\u001b[43mcol_name\u001b[49m\u001b[43m)\u001b[49m\u001b[38;5;241;43m.\u001b[39;49m\u001b[43mcount\u001b[49m\u001b[43m(\u001b[49m\u001b[43m)\u001b[49m\u001b[38;5;241;43m.\u001b[39;49m\u001b[43morderBy\u001b[49m\u001b[43m(\u001b[49m\u001b[43mF\u001b[49m\u001b[38;5;241;43m.\u001b[39;49m\u001b[43mdesc\u001b[49m\u001b[43m(\u001b[49m\u001b[38;5;124;43m'\u001b[39;49m\u001b[38;5;124;43mcount\u001b[39;49m\u001b[38;5;124;43m'\u001b[39;49m\u001b[43m)\u001b[49m\u001b[43m)\u001b[49m\u001b[38;5;241;43m.\u001b[39;49m\u001b[43mcollect\u001b[49m\u001b[43m(\u001b[49m\u001b[43m)\u001b[49m[\u001b[38;5;241m0\u001b[39m][\u001b[38;5;241m0\u001b[39m]\n\u001b[1;32m     17\u001b[0m \u001b[38;5;66;03m# Điền giá trị thiếu\u001b[39;00m\n\u001b[1;32m     18\u001b[0m \u001b[38;5;28;01mfor\u001b[39;00m col_name, mode_value \u001b[38;5;129;01min\u001b[39;00m mode_values\u001b[38;5;241m.\u001b[39mitems():\n",
      "File \u001b[0;32m/usr/local/spark/python/pyspark/sql/dataframe.py:1216\u001b[0m, in \u001b[0;36mDataFrame.collect\u001b[0;34m(self)\u001b[0m\n\u001b[1;32m   1196\u001b[0m \u001b[38;5;250m\u001b[39m\u001b[38;5;124;03m\"\"\"Returns all the records as a list of :class:`Row`.\u001b[39;00m\n\u001b[1;32m   1197\u001b[0m \n\u001b[1;32m   1198\u001b[0m \u001b[38;5;124;03m.. versionadded:: 1.3.0\u001b[39;00m\n\u001b[0;32m   (...)\u001b[0m\n\u001b[1;32m   1213\u001b[0m \u001b[38;5;124;03m[Row(age=14, name='Tom'), Row(age=23, name='Alice'), Row(age=16, name='Bob')]\u001b[39;00m\n\u001b[1;32m   1214\u001b[0m \u001b[38;5;124;03m\"\"\"\u001b[39;00m\n\u001b[1;32m   1215\u001b[0m \u001b[38;5;28;01mwith\u001b[39;00m SCCallSiteSync(\u001b[38;5;28mself\u001b[39m\u001b[38;5;241m.\u001b[39m_sc):\n\u001b[0;32m-> 1216\u001b[0m     sock_info \u001b[38;5;241m=\u001b[39m \u001b[38;5;28;43mself\u001b[39;49m\u001b[38;5;241;43m.\u001b[39;49m\u001b[43m_jdf\u001b[49m\u001b[38;5;241;43m.\u001b[39;49m\u001b[43mcollectToPython\u001b[49m\u001b[43m(\u001b[49m\u001b[43m)\u001b[49m\n\u001b[1;32m   1217\u001b[0m \u001b[38;5;28;01mreturn\u001b[39;00m \u001b[38;5;28mlist\u001b[39m(_load_from_socket(sock_info, BatchedSerializer(CPickleSerializer())))\n",
      "File \u001b[0;32m/usr/local/spark/python/lib/py4j-0.10.9.7-src.zip/py4j/java_gateway.py:1322\u001b[0m, in \u001b[0;36mJavaMember.__call__\u001b[0;34m(self, *args)\u001b[0m\n\u001b[1;32m   1316\u001b[0m command \u001b[38;5;241m=\u001b[39m proto\u001b[38;5;241m.\u001b[39mCALL_COMMAND_NAME \u001b[38;5;241m+\u001b[39m\\\n\u001b[1;32m   1317\u001b[0m     \u001b[38;5;28mself\u001b[39m\u001b[38;5;241m.\u001b[39mcommand_header \u001b[38;5;241m+\u001b[39m\\\n\u001b[1;32m   1318\u001b[0m     args_command \u001b[38;5;241m+\u001b[39m\\\n\u001b[1;32m   1319\u001b[0m     proto\u001b[38;5;241m.\u001b[39mEND_COMMAND_PART\n\u001b[1;32m   1321\u001b[0m answer \u001b[38;5;241m=\u001b[39m \u001b[38;5;28mself\u001b[39m\u001b[38;5;241m.\u001b[39mgateway_client\u001b[38;5;241m.\u001b[39msend_command(command)\n\u001b[0;32m-> 1322\u001b[0m return_value \u001b[38;5;241m=\u001b[39m \u001b[43mget_return_value\u001b[49m\u001b[43m(\u001b[49m\n\u001b[1;32m   1323\u001b[0m \u001b[43m    \u001b[49m\u001b[43manswer\u001b[49m\u001b[43m,\u001b[49m\u001b[43m \u001b[49m\u001b[38;5;28;43mself\u001b[39;49m\u001b[38;5;241;43m.\u001b[39;49m\u001b[43mgateway_client\u001b[49m\u001b[43m,\u001b[49m\u001b[43m \u001b[49m\u001b[38;5;28;43mself\u001b[39;49m\u001b[38;5;241;43m.\u001b[39;49m\u001b[43mtarget_id\u001b[49m\u001b[43m,\u001b[49m\u001b[43m \u001b[49m\u001b[38;5;28;43mself\u001b[39;49m\u001b[38;5;241;43m.\u001b[39;49m\u001b[43mname\u001b[49m\u001b[43m)\u001b[49m\n\u001b[1;32m   1325\u001b[0m \u001b[38;5;28;01mfor\u001b[39;00m temp_arg \u001b[38;5;129;01min\u001b[39;00m temp_args:\n\u001b[1;32m   1326\u001b[0m     \u001b[38;5;28;01mif\u001b[39;00m \u001b[38;5;28mhasattr\u001b[39m(temp_arg, \u001b[38;5;124m\"\u001b[39m\u001b[38;5;124m_detach\u001b[39m\u001b[38;5;124m\"\u001b[39m):\n",
      "File \u001b[0;32m/usr/local/spark/python/pyspark/errors/exceptions/captured.py:169\u001b[0m, in \u001b[0;36mcapture_sql_exception.<locals>.deco\u001b[0;34m(*a, **kw)\u001b[0m\n\u001b[1;32m    167\u001b[0m \u001b[38;5;28;01mdef\u001b[39;00m \u001b[38;5;21mdeco\u001b[39m(\u001b[38;5;241m*\u001b[39ma: Any, \u001b[38;5;241m*\u001b[39m\u001b[38;5;241m*\u001b[39mkw: Any) \u001b[38;5;241m-\u001b[39m\u001b[38;5;241m>\u001b[39m Any:\n\u001b[1;32m    168\u001b[0m     \u001b[38;5;28;01mtry\u001b[39;00m:\n\u001b[0;32m--> 169\u001b[0m         \u001b[38;5;28;01mreturn\u001b[39;00m \u001b[43mf\u001b[49m\u001b[43m(\u001b[49m\u001b[38;5;241;43m*\u001b[39;49m\u001b[43ma\u001b[49m\u001b[43m,\u001b[49m\u001b[43m \u001b[49m\u001b[38;5;241;43m*\u001b[39;49m\u001b[38;5;241;43m*\u001b[39;49m\u001b[43mkw\u001b[49m\u001b[43m)\u001b[49m\n\u001b[1;32m    170\u001b[0m     \u001b[38;5;28;01mexcept\u001b[39;00m Py4JJavaError \u001b[38;5;28;01mas\u001b[39;00m e:\n\u001b[1;32m    171\u001b[0m         converted \u001b[38;5;241m=\u001b[39m convert_exception(e\u001b[38;5;241m.\u001b[39mjava_exception)\n",
      "File \u001b[0;32m/usr/local/spark/python/lib/py4j-0.10.9.7-src.zip/py4j/protocol.py:326\u001b[0m, in \u001b[0;36mget_return_value\u001b[0;34m(answer, gateway_client, target_id, name)\u001b[0m\n\u001b[1;32m    324\u001b[0m value \u001b[38;5;241m=\u001b[39m OUTPUT_CONVERTER[\u001b[38;5;28mtype\u001b[39m](answer[\u001b[38;5;241m2\u001b[39m:], gateway_client)\n\u001b[1;32m    325\u001b[0m \u001b[38;5;28;01mif\u001b[39;00m answer[\u001b[38;5;241m1\u001b[39m] \u001b[38;5;241m==\u001b[39m REFERENCE_TYPE:\n\u001b[0;32m--> 326\u001b[0m     \u001b[38;5;28;01mraise\u001b[39;00m Py4JJavaError(\n\u001b[1;32m    327\u001b[0m         \u001b[38;5;124m\"\u001b[39m\u001b[38;5;124mAn error occurred while calling \u001b[39m\u001b[38;5;132;01m{0}\u001b[39;00m\u001b[38;5;132;01m{1}\u001b[39;00m\u001b[38;5;132;01m{2}\u001b[39;00m\u001b[38;5;124m.\u001b[39m\u001b[38;5;130;01m\\n\u001b[39;00m\u001b[38;5;124m\"\u001b[39m\u001b[38;5;241m.\u001b[39m\n\u001b[1;32m    328\u001b[0m         \u001b[38;5;28mformat\u001b[39m(target_id, \u001b[38;5;124m\"\u001b[39m\u001b[38;5;124m.\u001b[39m\u001b[38;5;124m\"\u001b[39m, name), value)\n\u001b[1;32m    329\u001b[0m \u001b[38;5;28;01melse\u001b[39;00m:\n\u001b[1;32m    330\u001b[0m     \u001b[38;5;28;01mraise\u001b[39;00m Py4JError(\n\u001b[1;32m    331\u001b[0m         \u001b[38;5;124m\"\u001b[39m\u001b[38;5;124mAn error occurred while calling \u001b[39m\u001b[38;5;132;01m{0}\u001b[39;00m\u001b[38;5;132;01m{1}\u001b[39;00m\u001b[38;5;132;01m{2}\u001b[39;00m\u001b[38;5;124m. Trace:\u001b[39m\u001b[38;5;130;01m\\n\u001b[39;00m\u001b[38;5;132;01m{3}\u001b[39;00m\u001b[38;5;130;01m\\n\u001b[39;00m\u001b[38;5;124m\"\u001b[39m\u001b[38;5;241m.\u001b[39m\n\u001b[1;32m    332\u001b[0m         \u001b[38;5;28mformat\u001b[39m(target_id, \u001b[38;5;124m\"\u001b[39m\u001b[38;5;124m.\u001b[39m\u001b[38;5;124m\"\u001b[39m, name, value))\n",
      "\u001b[0;31mPy4JJavaError\u001b[0m: An error occurred while calling o177.collectToPython.\n: org.apache.spark.SparkException: Job aborted due to stage failure: Task 0 in stage 6.0 failed 4 times, most recent failure: Lost task 0.3 in stage 6.0 (TID 35) (172.19.0.8 executor 0): java.io.InvalidClassException: org.apache.spark.sql.catalyst.expressions.BinaryArithmetic; local class incompatible: stream classdesc serialVersionUID = 1648551489420521118, local class serialVersionUID = -7538401055104463658\n\tat java.base/java.io.ObjectStreamClass.initNonProxy(ObjectStreamClass.java:597)\n\tat java.base/java.io.ObjectInputStream.readNonProxyDesc(ObjectInputStream.java:2051)\n\tat java.base/java.io.ObjectInputStream.readClassDesc(ObjectInputStream.java:1898)\n\tat java.base/java.io.ObjectInputStream.readNonProxyDesc(ObjectInputStream.java:2051)\n\tat java.base/java.io.ObjectInputStream.readClassDesc(ObjectInputStream.java:1898)\n\tat java.base/java.io.ObjectInputStream.readOrdinaryObject(ObjectInputStream.java:2224)\n\tat java.base/java.io.ObjectInputStream.readObject0(ObjectInputStream.java:1733)\n\tat java.base/java.io.ObjectInputStream.readObject(ObjectInputStream.java:509)\n\tat java.base/java.io.ObjectInputStream.readObject(ObjectInputStream.java:467)\n\tat scala.collection.immutable.List$SerializationProxy.readObject(List.scala:527)\n\tat jdk.internal.reflect.GeneratedMethodAccessor7.invoke(Unknown Source)\n\tat java.base/jdk.internal.reflect.DelegatingMethodAccessorImpl.invoke(DelegatingMethodAccessorImpl.java:43)\n\tat java.base/java.lang.reflect.Method.invoke(Method.java:568)\n\tat java.base/java.io.ObjectStreamClass.invokeReadObject(ObjectStreamClass.java:1100)\n\tat java.base/java.io.ObjectInputStream.readSerialData(ObjectInputStream.java:2423)\n\tat java.base/java.io.ObjectInputStream.readOrdinaryObject(ObjectInputStream.java:2257)\n\tat java.base/java.io.ObjectInputStream.readObject0(ObjectInputStream.java:1733)\n\tat java.base/java.io.ObjectInputStream$FieldValues.<init>(ObjectInputStream.java:2606)\n\tat java.base/java.io.ObjectInputStream.readSerialData(ObjectInputStream.java:2457)\n\tat java.base/java.io.ObjectInputStream.readOrdinaryObject(ObjectInputStream.java:2257)\n\tat java.base/java.io.ObjectInputStream.readObject0(ObjectInputStream.java:1733)\n\tat java.base/java.io.ObjectInputStream$FieldValues.<init>(ObjectInputStream.java:2606)\n\tat java.base/java.io.ObjectInputStream.readSerialData(ObjectInputStream.java:2457)\n\tat java.base/java.io.ObjectInputStream.readOrdinaryObject(ObjectInputStream.java:2257)\n\tat java.base/java.io.ObjectInputStream.readObject0(ObjectInputStream.java:1733)\n\tat java.base/java.io.ObjectInputStream.readArray(ObjectInputStream.java:2157)\n\tat java.base/java.io.ObjectInputStream.readObject0(ObjectInputStream.java:1721)\n\tat java.base/java.io.ObjectInputStream$FieldValues.<init>(ObjectInputStream.java:2606)\n\tat java.base/java.io.ObjectInputStream.readSerialData(ObjectInputStream.java:2457)\n\tat java.base/java.io.ObjectInputStream.readOrdinaryObject(ObjectInputStream.java:2257)\n\tat java.base/java.io.ObjectInputStream.readObject0(ObjectInputStream.java:1733)\n\tat java.base/java.io.ObjectInputStream$FieldValues.<init>(ObjectInputStream.java:2606)\n\tat java.base/java.io.ObjectInputStream.readSerialData(ObjectInputStream.java:2457)\n\tat java.base/java.io.ObjectInputStream.readOrdinaryObject(ObjectInputStream.java:2257)\n\tat java.base/java.io.ObjectInputStream.readObject0(ObjectInputStream.java:1733)\n\tat java.base/java.io.ObjectInputStream.readArray(ObjectInputStream.java:2157)\n\tat java.base/java.io.ObjectInputStream.readObject0(ObjectInputStream.java:1721)\n\tat java.base/java.io.ObjectInputStream.readArray(ObjectInputStream.java:2157)\n\tat java.base/java.io.ObjectInputStream.readObject0(ObjectInputStream.java:1721)\n\tat java.base/java.io.ObjectInputStream$FieldValues.<init>(ObjectInputStream.java:2606)\n\tat java.base/java.io.ObjectInputStream.readSerialData(ObjectInputStream.java:2457)\n\tat java.base/java.io.ObjectInputStream.readOrdinaryObject(ObjectInputStream.java:2257)\n\tat java.base/java.io.ObjectInputStream.readObject0(ObjectInputStream.java:1733)\n\tat java.base/java.io.ObjectInputStream.readArray(ObjectInputStream.java:2157)\n\tat java.base/java.io.ObjectInputStream.readObject0(ObjectInputStream.java:1721)\n\tat java.base/java.io.ObjectInputStream$FieldValues.<init>(ObjectInputStream.java:2606)\n\tat java.base/java.io.ObjectInputStream.readSerialData(ObjectInputStream.java:2457)\n\tat java.base/java.io.ObjectInputStream.readOrdinaryObject(ObjectInputStream.java:2257)\n\tat java.base/java.io.ObjectInputStream.readObject0(ObjectInputStream.java:1733)\n\tat java.base/java.io.ObjectInputStream$FieldValues.<init>(ObjectInputStream.java:2606)\n\tat java.base/java.io.ObjectInputStream.readSerialData(ObjectInputStream.java:2457)\n\tat java.base/java.io.ObjectInputStream.readOrdinaryObject(ObjectInputStream.java:2257)\n\tat java.base/java.io.ObjectInputStream.readObject0(ObjectInputStream.java:1733)\n\tat java.base/java.io.ObjectInputStream$FieldValues.<init>(ObjectInputStream.java:2606)\n\tat java.base/java.io.ObjectInputStream.readSerialData(ObjectInputStream.java:2457)\n\tat java.base/java.io.ObjectInputStream.readOrdinaryObject(ObjectInputStream.java:2257)\n\tat java.base/java.io.ObjectInputStream.readObject0(ObjectInputStream.java:1733)\n\tat java.base/java.io.ObjectInputStream.readObject(ObjectInputStream.java:509)\n\tat java.base/java.io.ObjectInputStream.readObject(ObjectInputStream.java:467)\n\tat scala.collection.immutable.List$SerializationProxy.readObject(List.scala:527)\n\tat jdk.internal.reflect.GeneratedMethodAccessor7.invoke(Unknown Source)\n\tat java.base/jdk.internal.reflect.DelegatingMethodAccessorImpl.invoke(DelegatingMethodAccessorImpl.java:43)\n\tat java.base/java.lang.reflect.Method.invoke(Method.java:568)\n\tat java.base/java.io.ObjectStreamClass.invokeReadObject(ObjectStreamClass.java:1100)\n\tat java.base/java.io.ObjectInputStream.readSerialData(ObjectInputStream.java:2423)\n\tat java.base/java.io.ObjectInputStream.readOrdinaryObject(ObjectInputStream.java:2257)\n\tat java.base/java.io.ObjectInputStream.readObject0(ObjectInputStream.java:1733)\n\tat java.base/java.io.ObjectInputStream$FieldValues.<init>(ObjectInputStream.java:2606)\n\tat java.base/java.io.ObjectInputStream.readSerialData(ObjectInputStream.java:2457)\n\tat java.base/java.io.ObjectInputStream.readOrdinaryObject(ObjectInputStream.java:2257)\n\tat java.base/java.io.ObjectInputStream.readObject0(ObjectInputStream.java:1733)\n\tat java.base/java.io.ObjectInputStream$FieldValues.<init>(ObjectInputStream.java:2606)\n\tat java.base/java.io.ObjectInputStream.readSerialData(ObjectInputStream.java:2457)\n\tat java.base/java.io.ObjectInputStream.readOrdinaryObject(ObjectInputStream.java:2257)\n\tat java.base/java.io.ObjectInputStream.readObject0(ObjectInputStream.java:1733)\n\tat java.base/java.io.ObjectInputStream.readObject(ObjectInputStream.java:509)\n\tat java.base/java.io.ObjectInputStream.readObject(ObjectInputStream.java:467)\n\tat org.apache.spark.serializer.JavaDeserializationStream.readObject(JavaSerializer.scala:87)\n\tat org.apache.spark.serializer.JavaSerializerInstance.deserialize(JavaSerializer.scala:129)\n\tat org.apache.spark.scheduler.ShuffleMapTask.runTask(ShuffleMapTask.scala:87)\n\tat org.apache.spark.scheduler.ShuffleMapTask.runTask(ShuffleMapTask.scala:53)\n\tat org.apache.spark.TaskContext.runTaskWithListeners(TaskContext.scala:161)\n\tat org.apache.spark.scheduler.Task.run(Task.scala:139)\n\tat org.apache.spark.executor.Executor$TaskRunner.$anonfun$run$3(Executor.scala:554)\n\tat org.apache.spark.util.Utils$.tryWithSafeFinally(Utils.scala:1529)\n\tat org.apache.spark.executor.Executor$TaskRunner.run(Executor.scala:557)\n\tat java.base/java.util.concurrent.ThreadPoolExecutor.runWorker(ThreadPoolExecutor.java:1136)\n\tat java.base/java.util.concurrent.ThreadPoolExecutor$Worker.run(ThreadPoolExecutor.java:635)\n\tat java.base/java.lang.Thread.run(Thread.java:840)\n\nDriver stacktrace:\n\tat org.apache.spark.scheduler.DAGScheduler.failJobAndIndependentStages(DAGScheduler.scala:2785)\n\tat org.apache.spark.scheduler.DAGScheduler.$anonfun$abortStage$2(DAGScheduler.scala:2721)\n\tat org.apache.spark.scheduler.DAGScheduler.$anonfun$abortStage$2$adapted(DAGScheduler.scala:2720)\n\tat scala.collection.mutable.ResizableArray.foreach(ResizableArray.scala:62)\n\tat scala.collection.mutable.ResizableArray.foreach$(ResizableArray.scala:55)\n\tat scala.collection.mutable.ArrayBuffer.foreach(ArrayBuffer.scala:49)\n\tat org.apache.spark.scheduler.DAGScheduler.abortStage(DAGScheduler.scala:2720)\n\tat org.apache.spark.scheduler.DAGScheduler.$anonfun$handleTaskSetFailed$1(DAGScheduler.scala:1206)\n\tat org.apache.spark.scheduler.DAGScheduler.$anonfun$handleTaskSetFailed$1$adapted(DAGScheduler.scala:1206)\n\tat scala.Option.foreach(Option.scala:407)\n\tat org.apache.spark.scheduler.DAGScheduler.handleTaskSetFailed(DAGScheduler.scala:1206)\n\tat org.apache.spark.scheduler.DAGSchedulerEventProcessLoop.doOnReceive(DAGScheduler.scala:2984)\n\tat org.apache.spark.scheduler.DAGSchedulerEventProcessLoop.onReceive(DAGScheduler.scala:2923)\n\tat org.apache.spark.scheduler.DAGSchedulerEventProcessLoop.onReceive(DAGScheduler.scala:2912)\n\tat org.apache.spark.util.EventLoop$$anon$1.run(EventLoop.scala:49)\nCaused by: java.io.InvalidClassException: org.apache.spark.sql.catalyst.expressions.BinaryArithmetic; local class incompatible: stream classdesc serialVersionUID = 1648551489420521118, local class serialVersionUID = -7538401055104463658\n\tat java.base/java.io.ObjectStreamClass.initNonProxy(ObjectStreamClass.java:597)\n\tat java.base/java.io.ObjectInputStream.readNonProxyDesc(ObjectInputStream.java:2051)\n\tat java.base/java.io.ObjectInputStream.readClassDesc(ObjectInputStream.java:1898)\n\tat java.base/java.io.ObjectInputStream.readNonProxyDesc(ObjectInputStream.java:2051)\n\tat java.base/java.io.ObjectInputStream.readClassDesc(ObjectInputStream.java:1898)\n\tat java.base/java.io.ObjectInputStream.readOrdinaryObject(ObjectInputStream.java:2224)\n\tat java.base/java.io.ObjectInputStream.readObject0(ObjectInputStream.java:1733)\n\tat java.base/java.io.ObjectInputStream.readObject(ObjectInputStream.java:509)\n\tat java.base/java.io.ObjectInputStream.readObject(ObjectInputStream.java:467)\n\tat scala.collection.immutable.List$SerializationProxy.readObject(List.scala:527)\n\tat jdk.internal.reflect.GeneratedMethodAccessor7.invoke(Unknown Source)\n\tat java.base/jdk.internal.reflect.DelegatingMethodAccessorImpl.invoke(DelegatingMethodAccessorImpl.java:43)\n\tat java.base/java.lang.reflect.Method.invoke(Method.java:568)\n\tat java.base/java.io.ObjectStreamClass.invokeReadObject(ObjectStreamClass.java:1100)\n\tat java.base/java.io.ObjectInputStream.readSerialData(ObjectInputStream.java:2423)\n\tat java.base/java.io.ObjectInputStream.readOrdinaryObject(ObjectInputStream.java:2257)\n\tat java.base/java.io.ObjectInputStream.readObject0(ObjectInputStream.java:1733)\n\tat java.base/java.io.ObjectInputStream$FieldValues.<init>(ObjectInputStream.java:2606)\n\tat java.base/java.io.ObjectInputStream.readSerialData(ObjectInputStream.java:2457)\n\tat java.base/java.io.ObjectInputStream.readOrdinaryObject(ObjectInputStream.java:2257)\n\tat java.base/java.io.ObjectInputStream.readObject0(ObjectInputStream.java:1733)\n\tat java.base/java.io.ObjectInputStream$FieldValues.<init>(ObjectInputStream.java:2606)\n\tat java.base/java.io.ObjectInputStream.readSerialData(ObjectInputStream.java:2457)\n\tat java.base/java.io.ObjectInputStream.readOrdinaryObject(ObjectInputStream.java:2257)\n\tat java.base/java.io.ObjectInputStream.readObject0(ObjectInputStream.java:1733)\n\tat java.base/java.io.ObjectInputStream.readArray(ObjectInputStream.java:2157)\n\tat java.base/java.io.ObjectInputStream.readObject0(ObjectInputStream.java:1721)\n\tat java.base/java.io.ObjectInputStream$FieldValues.<init>(ObjectInputStream.java:2606)\n\tat java.base/java.io.ObjectInputStream.readSerialData(ObjectInputStream.java:2457)\n\tat java.base/java.io.ObjectInputStream.readOrdinaryObject(ObjectInputStream.java:2257)\n\tat java.base/java.io.ObjectInputStream.readObject0(ObjectInputStream.java:1733)\n\tat java.base/java.io.ObjectInputStream$FieldValues.<init>(ObjectInputStream.java:2606)\n\tat java.base/java.io.ObjectInputStream.readSerialData(ObjectInputStream.java:2457)\n\tat java.base/java.io.ObjectInputStream.readOrdinaryObject(ObjectInputStream.java:2257)\n\tat java.base/java.io.ObjectInputStream.readObject0(ObjectInputStream.java:1733)\n\tat java.base/java.io.ObjectInputStream.readArray(ObjectInputStream.java:2157)\n\tat java.base/java.io.ObjectInputStream.readObject0(ObjectInputStream.java:1721)\n\tat java.base/java.io.ObjectInputStream.readArray(ObjectInputStream.java:2157)\n\tat java.base/java.io.ObjectInputStream.readObject0(ObjectInputStream.java:1721)\n\tat java.base/java.io.ObjectInputStream$FieldValues.<init>(ObjectInputStream.java:2606)\n\tat java.base/java.io.ObjectInputStream.readSerialData(ObjectInputStream.java:2457)\n\tat java.base/java.io.ObjectInputStream.readOrdinaryObject(ObjectInputStream.java:2257)\n\tat java.base/java.io.ObjectInputStream.readObject0(ObjectInputStream.java:1733)\n\tat java.base/java.io.ObjectInputStream.readArray(ObjectInputStream.java:2157)\n\tat java.base/java.io.ObjectInputStream.readObject0(ObjectInputStream.java:1721)\n\tat java.base/java.io.ObjectInputStream$FieldValues.<init>(ObjectInputStream.java:2606)\n\tat java.base/java.io.ObjectInputStream.readSerialData(ObjectInputStream.java:2457)\n\tat java.base/java.io.ObjectInputStream.readOrdinaryObject(ObjectInputStream.java:2257)\n\tat java.base/java.io.ObjectInputStream.readObject0(ObjectInputStream.java:1733)\n\tat java.base/java.io.ObjectInputStream$FieldValues.<init>(ObjectInputStream.java:2606)\n\tat java.base/java.io.ObjectInputStream.readSerialData(ObjectInputStream.java:2457)\n\tat java.base/java.io.ObjectInputStream.readOrdinaryObject(ObjectInputStream.java:2257)\n\tat java.base/java.io.ObjectInputStream.readObject0(ObjectInputStream.java:1733)\n\tat java.base/java.io.ObjectInputStream$FieldValues.<init>(ObjectInputStream.java:2606)\n\tat java.base/java.io.ObjectInputStream.readSerialData(ObjectInputStream.java:2457)\n\tat java.base/java.io.ObjectInputStream.readOrdinaryObject(ObjectInputStream.java:2257)\n\tat java.base/java.io.ObjectInputStream.readObject0(ObjectInputStream.java:1733)\n\tat java.base/java.io.ObjectInputStream.readObject(ObjectInputStream.java:509)\n\tat java.base/java.io.ObjectInputStream.readObject(ObjectInputStream.java:467)\n\tat scala.collection.immutable.List$SerializationProxy.readObject(List.scala:527)\n\tat jdk.internal.reflect.GeneratedMethodAccessor7.invoke(Unknown Source)\n\tat java.base/jdk.internal.reflect.DelegatingMethodAccessorImpl.invoke(DelegatingMethodAccessorImpl.java:43)\n\tat java.base/java.lang.reflect.Method.invoke(Method.java:568)\n\tat java.base/java.io.ObjectStreamClass.invokeReadObject(ObjectStreamClass.java:1100)\n\tat java.base/java.io.ObjectInputStream.readSerialData(ObjectInputStream.java:2423)\n\tat java.base/java.io.ObjectInputStream.readOrdinaryObject(ObjectInputStream.java:2257)\n\tat java.base/java.io.ObjectInputStream.readObject0(ObjectInputStream.java:1733)\n\tat java.base/java.io.ObjectInputStream$FieldValues.<init>(ObjectInputStream.java:2606)\n\tat java.base/java.io.ObjectInputStream.readSerialData(ObjectInputStream.java:2457)\n\tat java.base/java.io.ObjectInputStream.readOrdinaryObject(ObjectInputStream.java:2257)\n\tat java.base/java.io.ObjectInputStream.readObject0(ObjectInputStream.java:1733)\n\tat java.base/java.io.ObjectInputStream$FieldValues.<init>(ObjectInputStream.java:2606)\n\tat java.base/java.io.ObjectInputStream.readSerialData(ObjectInputStream.java:2457)\n\tat java.base/java.io.ObjectInputStream.readOrdinaryObject(ObjectInputStream.java:2257)\n\tat java.base/java.io.ObjectInputStream.readObject0(ObjectInputStream.java:1733)\n\tat java.base/java.io.ObjectInputStream.readObject(ObjectInputStream.java:509)\n\tat java.base/java.io.ObjectInputStream.readObject(ObjectInputStream.java:467)\n\tat org.apache.spark.serializer.JavaDeserializationStream.readObject(JavaSerializer.scala:87)\n\tat org.apache.spark.serializer.JavaSerializerInstance.deserialize(JavaSerializer.scala:129)\n\tat org.apache.spark.scheduler.ShuffleMapTask.runTask(ShuffleMapTask.scala:87)\n\tat org.apache.spark.scheduler.ShuffleMapTask.runTask(ShuffleMapTask.scala:53)\n\tat org.apache.spark.TaskContext.runTaskWithListeners(TaskContext.scala:161)\n\tat org.apache.spark.scheduler.Task.run(Task.scala:139)\n\tat org.apache.spark.executor.Executor$TaskRunner.$anonfun$run$3(Executor.scala:554)\n\tat org.apache.spark.util.Utils$.tryWithSafeFinally(Utils.scala:1529)\n\tat org.apache.spark.executor.Executor$TaskRunner.run(Executor.scala:557)\n\tat java.base/java.util.concurrent.ThreadPoolExecutor.runWorker(ThreadPoolExecutor.java:1136)\n\tat java.base/java.util.concurrent.ThreadPoolExecutor$Worker.run(ThreadPoolExecutor.java:635)\n\tat java.base/java.lang.Thread.run(Thread.java:840)\n"
     ]
    }
   ],
   "source": [
    "#Fill du lieu thieu bang gia tri mode\n",
    "categorical_cols = ['contributing_factor_vehicle_1', 'contributing_factor_vehicle_2',\n",
    "                    'vehicle_type_code1', 'vehicle_type_code2', 'borough']\n",
    "\n",
    "for col_name in categorical_cols:\n",
    "    # Get the mode value and bring it to the driver\n",
    "    mode_value = df_dropped_cols.groupBy(col_name).count().orderBy('count', ascending=False).first()[0]\n",
    "    # Fill missing values with the mode\n",
    "    df_dropped_cols = df_dropped_cols.fillna({col_name: mode_value})\n"
   ]
  },
  {
   "cell_type": "code",
   "execution_count": null,
   "id": "541a9a57-9b8c-43e5-81bc-8ab0ec8a8580",
   "metadata": {
    "id": "541a9a57-9b8c-43e5-81bc-8ab0ec8a8580"
   },
   "outputs": [],
   "source": [
    "#Ma hoa du lieu bien phan loai\n",
    "def encode_categorical_cols(df: DataFrame, categorical_cols: list) -> DataFrame:\n",
    "    for col_name in categorical_cols:\n",
    "        indexer = StringIndexer(inputCol=col_name, outputCol=col_name + \"_encoded\", handleInvalid='keep')\n",
    "        df = indexer.fit(df).transform(df)\n",
    "    return df\n",
    "\n",
    "df_encoded = encode_categorical_cols(df_dropped_cols, categorical_cols)"
   ]
  },
  {
   "cell_type": "code",
   "execution_count": null,
   "id": "1040c4ce-cb9b-4fb8-9f3d-b607e60aa959",
   "metadata": {
    "id": "1040c4ce-cb9b-4fb8-9f3d-b607e60aa959"
   },
   "outputs": [],
   "source": [
    "df_final = df_encoded.drop(*categorical_cols)"
   ]
  },
  {
   "cell_type": "code",
   "execution_count": null,
   "id": "90944ecb-6b83-4ed8-93c4-02ef37f092f4",
   "metadata": {
    "id": "90944ecb-6b83-4ed8-93c4-02ef37f092f4"
   },
   "outputs": [],
   "source": [
    "# feature\n",
    "x = df_final.drop(\"is_injured\")\n",
    "# label\n",
    "y = df_final.select(\"is_injured\")"
   ]
  }
 ],
 "metadata": {
  "colab": {
   "provenance": []
  },
  "kernelspec": {
   "display_name": "Python 3 (ipykernel)",
   "language": "python",
   "name": "python3"
  },
  "language_info": {
   "codemirror_mode": {
    "name": "ipython",
    "version": 3
   },
   "file_extension": ".py",
   "mimetype": "text/x-python",
   "name": "python",
   "nbconvert_exporter": "python",
   "pygments_lexer": "ipython3",
   "version": "3.11.5"
  }
 },
 "nbformat": 4,
 "nbformat_minor": 5
}
