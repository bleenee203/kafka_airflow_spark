{
 "cells": [
  {
   "cell_type": "code",
   "execution_count": 1,
   "id": "cd236c83-409d-4808-9c00-d217457bb0f0",
   "metadata": {
    "id": "cd236c83-409d-4808-9c00-d217457bb0f0"
   },
   "outputs": [],
   "source": [
    "from pyspark.sql import SparkSession\n",
    "from pyspark.sql.functions import col, when, lit, sum\n",
    "from pyspark.ml.feature import StringIndexer\n",
    "from pyspark.sql import DataFrame\n",
    "from pyspark.sql.types import IntegerType"
   ]
  },
  {
   "cell_type": "code",
   "execution_count": 2,
   "id": "c53c7cc0-993f-4421-8e73-e66a82383d34",
   "metadata": {
    "id": "c53c7cc0-993f-4421-8e73-e66a82383d34",
    "outputId": "7f4e0a9b-486b-4fb5-f4a8-4d91b86bdceb"
   },
   "outputs": [],
   "source": [
    "\n",
    "spark = SparkSession.builder \\\n",
    "    .appName(\"KafkaSparkStreaming\") \\\n",
    "    .master(\"spark://spark-master:7077\") \\\n",
    "    .config(\"spark.serializer\", \"org.apache.spark.serializer.KryoSerializer\") \\\n",
    "    .getOrCreate()\n"
   ]
  },
  {
   "cell_type": "code",
   "execution_count": 3,
   "id": "35cff397-32e2-4775-ad58-375b3aaab6dd",
   "metadata": {
    "id": "35cff397-32e2-4775-ad58-375b3aaab6dd"
   },
   "outputs": [],
   "source": [
    "df = spark.read.parquet(\"hdfs://namenode:9000/raw_data\")"
   ]
  },
  {
   "cell_type": "code",
   "execution_count": 4,
   "id": "189e59c1-272a-4641-808e-195fdcc99c4f",
   "metadata": {
    "id": "189e59c1-272a-4641-808e-195fdcc99c4f"
   },
   "outputs": [
    {
     "name": "stdout",
     "output_type": "stream",
     "text": [
      "Tổng số dòng: 1000\n",
      "Số dòng trùng lặp: 124\n"
     ]
    }
   ],
   "source": [
    "# Đếm tổng số dòng\n",
    "total_rows = df.count()\n",
    "\n",
    "# Đếm số dòng trùng lặp\n",
    "duplicate_rows = df.groupBy(df.columns).count().filter(\"count > 1\").count()\n",
    "\n",
    "# Hiển thị kết quả\n",
    "print(f\"Tổng số dòng: {total_rows}\")\n",
    "print(f\"Số dòng trùng lặp: {duplicate_rows}\")\n"
   ]
  },
  {
   "cell_type": "code",
   "execution_count": 5,
   "id": "a407a8e1-1647-43e7-97d6-47aec5fe0c3b",
   "metadata": {},
   "outputs": [
    {
     "name": "stdout",
     "output_type": "stream",
     "text": [
      "+----------+----------+-------+--------+---------+--------------+---------------+-------------------------+------------------------+-----------------------------+----------------------------+-------------------------+------------------------+--------------------------+-------------------------+-----------------------------+-----------------------------+------------------+------------------+------------------+------------------+------------------+\n",
      "|crash_date|crash_time|borough|latitude|longitude|on_street_name|off_street_name|number_of_persons_injured|number_of_persons_killed|number_of_pedestrians_injured|number_of_pedestrians_killed|number_of_cyclist_injured|number_of_cyclist_killed|number_of_motorist_injured|number_of_motorist_killed|contributing_factor_vehicle_1|contributing_factor_vehicle_2|vehicle_type_code1|vehicle_type_code2|vehicle_type_code3|vehicle_type_code4|vehicle_type_code5|\n",
      "+----------+----------+-------+--------+---------+--------------+---------------+-------------------------+------------------------+-----------------------------+----------------------------+-------------------------+------------------------+--------------------------+-------------------------+-----------------------------+-----------------------------+------------------+------------------+------------------+------------------+------------------+\n",
      "|         0|         0|    156|       9|        9|           258|            353|                        0|                       0|                            0|                           0|                        0|                       0|                         0|                        0|                            5|                          223|                14|               301|              1000|              1000|              1000|\n",
      "+----------+----------+-------+--------+---------+--------------+---------------+-------------------------+------------------------+-----------------------------+----------------------------+-------------------------+------------------------+--------------------------+-------------------------+-----------------------------+-----------------------------+------------------+------------------+------------------+------------------+------------------+\n",
      "\n"
     ]
    }
   ],
   "source": [
    "#Kiem tra du lieu thieu\n",
    "missing_counts = df.select([sum(col(c).isNull().cast(\"int\")).alias(c) for c in df.columns])\n",
    "missing_counts.show()"
   ]
  },
  {
   "cell_type": "code",
   "execution_count": 6,
   "id": "8641285a-9339-45bb-992b-8669bbcb081a",
   "metadata": {},
   "outputs": [
    {
     "name": "stdout",
     "output_type": "stream",
     "text": [
      "Total number of persons injured: 63.0\n"
     ]
    }
   ],
   "source": [
    "total_injuries = df.selectExpr(\"sum(number_of_cyclist_injured) as total_injuries\").collect()[0][\"total_injuries\"]\n",
    "print(\"Total number of persons injured:\", total_injuries)"
   ]
  },
  {
   "cell_type": "code",
   "execution_count": 7,
   "id": "71dd4833-59fc-4346-9aad-ab7d264d9359",
   "metadata": {},
   "outputs": [
    {
     "name": "stdout",
     "output_type": "stream",
     "text": [
      "Total number of persons killed: 3.0\n"
     ]
    }
   ],
   "source": [
    "total_kill = df.selectExpr(\"sum(number_of_persons_killed) as total_kill\").collect()[0][\"total_kill\"]\n",
    "print(\"Total number of persons killed:\", total_kill)"
   ]
  },
  {
   "cell_type": "code",
   "execution_count": 8,
   "id": "403f395b-7cd2-477c-b371-4d2def0c7030",
   "metadata": {
    "id": "403f395b-7cd2-477c-b371-4d2def0c7030"
   },
   "outputs": [
    {
     "name": "stdout",
     "output_type": "stream",
     "text": [
      "+--------------------+----------+---------+---------+----------+--------------------+-------------------+-------------------------+------------------------+-----------------------------+----------------------------+-------------------------+------------------------+--------------------------+-------------------------+-----------------------------+-----------------------------+--------------------+--------------------+------------------+------------------+------------------+\n",
      "|          crash_date|crash_time|  borough| latitude| longitude|      on_street_name|    off_street_name|number_of_persons_injured|number_of_persons_killed|number_of_pedestrians_injured|number_of_pedestrians_killed|number_of_cyclist_injured|number_of_cyclist_killed|number_of_motorist_injured|number_of_motorist_killed|contributing_factor_vehicle_1|contributing_factor_vehicle_2|  vehicle_type_code1|  vehicle_type_code2|vehicle_type_code3|vehicle_type_code4|vehicle_type_code5|\n",
      "+--------------------+----------+---------+---------+----------+--------------------+-------------------+-------------------------+------------------------+-----------------------------+----------------------------+-------------------------+------------------------+--------------------------+-------------------------+-----------------------------+-----------------------------+--------------------+--------------------+------------------+------------------+------------------+\n",
      "|2024-11-10T00:00:...|      8:10|   QUEENS|40.677013| -73.78853|             122 AVE|             153 ST|                        1|                       0|                            0|                           0|                        0|                       0|                         1|                        0|         Failure to Yield ...|                  Unspecified|               Sedan|Station Wagon/Spo...|              null|              null|              null|\n",
      "|2024-11-10T00:00:...|     10:10|    BRONX| 40.82211| -73.90061|        PROSPECT AVE|           E 163 ST|                        2|                       0|                            0|                           0|                        0|                       0|                         2|                        0|         Driver Inattentio...|                  Unspecified|Station Wagon/Spo...|               Sedan|              null|              null|              null|\n",
      "|2024-11-10T00:00:...|     20:10|MANHATTAN| 40.79731|-73.934456|               1 AVE|           E 118 ST|                        0|                       0|                            0|                           0|                        0|                       0|                         0|                        0|         Driver Inattentio...|                  Unspecified|Station Wagon/Spo...|                Bike|              null|              null|              null|\n",
      "|2024-11-10T00:00:...|     23:00| BROOKLYN|40.705254| -73.92534|        JEFFERSON ST|         IRVING AVE|                        0|                       0|                            0|                           0|                        0|                       0|                         0|                        0|          Passing Too Closely|                  Unspecified|Station Wagon/Spo...|               Sedan|              null|              null|              null|\n",
      "|2024-11-10T00:00:...|     20:51|MANHATTAN| 40.86131|-73.921234|              10 AVE|           W 202 ST|                        0|                       0|                            0|                           0|                        0|                       0|                         0|                        0|              Other Vehicular|                 Unsafe Speed|Station Wagon/Spo...|               Sedan|              null|              null|              null|\n",
      "|2024-11-10T00:00:...|      4:00|MANHATTAN| 40.80388| -73.94614|            W 120 ST|MOUNT MORRIS PARK W|                        0|                       0|                            0|                           0|                        0|                       0|                         0|                        0|                 Unsafe Speed|                         null|               Sedan|                null|              null|              null|              null|\n",
      "|2024-11-10T00:00:...|     16:20| BROOKLYN|40.636242| -74.01236|               7 AVE|              61 ST|                        1|                       0|                            1|                           0|                        0|                       0|                         0|                        0|         View Obstructed/L...|                         null|                Bike|                null|              null|              null|              null|\n",
      "|2024-11-10T00:00:...|     19:00|     null| 40.71582| -73.82624|JACKIE ROBINSON PKWY|               null|                        0|                       0|                            0|                           0|                        0|                       0|                         0|                        0|         Unsafe Lane Changing|                  Unspecified|Station Wagon/Spo...|               Sedan|              null|              null|              null|\n",
      "|2024-11-10T00:00:...|     11:20|   QUEENS|40.737724| -73.93351|          BORDEN AVE|           GALE AVE|                        1|                       0|                            0|                           0|                        0|                       0|                         1|                        0|         Driver Inattentio...|                  Unspecified|               Sedan|               Moped|              null|              null|              null|\n",
      "|2024-11-10T00:00:...|      7:50|MANHATTAN| 40.81626|-73.952965|                null|               null|                        0|                       0|                            0|                           0|                        0|                       0|                         0|                        0|                  Unspecified|                  Unspecified|Station Wagon/Spo...|Station Wagon/Spo...|              null|              null|              null|\n",
      "|2024-11-10T00:00:...|      8:30|   QUEENS| 40.68108| -73.81175|                null|               null|                        0|                       0|                            0|                           0|                        0|                       0|                         0|                        0|         Driver Inattentio...|                  Unspecified|               Sedan|Station Wagon/Spo...|              null|              null|              null|\n",
      "|2024-11-10T00:00:...|     19:45| BROOKLYN|40.679363| -73.87974|        ATLANTIC AVE|           HALE AVE|                        0|                       0|                            0|                           0|                        0|                       0|                         0|                        0|                       Illnes|                  Unspecified|Station Wagon/Spo...|Station Wagon/Spo...|              null|              null|              null|\n",
      "|2024-11-10T00:00:...|     19:02| BROOKLYN| 40.61095|  -73.9536|            AVENUE P|          OCEAN AVE|                        0|                       0|                            0|                           0|                        0|                       0|                         0|                        0|                  Unspecified|                         null|               Sedan|                null|              null|              null|              null|\n",
      "|2024-11-10T00:00:...|      0:25|   QUEENS|     null|      null|              153 LN|      S CONDUIT AVE|                        0|                       0|                            0|                           0|                        0|                       0|                         0|                        0|         Driver Inattentio...|                  Unspecified|       Pick-up Truck|               Sedan|              null|              null|              null|\n",
      "|2024-11-10T00:00:...|     14:30| BROOKLYN| 40.68397| -73.87807|                null|               null|                        0|                       0|                            0|                           0|                        0|                       0|                         0|                        0|                  Unspecified|                  Unspecified|Station Wagon/Spo...|Station Wagon/Spo...|              null|              null|              null|\n",
      "|2024-11-10T00:00:...|      1:13|MANHATTAN|40.843502| -73.93798|     ST NICHOLAS AVE|           W 172 ST|                        3|                       0|                            0|                           0|                        0|                       0|                         3|                        0|         Driver Inattentio...|                  Unspecified|               Sedan|               Sedan|              null|              null|              null|\n",
      "|2024-11-10T00:00:...|      9:18|   QUEENS|40.706635| -73.80659|              150 ST|       HILLSIDE AVE|                        3|                       0|                            0|                           0|                        0|                       0|                         3|                        0|         Traffic Control D...|                  Unspecified|Station Wagon/Spo...|               Sedan|              null|              null|              null|\n",
      "|2024-11-10T00:00:...|     10:06|   QUEENS| 40.76043| -73.86727|                null|               null|                        0|                       0|                            0|                           0|                        0|                       0|                         0|                        0|         Driver Inattentio...|                  Unspecified|               Sedan|          Motorcycle|              null|              null|              null|\n",
      "|2024-11-10T00:00:...|      3:15|MANHATTAN| 40.86114| -73.91893|            W 203 ST|              9 AVE|                        0|                       0|                            0|                           0|                        0|                       0|                         0|                        0|         Failure to Yield ...|                  Unspecified|               Sedan|Station Wagon/Spo...|              null|              null|              null|\n",
      "|2024-11-10T00:00:...|      2:25|     null|40.827454| -73.83661|HUTCHINSON RIVER ...|               null|                        0|                       0|                            0|                           0|                        0|                       0|                         0|                        0|                  Unspecified|                         null|               Sedan|                null|              null|              null|              null|\n",
      "+--------------------+----------+---------+---------+----------+--------------------+-------------------+-------------------------+------------------------+-----------------------------+----------------------------+-------------------------+------------------------+--------------------------+-------------------------+-----------------------------+-----------------------------+--------------------+--------------------+------------------+------------------+------------------+\n",
      "only showing top 20 rows\n",
      "\n"
     ]
    }
   ],
   "source": [
    "df.show()"
   ]
  },
  {
   "cell_type": "code",
   "execution_count": 9,
   "id": "403f395b-7cd2-477c-b371-4d2def0c70301",
   "metadata": {
    "id": "403f395b-7cd2-477c-b371-4d2def0c70301"
   },
   "outputs": [
    {
     "name": "stdout",
     "output_type": "stream",
     "text": [
      "root\n",
      " |-- crash_date: string (nullable = true)\n",
      " |-- crash_time: string (nullable = true)\n",
      " |-- borough: string (nullable = true)\n",
      " |-- latitude: string (nullable = true)\n",
      " |-- longitude: string (nullable = true)\n",
      " |-- on_street_name: string (nullable = true)\n",
      " |-- off_street_name: string (nullable = true)\n",
      " |-- number_of_persons_injured: string (nullable = true)\n",
      " |-- number_of_persons_killed: string (nullable = true)\n",
      " |-- number_of_pedestrians_injured: string (nullable = true)\n",
      " |-- number_of_pedestrians_killed: string (nullable = true)\n",
      " |-- number_of_cyclist_injured: string (nullable = true)\n",
      " |-- number_of_cyclist_killed: string (nullable = true)\n",
      " |-- number_of_motorist_injured: string (nullable = true)\n",
      " |-- number_of_motorist_killed: string (nullable = true)\n",
      " |-- contributing_factor_vehicle_1: string (nullable = true)\n",
      " |-- contributing_factor_vehicle_2: string (nullable = true)\n",
      " |-- vehicle_type_code1: string (nullable = true)\n",
      " |-- vehicle_type_code2: string (nullable = true)\n",
      " |-- vehicle_type_code3: string (nullable = true)\n",
      " |-- vehicle_type_code4: string (nullable = true)\n",
      " |-- vehicle_type_code5: string (nullable = true)\n",
      "\n"
     ]
    }
   ],
   "source": [
    "df.printSchema()"
   ]
  },
  {
   "cell_type": "code",
   "execution_count": 10,
   "id": "2df7a695-ad47-487a-af89-db60a690c15f",
   "metadata": {
    "id": "2df7a695-ad47-487a-af89-db60a690c15f"
   },
   "outputs": [],
   "source": [
    "df = df.withColumn('is_injured',\n",
    "                   when((col('number_of_persons_injured') + col('number_of_persons_killed')) > 0, 1).otherwise(0))"
   ]
  },
  {
   "cell_type": "code",
   "execution_count": 11,
   "id": "c9c9a008-c075-4bd7-8f8e-5403c1f8a607",
   "metadata": {
    "id": "c9c9a008-c075-4bd7-8f8e-5403c1f8a607"
   },
   "outputs": [],
   "source": [
    "# Xoa nhung cot khong can thiet\n",
    "cols_to_drop = ['latitude', 'longitude', 'on_street_name', 'off_street_name', 'number_of_persons_injured', 'number_of_pedestrians_killed',\n",
    "                'number_of_cyclist_injured', 'number_of_motorist_injured', 'number_of_motorist_killed',\n",
    "                'vehicle_type_code3', 'vehicle_type_code4', 'vehicle_type_code5',\n",
    "                'crash_date', 'crash_time', 'number_of_persons_killed', 'number_of_pedestrians_injured',\n",
    "                'number_of_cyclist_killed']\n",
    "df_dropped_cols = df.drop(*cols_to_drop)"
   ]
  },
  {
   "cell_type": "code",
   "execution_count": null,
   "id": "3adcdb95-3f69-4808-957f-cdbd433248b9",
   "metadata": {},
   "outputs": [],
   "source": []
  },
  {
   "cell_type": "code",
   "execution_count": 12,
   "id": "b440b7c0-4f3f-4a32-86fe-6c4f5c16c4ca",
   "metadata": {
    "id": "b440b7c0-4f3f-4a32-86fe-6c4f5c16c4ca"
   },
   "outputs": [
    {
     "name": "stdout",
     "output_type": "stream",
     "text": [
      "+-------+-----------------------------+-----------------------------+------------------+------------------+----------+\n",
      "|borough|contributing_factor_vehicle_1|contributing_factor_vehicle_2|vehicle_type_code1|vehicle_type_code2|is_injured|\n",
      "+-------+-----------------------------+-----------------------------+------------------+------------------+----------+\n",
      "|    156|                            5|                          223|                14|               301|         0|\n",
      "+-------+-----------------------------+-----------------------------+------------------+------------------+----------+\n",
      "\n"
     ]
    }
   ],
   "source": [
    "#Kiem tra du lieu thieu\n",
    "missing_counts = df_dropped_cols.select([sum(col(c).isNull().cast(\"int\")).alias(c) for c in df_dropped_cols.columns])\n",
    "missing_counts.show()"
   ]
  },
  {
   "cell_type": "code",
   "execution_count": 13,
   "id": "106f25f9-a31f-4940-81cb-80488015a8c1",
   "metadata": {
    "id": "106f25f9-a31f-4940-81cb-80488015a8c1"
   },
   "outputs": [],
   "source": [
    "#Fill du lieu thieu bang gia tri mode\n",
    "categorical_cols = ['contributing_factor_vehicle_1', 'contributing_factor_vehicle_2',\n",
    "                    'vehicle_type_code1', 'vehicle_type_code2', 'borough']\n",
    "\n",
    "# for col_name in categorical_cols:\n",
    "#     # Get the mode value and bring it to the driver\n",
    "#     mode_value = df_dropped_cols.groupBy(col_name).count().orderBy('count', ascending=False).first()[0]\n",
    "#     # Fill missing values with the mode\n",
    "#     df_dropped_cols = df_dropped_cols.fillna({col_name: mode_value})\n",
    "for col_name in categorical_cols:\n",
    "    # Lấy mode\n",
    "    mode_row = df_dropped_cols.groupBy(col_name).count().orderBy('count', ascending=False).first()\n",
    "    \n",
    "    # Kiểm tra nếu mode_row và mode_value không phải là None\n",
    "    if mode_row is not None and mode_row[0] is not None:\n",
    "        mode_value = mode_row[0]\n",
    "    else:\n",
    "        # Nếu không có mode, sử dụng giá trị 0\n",
    "        mode_value = 0\n",
    "    \n",
    "    # Điền giá trị thiếu bằng mode hoặc 0\n",
    "    df_dropped_cols = df_dropped_cols.fillna({col_name: mode_value})\n"
   ]
  },
  {
   "cell_type": "code",
   "execution_count": 14,
   "id": "541a9a57-9b8c-43e5-81bc-8ab0ec8a8580",
   "metadata": {
    "id": "541a9a57-9b8c-43e5-81bc-8ab0ec8a8580"
   },
   "outputs": [],
   "source": [
    "#Ma hoa du lieu bien phan loai\n",
    "def encode_categorical_cols(df: DataFrame, categorical_cols: list) -> DataFrame:\n",
    "    for col_name in categorical_cols:\n",
    "        indexer = StringIndexer(inputCol=col_name, outputCol=col_name + \"_encoded\", handleInvalid='keep')\n",
    "        df = indexer.fit(df).transform(df)\n",
    "    return df\n",
    "\n",
    "df_encoded = encode_categorical_cols(df_dropped_cols, categorical_cols)"
   ]
  },
  {
   "cell_type": "code",
   "execution_count": 15,
   "id": "1040c4ce-cb9b-4fb8-9f3d-b607e60aa959",
   "metadata": {
    "id": "1040c4ce-cb9b-4fb8-9f3d-b607e60aa959"
   },
   "outputs": [],
   "source": [
    "df_final = df_encoded.drop(*categorical_cols)"
   ]
  },
  {
   "cell_type": "code",
   "execution_count": 16,
   "id": "d45d68a5-0d4e-4cdb-9cf0-984792b8ce49",
   "metadata": {},
   "outputs": [
    {
     "name": "stdout",
     "output_type": "stream",
     "text": [
      "+----------+-------------------------------------+-------------------------------------+--------------------------+--------------------------+---------------+\n",
      "|is_injured|contributing_factor_vehicle_1_encoded|contributing_factor_vehicle_2_encoded|vehicle_type_code1_encoded|vehicle_type_code2_encoded|borough_encoded|\n",
      "+----------+-------------------------------------+-------------------------------------+--------------------------+--------------------------+---------------+\n",
      "|         0|                                    0|                                    0|                         0|                         0|              0|\n",
      "+----------+-------------------------------------+-------------------------------------+--------------------------+--------------------------+---------------+\n",
      "\n"
     ]
    }
   ],
   "source": [
    "# Kiểm tra lại lần nữa xem còn giá trị null không\n",
    "missing_counts = df_final.select([sum(col(c).isNull().cast(\"int\")).alias(c) for c in df_final.columns])\n",
    "missing_counts.show()"
   ]
  },
  {
   "cell_type": "code",
   "execution_count": 17,
   "id": "ddc9130a-dbd0-458c-afee-f3954b1ff98f",
   "metadata": {},
   "outputs": [],
   "source": [
    "# #Nếu còn dữ liệu null thì xóa các dòng đó đi\n",
    "# df_final = df_final.drop(how ='any', thresh=None, subset=None)\n",
    "# df_final.toPandas().info()"
   ]
  },
  {
   "cell_type": "code",
   "execution_count": 18,
   "id": "752dc7cb-61d3-4b46-a947-47fc16807d00",
   "metadata": {},
   "outputs": [
    {
     "name": "stdout",
     "output_type": "stream",
     "text": [
      "+----------+-------------------------------------+-------------------------------------+--------------------------+--------------------------+---------------+\n",
      "|is_injured|contributing_factor_vehicle_1_encoded|contributing_factor_vehicle_2_encoded|vehicle_type_code1_encoded|vehicle_type_code2_encoded|borough_encoded|\n",
      "+----------+-------------------------------------+-------------------------------------+--------------------------+--------------------------+---------------+\n",
      "|         1|                                  2.0|                                  0.0|                       0.0|                       2.0|            1.0|\n",
      "|         1|                                  0.0|                                  0.0|                       1.0|                       1.0|            3.0|\n",
      "|         0|                                  0.0|                                  0.0|                       1.0|                       3.0|            2.0|\n",
      "|         0|                                  8.0|                                  0.0|                       1.0|                       1.0|            0.0|\n",
      "|         0|                                  6.0|                                  8.0|                       1.0|                       1.0|            2.0|\n",
      "|         0|                                  9.0|                                  0.0|                       0.0|                       0.0|            2.0|\n",
      "|         1|                                 31.0|                                  0.0|                       4.0|                       0.0|            0.0|\n",
      "|         0|                                  7.0|                                  0.0|                       1.0|                       1.0|            0.0|\n",
      "|         1|                                  0.0|                                  0.0|                       0.0|                       7.0|            1.0|\n",
      "|         0|                                  1.0|                                  0.0|                       1.0|                       2.0|            2.0|\n",
      "|         0|                                  0.0|                                  0.0|                       0.0|                       2.0|            1.0|\n",
      "|         0|                                 28.0|                                  0.0|                       1.0|                       2.0|            0.0|\n",
      "|         0|                                  1.0|                                  0.0|                       0.0|                       0.0|            0.0|\n",
      "|         0|                                  0.0|                                  0.0|                       3.0|                       1.0|            1.0|\n",
      "|         0|                                  1.0|                                  0.0|                       1.0|                       2.0|            0.0|\n",
      "|         1|                                  0.0|                                  0.0|                       0.0|                       1.0|            2.0|\n",
      "|         1|                                  4.0|                                  0.0|                       1.0|                       1.0|            1.0|\n",
      "|         0|                                  0.0|                                  0.0|                       0.0|                      10.0|            1.0|\n",
      "|         0|                                  2.0|                                  0.0|                       0.0|                       2.0|            2.0|\n",
      "|         0|                                  1.0|                                  0.0|                       0.0|                       0.0|            0.0|\n",
      "+----------+-------------------------------------+-------------------------------------+--------------------------+--------------------------+---------------+\n",
      "only showing top 20 rows\n",
      "\n"
     ]
    }
   ],
   "source": [
    "df_final.show()"
   ]
  },
  {
   "cell_type": "code",
   "execution_count": 19,
   "id": "bbab61b7-3559-4c5e-bbc0-4599c6bf41b0",
   "metadata": {},
   "outputs": [
    {
     "data": {
      "text/html": [
       "<div>\n",
       "<style scoped>\n",
       "    .dataframe tbody tr th:only-of-type {\n",
       "        vertical-align: middle;\n",
       "    }\n",
       "\n",
       "    .dataframe tbody tr th {\n",
       "        vertical-align: top;\n",
       "    }\n",
       "\n",
       "    .dataframe thead th {\n",
       "        text-align: right;\n",
       "    }\n",
       "</style>\n",
       "<table border=\"1\" class=\"dataframe\">\n",
       "  <thead>\n",
       "    <tr style=\"text-align: right;\">\n",
       "      <th></th>\n",
       "      <th>0</th>\n",
       "      <th>1</th>\n",
       "      <th>2</th>\n",
       "      <th>3</th>\n",
       "      <th>4</th>\n",
       "    </tr>\n",
       "  </thead>\n",
       "  <tbody>\n",
       "    <tr>\n",
       "      <th>summary</th>\n",
       "      <td>count</td>\n",
       "      <td>mean</td>\n",
       "      <td>stddev</td>\n",
       "      <td>min</td>\n",
       "      <td>max</td>\n",
       "    </tr>\n",
       "    <tr>\n",
       "      <th>is_injured</th>\n",
       "      <td>1000</td>\n",
       "      <td>0.485</td>\n",
       "      <td>0.5000250243988046</td>\n",
       "      <td>0</td>\n",
       "      <td>1</td>\n",
       "    </tr>\n",
       "    <tr>\n",
       "      <th>contributing_factor_vehicle_1_encoded</th>\n",
       "      <td>1000</td>\n",
       "      <td>4.783</td>\n",
       "      <td>6.287881077791505</td>\n",
       "      <td>0.0</td>\n",
       "      <td>34.0</td>\n",
       "    </tr>\n",
       "    <tr>\n",
       "      <th>contributing_factor_vehicle_2_encoded</th>\n",
       "      <td>1000</td>\n",
       "      <td>0.491</td>\n",
       "      <td>1.8696027424066353</td>\n",
       "      <td>0.0</td>\n",
       "      <td>18.0</td>\n",
       "    </tr>\n",
       "    <tr>\n",
       "      <th>vehicle_type_code1_encoded</th>\n",
       "      <td>1000</td>\n",
       "      <td>1.825</td>\n",
       "      <td>3.939783864236325</td>\n",
       "      <td>0.0</td>\n",
       "      <td>31.0</td>\n",
       "    </tr>\n",
       "    <tr>\n",
       "      <th>vehicle_type_code2_encoded</th>\n",
       "      <td>1000</td>\n",
       "      <td>2.761</td>\n",
       "      <td>4.654411084395376</td>\n",
       "      <td>0.0</td>\n",
       "      <td>35.0</td>\n",
       "    </tr>\n",
       "    <tr>\n",
       "      <th>borough_encoded</th>\n",
       "      <td>1000</td>\n",
       "      <td>1.02</td>\n",
       "      <td>1.1614426154351964</td>\n",
       "      <td>0.0</td>\n",
       "      <td>4.0</td>\n",
       "    </tr>\n",
       "  </tbody>\n",
       "</table>\n",
       "</div>"
      ],
      "text/plain": [
       "                                           0      1                   2    3  \\\n",
       "summary                                count   mean              stddev  min   \n",
       "is_injured                              1000  0.485  0.5000250243988046    0   \n",
       "contributing_factor_vehicle_1_encoded   1000  4.783   6.287881077791505  0.0   \n",
       "contributing_factor_vehicle_2_encoded   1000  0.491  1.8696027424066353  0.0   \n",
       "vehicle_type_code1_encoded              1000  1.825   3.939783864236325  0.0   \n",
       "vehicle_type_code2_encoded              1000  2.761   4.654411084395376  0.0   \n",
       "borough_encoded                         1000   1.02  1.1614426154351964  0.0   \n",
       "\n",
       "                                          4  \n",
       "summary                                 max  \n",
       "is_injured                                1  \n",
       "contributing_factor_vehicle_1_encoded  34.0  \n",
       "contributing_factor_vehicle_2_encoded  18.0  \n",
       "vehicle_type_code1_encoded             31.0  \n",
       "vehicle_type_code2_encoded             35.0  \n",
       "borough_encoded                         4.0  "
      ]
     },
     "execution_count": 19,
     "metadata": {},
     "output_type": "execute_result"
    }
   ],
   "source": [
    "#Đưa ra thống kê cơ bản\n",
    "df_final.describe().toPandas().transpose()"
   ]
  },
  {
   "cell_type": "code",
   "execution_count": 20,
   "id": "90944ecb-6b83-4ed8-93c4-02ef37f092f4",
   "metadata": {
    "id": "90944ecb-6b83-4ed8-93c4-02ef37f092f4"
   },
   "outputs": [],
   "source": [
    "# feature\n",
    "x = df_final.drop(\"is_injured\")\n",
    "# label\n",
    "y = df_final.select(\"is_injured\")"
   ]
  },
  {
   "cell_type": "code",
   "execution_count": null,
   "id": "27fde987-fe26-42d5-a5d1-168f63ff7745",
   "metadata": {},
   "outputs": [],
   "source": []
  }
 ],
 "metadata": {
  "colab": {
   "provenance": []
  },
  "kernelspec": {
   "display_name": "Python 3 (ipykernel)",
   "language": "python",
   "name": "python3"
  },
  "language_info": {
   "codemirror_mode": {
    "name": "ipython",
    "version": 3
   },
   "file_extension": ".py",
   "mimetype": "text/x-python",
   "name": "python",
   "nbconvert_exporter": "python",
   "pygments_lexer": "ipython3",
   "version": "3.11.5"
  }
 },
 "nbformat": 4,
 "nbformat_minor": 5
}
