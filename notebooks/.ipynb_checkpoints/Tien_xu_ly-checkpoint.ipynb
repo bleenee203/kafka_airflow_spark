{
 "cells": [
  {
   "cell_type": "code",
   "execution_count": 1,
   "id": "cd236c83-409d-4808-9c00-d217457bb0f0",
   "metadata": {
    "id": "cd236c83-409d-4808-9c00-d217457bb0f0"
   },
   "outputs": [],
   "source": [
    "from pyspark.sql import SparkSession\n",
    "from pyspark.sql.functions import col, when, lit, sum\n",
    "from pyspark.ml.feature import StringIndexer\n",
    "from pyspark.sql import DataFrame\n",
    "from pyspark.sql.types import IntegerType"
   ]
  },
  {
   "cell_type": "code",
   "execution_count": 19,
   "id": "c53c7cc0-993f-4421-8e73-e66a82383d34",
   "metadata": {
    "id": "c53c7cc0-993f-4421-8e73-e66a82383d34",
    "outputId": "7f4e0a9b-486b-4fb5-f4a8-4d91b86bdceb"
   },
   "outputs": [],
   "source": [
    "\n",
    "spark = SparkSession.builder \\\n",
    "    .appName(\"KafkaSparkStreaming\") \\\n",
    "    .master(\"spark://spark-master:7077\") \\\n",
    "    .config(\"spark.serializer\", \"org.apache.spark.serializer.KryoSerializer\") \\\n",
    "    .getOrCreate()\n"
   ]
  },
  {
   "cell_type": "code",
   "execution_count": 31,
   "id": "35cff397-32e2-4775-ad58-375b3aaab6dd",
   "metadata": {
    "id": "35cff397-32e2-4775-ad58-375b3aaab6dd"
   },
   "outputs": [
    {
     "name": "stdout",
     "output_type": "stream",
     "text": [
      "+-------------------+----------+--------------------+--------------------+--------------------+-------------------------+------------------------+-----------------------------+----------------------------+-------------------------+------------------------+--------------------------+-------------------------+-----------------------------+-----------------------------+-----------------------------+-----------------------------+-----------------------------+------------+--------------------+--------------------+---------+--------+---------+----------+--------------------+\n",
      "|         crash_date|crash_time|      on_street_name|     off_street_name|   cross_street_name|number_of_persons_injured|number_of_persons_killed|number_of_pedestrians_injured|number_of_pedestrians_killed|number_of_cyclist_injured|number_of_cyclist_killed|number_of_motorist_injured|number_of_motorist_killed|contributing_factor_vehicle_1|contributing_factor_vehicle_2|contributing_factor_vehicle_3|contributing_factor_vehicle_4|contributing_factor_vehicle_5|collision_id|  vehicle_type_code1|  vehicle_type_code2|  borough|zip_code| latitude| longitude|            location|\n",
      "+-------------------+----------+--------------------+--------------------+--------------------+-------------------------+------------------------+-----------------------------+----------------------------+-------------------------+------------------------+--------------------------+-------------------------+-----------------------------+-----------------------------+-----------------------------+-----------------------------+-----------------------------+------------+--------------------+--------------------+---------+--------+---------+----------+--------------------+\n",
      "|2021-09-11 00:00:00|      2:39|WHITESTONE EXPRES...|           20 AVENUE|                null|                        2|                       0|                            0|                           0|                        0|                       0|                         2|                        0|         Aggressive Drivin...|                  Unspecified|                         null|                         null|                         null|     4455765|               Sedan|               Sedan|     null|    null|     null|      null|                null|\n",
      "|2022-03-26 00:00:00|     11:45|QUEENSBORO BRIDGE...|                null|                null|                        1|                       0|                            0|                           0|                        0|                       0|                         1|                        0|            Pavement Slippery|                         null|                         null|                         null|                         null|     4513547|               Sedan|                null|     null|    null|     null|      null|                null|\n",
      "|2022-06-29 00:00:00|      6:55|  THROGS NECK BRIDGE|                null|                null|                        0|                       0|                            0|                           0|                        0|                       0|                         0|                        0|         Following Too Clo...|                  Unspecified|                         null|                         null|                         null|     4541903|               Sedan|       Pick-up Truck|     null|    null|     null|      null|                null|\n",
      "|2021-09-11 00:00:00|      9:35|                null|                null|1211      LORING ...|                        0|                       0|                            0|                           0|                        0|                       0|                         0|                        0|                  Unspecified|                         null|                         null|                         null|                         null|     4456314|               Sedan|                null| BROOKLYN|   11208|40.667202|  -73.8665|{40.667202, -73.8...|\n",
      "|2021-12-14 00:00:00|      8:13|     SARATOGA AVENUE|      DECATUR STREET|                null|                        0|                       0|                            0|                           0|                        0|                       0|                         0|                        0|                         null|                         null|                         null|                         null|                         null|     4486609|                null|                null| BROOKLYN|   11233|40.683304|-73.917274|{40.683304, -73.9...|\n",
      "|2021-04-14 00:00:00|     12:47|MAJOR DEEGAN EXPR...|                null|                null|                        0|                       0|                            0|                           0|                        0|                       0|                         0|                        0|                  Unspecified|                  Unspecified|                         null|                         null|                         null|     4407458|                Dump|               Sedan|     null|    null|     null|      null|                null|\n",
      "|2021-12-14 00:00:00|     17:05|BROOKLYN QUEENS E...|                null|                null|                        0|                       0|                            0|                           0|                        0|                       0|                         0|                        0|          Passing Too Closely|                  Unspecified|                         null|                         null|                         null|     4486555|               Sedan|Tractor Truck Diesel|     null|    null|40.709183|-73.956825|{40.709183, -73.9...|\n",
      "|2021-12-14 00:00:00|      8:17|                null|                null|344       BAYCHES...|                        2|                       0|                            0|                           0|                        0|                       0|                         2|                        0|                  Unspecified|                  Unspecified|                         null|                         null|                         null|     4486660|               Sedan|               Sedan|    BRONX|   10475| 40.86816| -73.83148|{40.86816, -73.83...|\n",
      "|2021-12-14 00:00:00|     21:10|                null|                null|2047      PITKIN ...|                        0|                       0|                            0|                           0|                        0|                       0|                         0|                        0|          Driver Inexperience|                  Unspecified|                         null|                         null|                         null|     4487074|               Sedan|                null| BROOKLYN|   11207| 40.67172|  -73.8971|{40.67172, -73.89...|\n",
      "|2021-12-14 00:00:00|     14:58|            3 AVENUE|      EAST 43 STREET|                null|                        0|                       0|                            0|                           0|                        0|                       0|                         0|                        0|          Passing Too Closely|                  Unspecified|                         null|                         null|                         null|     4486519|               Sedan|Station Wagon/Spo...|MANHATTAN|   10017| 40.75144| -73.97397|{40.75144, -73.97...|\n",
      "|2021-12-13 00:00:00|      0:34|       MYRTLE AVENUE|                null|                null|                        0|                       0|                            0|                           0|                        0|                       0|                         0|                        0|         Passing or Lane U...|                  Unspecified|                         null|                         null|                         null|     4486934|Station Wagon/Spo...|                null|     null|    null|40.701275| -73.88887|{40.701275, -73.8...|\n",
      "|2021-12-14 00:00:00|     16:50|SPRINGFIELD BOULE...|     EAST GATE PLAZA|                null|                        0|                       0|                            0|                           0|                        0|                       0|                         0|                        0|           Turning Improperly|                  Unspecified|                         null|                         null|                         null|     4487127|               Sedan|Station Wagon/Spo...|   QUEENS|   11413|40.675884| -73.75577|{40.675884, -73.7...|\n",
      "|2021-12-14 00:00:00|      8:30|            broadway|west 80 street -w...|                null|                        0|                       0|                            0|                           0|                        0|                       0|                         0|                        0|         Unsafe Lane Changing|                  Unspecified|                         null|                         null|                         null|     4486634|Station Wagon/Spo...|               Sedan|     null|    null|     null|      null|                null|\n",
      "|2021-12-14 00:00:00|      0:59|        BELT PARKWAY|                null|                null|                        0|                       0|                            0|                           0|                        0|                       0|                         0|                        0|                 Unsafe Speed|                         null|                         null|                         null|                         null|     4486564|               Sedan|                null|     null|    null| 40.59662| -74.00231|{40.59662, -74.00...|\n",
      "|2021-12-14 00:00:00|     23:10|NORTH CONDUIT AVENUE|          150 STREET|                null|                        2|                       0|                            0|                           0|                        0|                       0|                         2|                        0|         Reaction to Uninv...|                  Unspecified|                         null|                         null|                         null|     4486635|               Sedan|               Sedan|   QUEENS|   11434| 40.66684| -73.78941|{40.66684, -73.78...|\n",
      "|2021-12-14 00:00:00|     17:58|                null|                null|480       DEAN ST...|                        0|                       0|                            0|                           0|                        0|                       0|                         0|                        0|          Passing Too Closely|                  Unspecified|                         null|                         null|                         null|     4486604|              Tanker|Station Wagon/Spo...| BROOKLYN|   11217| 40.68158| -73.97463|{40.68158, -73.97...|\n",
      "|2021-12-14 00:00:00|     20:03|                null|                null|878       FLATBUS...|                        4|                       0|                            0|                           0|                        0|                       0|                         4|                        0|             Steering Failure|                         null|                         null|                         null|                         null|     4486991|               Sedan|                null| BROOKLYN|   11226| 40.65068| -73.95881|{40.65068, -73.95...|\n",
      "|2021-12-14 00:00:00|      1:28|       MEEKER AVENUE|      LORIMER STREET|                null|                        3|                       0|                            0|                           0|                        0|                       0|                         3|                        0|         Traffic Control D...|                  Unspecified|                         null|                         null|                         null|     4486284|Station Wagon/Spo...|Station Wagon/Spo...|     null|    null|     null|      null|                null|\n",
      "|2021-12-11 00:00:00|     19:43|WEST KINGSBRIDGE ...|        HEATH AVENUE|                null|                        1|                       0|                            0|                           0|                        0|                       0|                         1|                        0|                  Unspecified|                  Unspecified|                         null|                         null|                         null|     4487040|Station Wagon/Spo...|               Sedan|    BRONX|   10463| 40.87262|-73.904686|{40.87262, -73.90...|\n",
      "|2021-12-14 00:00:00|     14:30|WHITESTONE EXPRES...|                null|                null|                        0|                       0|                            0|                           0|                        0|                       0|                         0|                        0|         Following Too Clo...|                  Unspecified|                  Unspecified|                         null|                         null|     4486537|Station Wagon/Spo...|               Sedan|     null|    null|40.783268| -73.82485|{40.783268, -73.8...|\n",
      "+-------------------+----------+--------------------+--------------------+--------------------+-------------------------+------------------------+-----------------------------+----------------------------+-------------------------+------------------------+--------------------------+-------------------------+-----------------------------+-----------------------------+-----------------------------+-----------------------------+-----------------------------+------------+--------------------+--------------------+---------+--------+---------+----------+--------------------+\n",
      "only showing top 20 rows\n",
      "\n"
     ]
    }
   ],
   "source": [
    "from pyspark.sql.functions import from_json, col\n",
    "from pyspark.sql.types import StructType, StructField, StringType, IntegerType, FloatType,TimestampType,DoubleType\n",
    "\n",
    "schema = StructType([ \n",
    "    StructField(\"crash_date\", TimestampType(), True),\n",
    "    StructField(\"crash_time\", StringType(), True), \n",
    "    StructField(\"on_street_name\", StringType(), True), \n",
    "    StructField(\"off_street_name\", StringType(), True), \n",
    "    StructField(\"cross_street_name\", StringType(), True), \n",
    "    StructField(\"number_of_persons_injured\", StringType(), True), \n",
    "    StructField(\"number_of_persons_killed\", StringType(), True), \n",
    "    StructField(\"number_of_pedestrians_injured\", StringType(), True), \n",
    "    StructField(\"number_of_pedestrians_killed\", StringType(), True), \n",
    "    StructField(\"number_of_cyclist_injured\", StringType(), True), \n",
    "    StructField(\"number_of_cyclist_killed\", StringType(), True), \n",
    "    StructField(\"number_of_motorist_injured\", StringType(), True), \n",
    "    StructField(\"number_of_motorist_killed\", StringType(), True), \n",
    "    StructField(\"contributing_factor_vehicle_1\", StringType(), True), \n",
    "    StructField(\"contributing_factor_vehicle_2\", StringType(), True),\n",
    "    StructField(\"contributing_factor_vehicle_3\", StringType(), True), \n",
    "    StructField(\"contributing_factor_vehicle_4\", StringType(), True), \n",
    "    StructField(\"contributing_factor_vehicle_5\", StringType(), True), \n",
    "    StructField(\"collision_id\", StringType(), True), \n",
    "    StructField(\"vehicle_type_code1\", StringType(), True), \n",
    "    StructField(\"vehicle_type_code2\", StringType(), True), \n",
    "    StructField(\"borough\", StringType(), True), \n",
    "    StructField(\"zip_code\", StringType(), True), \n",
    "    StructField(\"latitude\", StringType(), True), \n",
    "    StructField(\"longitude\", StringType(), True), \n",
    "    StructField(\"location\", StructType([ \n",
    "        StructField(\"latitude\", StringType(), True),\n",
    "        StructField(\"longitude\", StringType(), True), \n",
    "        StructField(\"human_address\", StringType(), True) ]), True) ])\n",
    "\n",
    "# Load the JSON file with the schema\n",
    "df = spark.read.schema(schema).option(\"multiline\", \"true\").json(\"hdfs://namenode:9000/raw_data/h9gi-nx95.json\")\n",
    "\n",
    "# Show the first few rows\n",
    "df.show()\n"
   ]
  },
  {
   "cell_type": "code",
   "execution_count": 37,
   "id": "189e59c1-272a-4641-808e-195fdcc99c4f",
   "metadata": {
    "id": "189e59c1-272a-4641-808e-195fdcc99c4f"
   },
   "outputs": [
    {
     "name": "stdout",
     "output_type": "stream",
     "text": [
      "Tổng số dòng: 1000\n",
      "Số dòng trùng lặp: 0\n"
     ]
    }
   ],
   "source": [
    "# Đếm tổng số dòng\n",
    "total_rows = df.count()\n",
    "\n",
    "# Đếm số dòng trùng lặp\n",
    "duplicate_rows = df.groupBy(df.columns).count().filter(\"count > 1\").count()\n",
    "\n",
    "# Hiển thị kết quả\n",
    "print(f\"Tổng số dòng: {total_rows}\")\n",
    "print(f\"Số dòng trùng lặp: {duplicate_rows}\")\n"
   ]
  },
  {
   "cell_type": "code",
   "execution_count": 38,
   "id": "a407a8e1-1647-43e7-97d6-47aec5fe0c3b",
   "metadata": {},
   "outputs": [
    {
     "name": "stdout",
     "output_type": "stream",
     "text": [
      "+----------+----------+--------------+---------------+-----------------+-------------------------+------------------------+-----------------------------+----------------------------+-------------------------+------------------------+--------------------------+-------------------------+-----------------------------+-----------------------------+-----------------------------+-----------------------------+-----------------------------+------------+------------------+------------------+-------+--------+--------+---------+--------+\n",
      "|crash_date|crash_time|on_street_name|off_street_name|cross_street_name|number_of_persons_injured|number_of_persons_killed|number_of_pedestrians_injured|number_of_pedestrians_killed|number_of_cyclist_injured|number_of_cyclist_killed|number_of_motorist_injured|number_of_motorist_killed|contributing_factor_vehicle_1|contributing_factor_vehicle_2|contributing_factor_vehicle_3|contributing_factor_vehicle_4|contributing_factor_vehicle_5|collision_id|vehicle_type_code1|vehicle_type_code2|borough|zip_code|latitude|longitude|location|\n",
      "+----------+----------+--------------+---------------+-----------------+-------------------------+------------------------+-----------------------------+----------------------------+-------------------------+------------------------+--------------------------+-------------------------+-----------------------------+-----------------------------+-----------------------------+-----------------------------+-----------------------------+------------+------------------+------------------+-------+--------+--------+---------+--------+\n",
      "|         0|         0|           258|            549|              742|                        0|                       0|                            0|                           0|                        0|                       0|                         0|                        0|                            3|                          230|                          909|                          973|                          994|           0|                14|               345|    367|     368|      76|       76|      76|\n",
      "+----------+----------+--------------+---------------+-----------------+-------------------------+------------------------+-----------------------------+----------------------------+-------------------------+------------------------+--------------------------+-------------------------+-----------------------------+-----------------------------+-----------------------------+-----------------------------+-----------------------------+------------+------------------+------------------+-------+--------+--------+---------+--------+\n",
      "\n"
     ]
    }
   ],
   "source": [
    "#Kiem tra du lieu thieu\n",
    "missing_counts = df.select([sum(col(c).isNull().cast(\"int\")).alias(c) for c in df.columns])\n",
    "missing_counts.show()"
   ]
  },
  {
   "cell_type": "code",
   "execution_count": 39,
   "id": "8641285a-9339-45bb-992b-8669bbcb081a",
   "metadata": {},
   "outputs": [
    {
     "data": {
      "text/plain": [
       "454"
      ]
     },
     "execution_count": 39,
     "metadata": {},
     "output_type": "execute_result"
    }
   ],
   "source": [
    "# total_injuries = df.selectExpr(\"sum(number_of_cyclist_injured) as total_injuries\").collect()[0][\"total_injuries\"]\n",
    "# print(\"Total number of persons injured:\", total_injuries)\n",
    "df = df.withColumn(\"number_of_persons_injured\", df[\"number_of_persons_injured\"].cast(\"int\")) # Calculate the total number of persons injured \n",
    "total_injured = df.agg({\"number_of_persons_injured\": \"sum\"}).collect()[0][0]\n",
    "total_injured"
   ]
  },
  {
   "cell_type": "code",
   "execution_count": 36,
   "id": "71dd4833-59fc-4346-9aad-ab7d264d9359",
   "metadata": {},
   "outputs": [
    {
     "data": {
      "text/plain": [
       "4"
      ]
     },
     "execution_count": 36,
     "metadata": {},
     "output_type": "execute_result"
    }
   ],
   "source": [
    "# total_kill = df.selectExpr(\"sum(number_of_persons_killed) as total_kill\").collect()[0][\"total_kill\"]\n",
    "# print(\"Total number of persons killed:\", total_kill)\n",
    "df = df.withColumn(\"number_of_persons_killed\", df[\"number_of_persons_killed\"].cast(\"int\")) \n",
    "total_killed = df.agg({\"number_of_persons_killed\": \"sum\"}).collect()[0][0]\n",
    "total_killed"
   ]
  },
  {
   "cell_type": "code",
   "execution_count": null,
   "id": "403f395b-7cd2-477c-b371-4d2def0c7030",
   "metadata": {
    "id": "403f395b-7cd2-477c-b371-4d2def0c7030"
   },
   "outputs": [],
   "source": [
    "df.show()"
   ]
  },
  {
   "cell_type": "code",
   "execution_count": null,
   "id": "403f395b-7cd2-477c-b371-4d2def0c70301",
   "metadata": {
    "id": "403f395b-7cd2-477c-b371-4d2def0c70301"
   },
   "outputs": [],
   "source": [
    "df.printSchema()"
   ]
  },
  {
   "cell_type": "code",
   "execution_count": null,
   "id": "2df7a695-ad47-487a-af89-db60a690c15f",
   "metadata": {
    "id": "2df7a695-ad47-487a-af89-db60a690c15f"
   },
   "outputs": [],
   "source": [
    "df = df.withColumn('is_injured',\n",
    "                   when((col('number_of_persons_injured') + col('number_of_persons_killed')) > 0, 1).otherwise(0))"
   ]
  },
  {
   "cell_type": "code",
   "execution_count": null,
   "id": "c9c9a008-c075-4bd7-8f8e-5403c1f8a607",
   "metadata": {
    "id": "c9c9a008-c075-4bd7-8f8e-5403c1f8a607"
   },
   "outputs": [],
   "source": [
    "# Xoa nhung cot khong can thiet\n",
    "cols_to_drop = ['latitude', 'longitude', 'on_street_name', 'off_street_name', 'number_of_persons_injured', 'number_of_pedestrians_killed',\n",
    "                'number_of_cyclist_injured', 'number_of_motorist_injured', 'number_of_motorist_killed',\n",
    "                'vehicle_type_code3', 'vehicle_type_code4', 'vehicle_type_code5',\n",
    "                'crash_date', 'crash_time', 'number_of_persons_killed', 'number_of_pedestrians_injured',\n",
    "                'number_of_cyclist_killed']\n",
    "df_dropped_cols = df.drop(*cols_to_drop)"
   ]
  },
  {
   "cell_type": "code",
   "execution_count": null,
   "id": "3adcdb95-3f69-4808-957f-cdbd433248b9",
   "metadata": {},
   "outputs": [],
   "source": []
  },
  {
   "cell_type": "code",
   "execution_count": null,
   "id": "b440b7c0-4f3f-4a32-86fe-6c4f5c16c4ca",
   "metadata": {
    "id": "b440b7c0-4f3f-4a32-86fe-6c4f5c16c4ca"
   },
   "outputs": [],
   "source": [
    "#Kiem tra du lieu thieu\n",
    "missing_counts = df_dropped_cols.select([sum(col(c).isNull().cast(\"int\")).alias(c) for c in df_dropped_cols.columns])\n",
    "missing_counts.show()"
   ]
  },
  {
   "cell_type": "code",
   "execution_count": null,
   "id": "106f25f9-a31f-4940-81cb-80488015a8c1",
   "metadata": {
    "id": "106f25f9-a31f-4940-81cb-80488015a8c1"
   },
   "outputs": [],
   "source": [
    "#Fill du lieu thieu bang gia tri mode\n",
    "categorical_cols = ['contributing_factor_vehicle_1', 'contributing_factor_vehicle_2',\n",
    "                    'vehicle_type_code1', 'vehicle_type_code2', 'borough']\n",
    "\n",
    "# for col_name in categorical_cols:\n",
    "#     # Get the mode value and bring it to the driver\n",
    "#     mode_value = df_dropped_cols.groupBy(col_name).count().orderBy('count', ascending=False).first()[0]\n",
    "#     # Fill missing values with the mode\n",
    "#     df_dropped_cols = df_dropped_cols.fillna({col_name: mode_value})\n",
    "for col_name in categorical_cols:\n",
    "    # Lấy mode\n",
    "    mode_row = df_dropped_cols.groupBy(col_name).count().orderBy('count', ascending=False).first()\n",
    "    \n",
    "    # Kiểm tra nếu mode_row và mode_value không phải là None\n",
    "    if mode_row is not None and mode_row[0] is not None:\n",
    "        mode_value = mode_row[0]\n",
    "    else:\n",
    "        # Nếu không có mode, sử dụng giá trị 0\n",
    "        mode_value = 0\n",
    "    \n",
    "    # Điền giá trị thiếu bằng mode hoặc 0\n",
    "    df_dropped_cols = df_dropped_cols.fillna({col_name: mode_value})\n"
   ]
  },
  {
   "cell_type": "code",
   "execution_count": null,
   "id": "541a9a57-9b8c-43e5-81bc-8ab0ec8a8580",
   "metadata": {
    "id": "541a9a57-9b8c-43e5-81bc-8ab0ec8a8580"
   },
   "outputs": [],
   "source": [
    "#Ma hoa du lieu bien phan loai\n",
    "def encode_categorical_cols(df: DataFrame, categorical_cols: list) -> DataFrame:\n",
    "    for col_name in categorical_cols:\n",
    "        indexer = StringIndexer(inputCol=col_name, outputCol=col_name + \"_encoded\", handleInvalid='keep')\n",
    "        df = indexer.fit(df).transform(df)\n",
    "    return df\n",
    "\n",
    "df_encoded = encode_categorical_cols(df_dropped_cols, categorical_cols)"
   ]
  },
  {
   "cell_type": "code",
   "execution_count": null,
   "id": "1040c4ce-cb9b-4fb8-9f3d-b607e60aa959",
   "metadata": {
    "id": "1040c4ce-cb9b-4fb8-9f3d-b607e60aa959"
   },
   "outputs": [],
   "source": [
    "df_final = df_encoded.drop(*categorical_cols)"
   ]
  },
  {
   "cell_type": "code",
   "execution_count": null,
   "id": "d45d68a5-0d4e-4cdb-9cf0-984792b8ce49",
   "metadata": {},
   "outputs": [],
   "source": [
    "# Kiểm tra lại lần nữa xem còn giá trị null không\n",
    "missing_counts = df_final.select([sum(col(c).isNull().cast(\"int\")).alias(c) for c in df_final.columns])\n",
    "missing_counts.show()"
   ]
  },
  {
   "cell_type": "code",
   "execution_count": null,
   "id": "ddc9130a-dbd0-458c-afee-f3954b1ff98f",
   "metadata": {},
   "outputs": [],
   "source": [
    "# #Nếu còn dữ liệu null thì xóa các dòng đó đi\n",
    "# df_final = df_final.drop(how ='any', thresh=None, subset=None)\n",
    "# df_final.toPandas().info()"
   ]
  },
  {
   "cell_type": "code",
   "execution_count": null,
   "id": "752dc7cb-61d3-4b46-a947-47fc16807d00",
   "metadata": {},
   "outputs": [],
   "source": [
    "df_final.show()"
   ]
  },
  {
   "cell_type": "code",
   "execution_count": null,
   "id": "bbab61b7-3559-4c5e-bbc0-4599c6bf41b0",
   "metadata": {},
   "outputs": [],
   "source": [
    "#Đưa ra thống kê cơ bản\n",
    "df_final.describe().toPandas().transpose()"
   ]
  },
  {
   "cell_type": "code",
   "execution_count": null,
   "id": "90944ecb-6b83-4ed8-93c4-02ef37f092f4",
   "metadata": {
    "id": "90944ecb-6b83-4ed8-93c4-02ef37f092f4"
   },
   "outputs": [],
   "source": [
    "# feature\n",
    "x = df_final.drop(\"is_injured\")\n",
    "# label\n",
    "y = df_final.select(\"is_injured\")"
   ]
  },
  {
   "cell_type": "code",
   "execution_count": null,
   "id": "27fde987-fe26-42d5-a5d1-168f63ff7745",
   "metadata": {},
   "outputs": [],
   "source": []
  }
 ],
 "metadata": {
  "colab": {
   "provenance": []
  },
  "kernelspec": {
   "display_name": "Python 3 (ipykernel)",
   "language": "python",
   "name": "python3"
  },
  "language_info": {
   "codemirror_mode": {
    "name": "ipython",
    "version": 3
   },
   "file_extension": ".py",
   "mimetype": "text/x-python",
   "name": "python",
   "nbconvert_exporter": "python",
   "pygments_lexer": "ipython3",
   "version": "3.11.5"
  }
 },
 "nbformat": 4,
 "nbformat_minor": 5
}
